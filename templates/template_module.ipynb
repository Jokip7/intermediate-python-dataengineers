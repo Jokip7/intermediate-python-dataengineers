{
 "cells": [
  {
   "cell_type": "markdown",
   "id": "c4a62ea0",
   "metadata": {},
   "source": [
    "Deze Jupyter Notebook bevat voorbeelden van hoe we de verschillende modules gaan opzetten.\n",
    "We willen namelijk dat er een zo vergelijkbare mogelijke structuur zit in de trainingen die we gaan ontwikkelen.\n",
    "Probeer zoveel mogelijk de onderstaande structuren te gebruiken.\n",
    "\n",
    "In principe volgen we altijd dezelfde structuur. Namelijk eerst de theorie of het concept uitleggen, vervolgens een stukje voorbeeldcode, en daarna een (aantal) opdracht(en) om de deelnemer het concept aan te leren.\n",
    "\n",
    "#### Theorie\n",
    "\n",
    "Probeer de theorie altijd zo duidelijk mogelijk te maken. Filmpjes en plaatjes zijn zeker gewenst en kunnen gewoon gebruikt worden. Ook is het belangrijk om op een gegeven moment ook de documentatie van sommige packages/libraries te noemen. \n",
    "\n",
    "Ook is het handig om niet teveel theorie in één keer te doen. Probeer het vooral interactief te houden met veel afwisseling.\n",
    "\n",
    "\n",
    "#### Voorbeeldcode\n",
    "\n",
    "Voorbeeldcode hoeft niet uitgevoerd te worden door de kandidaten, en kan daardoor ingebed worden in de markdown. We willen de deelnemers zoveel mogelijk zelf laten intypen, zo leer je het meeste tijdens programmeren.\n",
    "\n",
    "Stukjes voorbeeldcode moeten niet te groot zijn, en duidelijk. \n",
    "\n",
    "```python\n",
    "### CODE EXAMPLE\n",
    "import requests\n",
    "\n",
    "url = \"blabalbalbalabl.com\"\n",
    "requests.get(url)\n",
    "\n",
    "```\n",
    "\n"
   ]
  },
  {
   "cell_type": "markdown",
   "id": "2e532e46",
   "metadata": {},
   "source": [
    "#### Opdracht\n",
    "\n",
    "Een opdracht of een reeks opdrachten kunnen van alles zijn.\n",
    "Het is de bedoeling dat naarmate de training vordert, dat de opdrachten ook steeds moeilijker worden, en ook concepten gaan combineren.\n",
    "Probeer de opdracht altijd zo duidelijk mogelijk te maken, en probeer binnen het code blok aan te geven waar de deelnemer code moet invullen (zoals in het onderstaande voorbeeld)."
   ]
  },
  {
   "cell_type": "markdown",
   "id": "484eb348",
   "metadata": {},
   "source": [
    "##### Opdracht 1\n",
    "Gebruik de requests module om van de volgende API een resultaat op te halen."
   ]
  },
  {
   "cell_type": "code",
   "execution_count": null,
   "id": "dcdebac5",
   "metadata": {},
   "outputs": [],
   "source": [
    "import requests\n",
    "\n",
    "### FILL IN; START\n",
    "\n",
    "\n",
    "### FILL IN; END"
   ]
  },
  {
   "cell_type": "code",
   "execution_count": null,
   "id": "25cea120",
   "metadata": {},
   "outputs": [],
   "source": []
  },
  {
   "cell_type": "code",
   "execution_count": null,
   "id": "92ff22b9",
   "metadata": {},
   "outputs": [],
   "source": []
  }
 ],
 "metadata": {
  "kernelspec": {
   "display_name": "Python 3 (ipykernel)",
   "language": "python",
   "name": "python3"
  },
  "language_info": {
   "codemirror_mode": {
    "name": "ipython",
    "version": 3
   },
   "file_extension": ".py",
   "mimetype": "text/x-python",
   "name": "python",
   "nbconvert_exporter": "python",
   "pygments_lexer": "ipython3",
   "version": "3.9.4"
  }
 },
 "nbformat": 4,
 "nbformat_minor": 5
}
