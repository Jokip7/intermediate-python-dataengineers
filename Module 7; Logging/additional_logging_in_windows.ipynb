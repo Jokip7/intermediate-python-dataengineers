{
 "cells": [
  {
   "cell_type": "code",
   "execution_count": null,
   "metadata": {},
   "outputs": [],
   "source": [
    "%pip install pywin32"
   ]
  },
  {
   "cell_type": "code",
   "execution_count": null,
   "metadata": {},
   "outputs": [],
   "source": [
    "import logging\n",
    "import win32evtlogutil\n",
    "import win32api\n",
    "import win32con\n",
    "\n",
    "# create a logger\n",
    "logger = logging.getLogger()\n",
    "logger.setLevel(logging.INFO)\n",
    "\n",
    "# create a handler to write log messages to the Windows Event Log\n",
    "handler = win32evtlogutil.LoggingEventHandler('MyApplication')\n",
    "\n",
    "# add the handler to the logger\n",
    "logger.addHandler(handler)\n",
    "\n",
    "# use the logger to output log messages\n",
    "logger.info('This is a test message')\n"
   ]
  }
 ],
 "metadata": {
  "language_info": {
   "name": "python"
  },
  "orig_nbformat": 4
 },
 "nbformat": 4,
 "nbformat_minor": 2
}
