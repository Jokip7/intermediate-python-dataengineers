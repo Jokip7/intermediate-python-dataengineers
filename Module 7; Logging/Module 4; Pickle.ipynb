{
 "cells": [
  {
   "cell_type": "markdown",
   "id": "d4005a29",
   "metadata": {},
   "source": [
    "# Module 7: Logging\n",
    "\n",
    "### Introduction\n",
    "As a programmer, you often check the status of the output of your code. Furthermore, it is often a good idea to check the status of variables at certain point in your code. In Python, this is often done with the function *print()*. While this is a good way of checking the status of variables or your output, it only exists in the environment (may it be a Python console, a terminal, an IDE or otherwise) you are working in. If you ever close the environment, the print statements are gone forever.\n",
    "\n",
    "Sometimes, you want to store these outputs for a longer term. This is where the logging library comes in. In this module you will learn:\n",
    "\n",
    "1. Difference between print and logging\n",
    "2. The different levels of logging\n",
    "3. Creating a logger \n",
    "4. Changing the format of a logger\n",
    "5. How to store output of a logger in a .log file\n",
    "\n",
    "\n",
    "Enjoy!"
   ]
  },
  {
   "cell_type": "code",
   "execution_count": 1,
   "id": "55fbdd93",
   "metadata": {},
   "outputs": [],
   "source": [
    "# Import all the packages needed for this module\n",
    "import logging"
   ]
  },
  {
   "cell_type": "markdown",
   "id": "9ab55d06",
   "metadata": {},
   "source": [
    "# Section 1: Difference between print and logging\n",
    "\n",
    "Let's first see how print is usually used in a simple example. \n",
    "##### ASSIGNMENT 1: loop through names and scores, and use print() to display each name and its score. "
   ]
  },
  {
   "cell_type": "code",
   "execution_count": 2,
   "id": "491ba9eb",
   "metadata": {},
   "outputs": [
    {
     "name": "stdout",
     "output_type": "stream",
     "text": [
      "Alice has a score of 100.\n",
      "Bas has a score of 90.\n",
      "Cedric has a score of 95.\n",
      "Dora has a score of 110.\n",
      "Eric has a score of 75.\n",
      "Faye has a score of 85.\n"
     ]
    }
   ],
   "source": [
    "scores = [100, 90, 95, 110, 75, 85]\n",
    "names = ['Alice', 'Bas', 'Cedric', 'Dora', 'Eric', 'Faye']\n",
    "\n",
    "#### ADD YOUR CODE HERE ####\n",
    "for i in range(len(scores)):\n",
    "    print(f'{names[i]} has a score of {scores[i]}.')\n"
   ]
  },
  {
   "cell_type": "markdown",
   "id": "efcf6544",
   "metadata": {},
   "source": [
    "Now let's try and display the same info, but then with logging. To display the information, try the following method: logging.info().\n",
    "\n",
    "##### ASSIGNMENT 2: use logging.info() to try and display the same info as with print()"
   ]
  },
  {
   "cell_type": "code",
   "execution_count": 3,
   "id": "cc6d9d0c",
   "metadata": {},
   "outputs": [],
   "source": [
    "#### ADD YOUR CODE HERE ####\n",
    "for i in range(len(scores)):\n",
    "    logging.info(f'{names[i]} has a score of {scores[i]}.')"
   ]
  },
  {
   "cell_type": "markdown",
   "id": "6b640b6e",
   "metadata": {},
   "source": [
    "Hmm... there seems to be no output. Let's try another method: logging.warning()\n",
    "\n",
    "##### ASSIGNMENT 3: use logging.warning() to try and display the same info as with print() "
   ]
  },
  {
   "cell_type": "code",
   "execution_count": 4,
   "id": "65921688",
   "metadata": {},
   "outputs": [
    {
     "name": "stderr",
     "output_type": "stream",
     "text": [
      "WARNING:root:Alice has a score of 100.\n",
      "WARNING:root:Bas has a score of 90.\n",
      "WARNING:root:Cedric has a score of 95.\n",
      "WARNING:root:Dora has a score of 110.\n",
      "WARNING:root:Eric has a score of 75.\n",
      "WARNING:root:Faye has a score of 85.\n"
     ]
    }
   ],
   "source": [
    "#### ADD YOUR CODE HERE ####\n",
    "for i in range(len(scores)):\n",
    "    logging.warning(f'{names[i]} has a score of {scores[i]}.')"
   ]
  },
  {
   "cell_type": "markdown",
   "id": "19891f3f",
   "metadata": {},
   "source": [
    "Bingo! We got the output we wanted, and some extra information you might not recognize immediately. For instance, every displayed sentence starts with *'WARNING'* followed by *:root:*.\n",
    "\n",
    "At this point, logging seems like a really convoluted to display information that can also be done with print. However, in the next section it will be explained what the difference between info() and warning() is, and why that can be useful!"
   ]
  },
  {
   "cell_type": "markdown",
   "id": "574e57bf",
   "metadata": {},
   "source": [
    "# Section 2: The different levels of logging\n",
    "\n",
    "As seen in the assignments above, there are at least two ways of displaying information with logging, namely info() and warning(). But there are just two of the six different levels of logging. Below is an overview of all levels:\n",
    "\n",
    "|   Level  | Numeric value |\n",
    "|:--------:|:-------------:|\n",
    "| CRITICAL | 50            |\n",
    "| ERROR    | 40            |\n",
    "| WARNING  | 30            |\n",
    "| INFO     | 20            |\n",
    "| DEBUG    | 10            |\n",
    "| NOTSET   | 0             |\n",
    "\n",
    "Let's try out all levels!\n",
    "\n",
    "##### ASSIGNMENT 4: print the statement below on all different levels (excluding NOTSET, since it has no method coupled to it)\n",
    "\n",
    "*Hint: use similar method calls as the one you used in previous assignments*\n"
   ]
  },
  {
   "cell_type": "code",
   "execution_count": 5,
   "id": "3806e673",
   "metadata": {},
   "outputs": [
    {
     "name": "stderr",
     "output_type": "stream",
     "text": [
      "CRITICAL:root:This is the best logging tutorial ever created.\n",
      "ERROR:root:This is the best logging tutorial ever created.\n",
      "WARNING:root:This is the best logging tutorial ever created.\n"
     ]
    }
   ],
   "source": [
    "statement = 'This is the best logging tutorial ever created.'\n",
    "\n",
    "#### ADD YOUR CODE HERE ####\n",
    "logging.critical(statement)\n",
    "logging.error(statement)\n",
    "logging.warning(statement)\n",
    "logging.info(statement)\n",
    "logging.debug(statement)"
   ]
  },
  {
   "cell_type": "markdown",
   "id": "7b5b97c0",
   "metadata": {},
   "source": [
    "### **Theory: why do not all levels display information as output?**\n",
    "\n",
    "As can be seen in the assignment above, two levels of logging do not seem to display any information. This is because the default logger that is created by logging is set to only display messages that are logged on level 30 (i.e. warning) or higher (i.e error and critical).\n",
    "\n",
    "In most cases, you also want to display info messages, or even debug messages. This is not possible with the default logger. So we need to create one on our own. Let's do that in the next section"
   ]
  },
  {
   "cell_type": "markdown",
   "id": "5e99df01",
   "metadata": {},
   "source": [
    "# Section 3: Creating a logger\n",
    "Until now, every logging statement has been displayed by using logging.*level*(). It is best practice however, to create your own logger.\n",
    "\n",
    "This can be done with the getLogger() function. There are multiple parameters that can be set to a logger as well. For instance, what levels to display. This solves the issue where logging did not display the information even though we wanted it to.\n",
    "\n",
    "Let's create a logger now!\n",
    "\n",
    "##### ASSIGNMENT 5: create a logger called logger with logging.getLogger()"
   ]
  },
  {
   "cell_type": "code",
   "execution_count": 6,
   "id": "8939439d",
   "metadata": {},
   "outputs": [],
   "source": [
    "#### ADD YOUR CODE HERE ####\n",
    "logger = logging.getLogger()"
   ]
  },
  {
   "cell_type": "markdown",
   "id": "f57cc7c8",
   "metadata": {},
   "source": [
    "##### ASSIGNMENT 6: set the level of the logger to debug. This can be done with the setLevel() method."
   ]
  },
  {
   "cell_type": "code",
   "execution_count": 7,
   "id": "459d4e6d",
   "metadata": {},
   "outputs": [],
   "source": [
    "logger.setLevel('DEBUG')"
   ]
  },
  {
   "cell_type": "markdown",
   "id": "f9c9b512",
   "metadata": {},
   "source": [
    "##### ASSIGNMENT 7: print another statement on all different logging levels, but now use the logger you created instead of logging."
   ]
  },
  {
   "cell_type": "code",
   "execution_count": 8,
   "id": "e845e3ad",
   "metadata": {},
   "outputs": [
    {
     "name": "stderr",
     "output_type": "stream",
     "text": [
      "CRITICAL:root:I bet even debug level will print this.\n",
      "ERROR:root:I bet even debug level will print this.\n",
      "WARNING:root:I bet even debug level will print this.\n",
      "INFO:root:I bet even debug level will print this.\n",
      "DEBUG:root:I bet even debug level will print this.\n"
     ]
    }
   ],
   "source": [
    "statement2 = 'I bet even debug level will print this.'\n",
    "\n",
    "#### ADD YOUR CODE HERE ####\n",
    "logger.critical(statement2)\n",
    "logger.error(statement2)\n",
    "logger.warning(statement2)\n",
    "logger.info(statement2)\n",
    "logger.debug(statement2)"
   ]
  },
  {
   "cell_type": "markdown",
   "id": "73bb3e4c",
   "metadata": {},
   "source": [
    "## THEORY: use logger.*method*() or logging.*method*()?\n",
    "\n",
    "Now that you have created a logger, try running the code of Assignments 2,3 and 4 again. It should now display all the information it previously didn't. \n",
    "\n",
    "This is because since you've replaced a root logger. The root logger is also used by logging.*method*() itself. YOu can see this, because the name of the logger is always displayed in the output as well.\n",
    "\n",
    "To make it less confusing, it is possible to create a logger with its own name. Let's do that now.\n",
    "\n",
    "##### ASSIGNMENT 8: create a logger with its own name by adding the *name=* parameter in the getLogger() function and set its level to INFO."
   ]
  },
  {
   "cell_type": "code",
   "execution_count": 9,
   "id": "f246ea2f",
   "metadata": {},
   "outputs": [],
   "source": [
    "logger = logging.getLogger(name='logger_name')\n",
    "logger.setLevel('INFO')"
   ]
  },
  {
   "cell_type": "markdown",
   "id": "4154e788",
   "metadata": {},
   "source": [
    "##### ASSIGNMENT 9: print the statement on all different levels again."
   ]
  },
  {
   "cell_type": "code",
   "execution_count": 10,
   "id": "88448bc6",
   "metadata": {},
   "outputs": [
    {
     "name": "stderr",
     "output_type": "stream",
     "text": [
      "CRITICAL:logger_name:I bet even debug level will print this.\n",
      "ERROR:logger_name:I bet even debug level will print this.\n",
      "WARNING:logger_name:I bet even debug level will print this.\n",
      "INFO:logger_name:I bet even debug level will print this.\n"
     ]
    }
   ],
   "source": [
    "statement2 = 'I bet even debug level will print this.'\n",
    "\n",
    "#### ADD YOUR CODE HERE ####\n",
    "logger.critical(statement2)\n",
    "logger.error(statement2)\n",
    "logger.warning(statement2)\n",
    "logger.info(statement2)\n",
    "logger.debug(statement2)"
   ]
  },
  {
   "cell_type": "markdown",
   "id": "59c33bf0",
   "metadata": {},
   "source": [
    "Please notice two things in this output:\n",
    "1. the name of the logger is now between colons instead of *root*.\n",
    "2. since level is set to INFO, the debug output is not displayed. \n",
    "\n",
    "It is always best practice when creating your own logger to give it a suitable name so that is can be easily distinguished and doesn't overwrite the root logger."
   ]
  },
  {
   "cell_type": "markdown",
   "id": "0715e328",
   "metadata": {},
   "source": [
    "# Section 4: basicConfig and Handlers of a logger\n",
    " \n",
    "As you noticed by now, there is a default format in which a logger outputs information, which is:\n",
    "\n",
    "    \"%(levelname)s:%(name)s:%(message)s\"  \n",
    "\n",
    "This format is written in an ancient (i.e. Python2.7) style of string formatting, so it might be a bit hard to read, but should make sense considering you have seen the output it gives.\n",
    "\n",
    "Furthermore, the logger we've created automatically outputs in the console (or in the case of notebooks, the cell), and not yet stored in a file. This is because the default handler that is given to a logger is the StreamHandler, which sends all output to [sys.stderr](https://en.wikipedia.org/wiki/Standard_streams#Standard_error_(stderr)) (this basically means to the terminal, console or notebook cell you are working in).\n",
    "\n",
    "Let's now see how we can change the output format of the logger. This is done in multiple steps: \n",
    "* create a handler (we will use a SteamHandler)\n",
    "* create a new format as a string\n",
    "* add the format to the handler\n",
    "* add the handler to the logger we created\n",
    "\n",
    "##### ASSIGNMENT 10: create a new Streamhandler with logging.StreamHandler()"
   ]
  },
  {
   "cell_type": "code",
   "execution_count": 11,
   "id": "8fd73b18",
   "metadata": {},
   "outputs": [],
   "source": [
    "#### ADD YOUR CODE HERE ####\n",
    "stream_handler = logging.StreamHandler()"
   ]
  },
  {
   "cell_type": "markdown",
   "id": "8213ca1b",
   "metadata": {},
   "source": [
    "##### ASSIGNMENT 11: create a Formatter that includes a timestamp, based on the default string mentioned above. \n",
    "\n",
    "*Hint: %(asctime)s can be used to add a timestamp to the format.* "
   ]
  },
  {
   "cell_type": "code",
   "execution_count": 12,
   "id": "7ad556b9",
   "metadata": {},
   "outputs": [],
   "source": [
    "#### ADD YOUR CODE HERE ####\n",
    "new_format = '%(asctime)s - %(levelname)s - %(name)s - %(message)s'\n",
    "#### STOP ADDING YOUR CODE HERE ####\n",
    "\n",
    "new_format = logging.Formatter(new_format)"
   ]
  },
  {
   "cell_type": "markdown",
   "id": "0208941b",
   "metadata": {},
   "source": [
    "##### ASSIGNMENT 12: Add the new format to the handler. This can be done with the setFormatter() method of a handler. "
   ]
  },
  {
   "cell_type": "code",
   "execution_count": 13,
   "id": "ac300536",
   "metadata": {},
   "outputs": [],
   "source": [
    "#### ADD YOUR CODE HERE ####\n",
    "stream_handler.setFormatter(new_format)"
   ]
  },
  {
   "cell_type": "markdown",
   "id": "f808c5d8",
   "metadata": {},
   "source": [
    "##### ASSIGNMENT 13: Add the handler to your logger. This can be done with the addHandler() method of a logger. "
   ]
  },
  {
   "cell_type": "code",
   "execution_count": 14,
   "id": "ff8940a1",
   "metadata": {},
   "outputs": [],
   "source": [
    "del logger"
   ]
  },
  {
   "cell_type": "code",
   "execution_count": 15,
   "id": "16cd2f7d",
   "metadata": {},
   "outputs": [],
   "source": [
    "logger = logging.getLogger(name='logger_name')\n",
    "logger.setLevel('INFO')"
   ]
  },
  {
   "cell_type": "code",
   "execution_count": 16,
   "id": "123ae998",
   "metadata": {},
   "outputs": [],
   "source": [
    "logger.addHandler(stream_handler)"
   ]
  },
  {
   "cell_type": "code",
   "execution_count": 17,
   "id": "0c95e871",
   "metadata": {},
   "outputs": [
    {
     "name": "stderr",
     "output_type": "stream",
     "text": [
      "2022-06-26 20:01:42,538 - CRITICAL - logger_name - I bet even debug level will print this.\n",
      "CRITICAL:logger_name:I bet even debug level will print this.\n"
     ]
    }
   ],
   "source": [
    "statement2 = 'I bet even debug level will print this.'\n",
    "\n",
    "#### ADD YOUR CODE HERE ####\n",
    "logger.critical(statement2)"
   ]
  },
  {
   "cell_type": "markdown",
   "id": "d9382ac7",
   "metadata": {},
   "source": [
    "DOUBLE OUTPUT HERE ONLY IF ROOTLOGGER IS EDITED. FIND NICE SOLUTION HERE"
   ]
  },
  {
   "cell_type": "code",
   "execution_count": 78,
   "id": "d4b39532",
   "metadata": {},
   "outputs": [
    {
     "data": {
      "text/plain": [
       "1"
      ]
     },
     "execution_count": 78,
     "metadata": {},
     "output_type": "execute_result"
    }
   ],
   "source": [
    "len(logger.handlers)"
   ]
  },
  {
   "cell_type": "markdown",
   "id": "ffc295e7",
   "metadata": {},
   "source": [
    "## THEORY: how to change the default format of a logger?\n",
    "As you noticed by now, there is a default format in which a logger outputs information, which is:\n",
    "\n",
    "    \"%(levelname)s:%(name)s:%(message)s\"  \n",
    "\n",
    "This format is still writting in an old style of string formatting, so it might be a bit hard to read.\n",
    "\n",
    " Furthermore, it is stored in the basicConfig of a logger. This can but can be overwritten to change to your needs. For instance, you might want to display a timestamp with the message that was logged. Let's do that now!\n",
    "\n",
    "##### ASSIGNMENT 10: create a new format that includes a timestamp for your logger that includes time and change the format with basicConfig.\n",
    "\n",
    "*Hint: %(asctime)s can be used to add a timestamp to the format.* "
   ]
  },
  {
   "cell_type": "code",
   "execution_count": 40,
   "id": "6a22e8f7",
   "metadata": {},
   "outputs": [],
   "source": [
    "#### ADD YOUR CODE HERE ####\n",
    "format = '%(asctime)s - %(levelname)s:%(name)s - %(message)s'\n",
    "#### STOP ADDING CODE HERE ####\n",
    "\n",
    "logging.basicConfig(format=format)"
   ]
  },
  {
   "cell_type": "code",
   "execution_count": 43,
   "id": "fe1b8538",
   "metadata": {},
   "outputs": [
    {
     "name": "stderr",
     "output_type": "stream",
     "text": [
      "WARNING:logger_name:help\n"
     ]
    }
   ],
   "source": [
    "logger.warning('help')"
   ]
  },
  {
   "cell_type": "markdown",
   "id": "7e3171af",
   "metadata": {},
   "source": [
    "Most likely, you cannot make any sense of the file contents. This is because pickle files are Python Objects that are serialized into a byte stream. The printed content shows the actual bytes.\n",
    "\n",
    "When you are unsure with what kind of data object you are working with, it is often a good choice to check the data type with 'type()'. \n",
    "\n",
    "##### ASSIGNMENT 3: print the file type of each pickled file with type() "
   ]
  },
  {
   "cell_type": "code",
   "execution_count": 4,
   "id": "b863a7e4",
   "metadata": {},
   "outputs": [
    {
     "name": "stdout",
     "output_type": "stream",
     "text": [
      "The object type of contents of pickle_file_2.pickle are: <class 'bytes'>\n",
      "The object type of contents of pickled_list.pickle are: <class 'bytes'>\n",
      "The object type of contents of pickle_file_3.pickle are: <class 'bytes'>\n",
      "The object type of contents of pickle_file_1.pickle are: <class 'bytes'>\n"
     ]
    }
   ],
   "source": [
    "for file in list_of_pickle_files:\n",
    "    #### ADD YOUR CODE HERE ####\n",
    "    with open(file, mode='rb') as pickle_file:\n",
    "        print(f'The object type of contents of {file} are: {type(pickle_file.read())}')"
   ]
  },
  {
   "cell_type": "markdown",
   "id": "a1c6ced8",
   "metadata": {},
   "source": [
    "### **Theory - why use pickle?**\n",
    "Compared to other file types, it might be unclear at this point why we want to use pickle at all. Binary files aren't easy to read or use in general. So wouldn't it be more convenient to save data as a more generic file types such as XML, JSON or CSV?\n",
    "\n",
    "The answer is: it depends on what type of information you want to save and/or transfer. Pickle is ment as a convenient file type to transfer **Python objects** specifically between different systems, environments or pieces of Python code. It is the fastest and most efficient way to transport practically any(!) Python object."
   ]
  },
  {
   "cell_type": "markdown",
   "id": "51011540",
   "metadata": {},
   "source": [
    "# Section 2: The Python *pickle* module\n",
    "The *pickle* module is part of the standard library that comes with Python. As mentioned earlier, it is used to easily serialize and deserialize Python objects. Let's take a look at the most important methods the module has to offer!\n",
    "\n",
    "BLABLA GO TO DOCUMENTATION BLABLA\n",
    "\n",
    "For more information, please refer to the [official pickle documentation](https://docs.python.org/3/library/pickle.html)\n",
    "\n",
    "Let's explore the functionality in code!"
   ]
  },
  {
   "cell_type": "code",
   "execution_count": 5,
   "id": "7141d3f9",
   "metadata": {},
   "outputs": [],
   "source": [
    "import pickle"
   ]
  },
  {
   "cell_type": "markdown",
   "id": "a4e21ef2",
   "metadata": {},
   "source": [
    "##### ASSIGNMENT 4: create a Python object and save it as a pickle file with the dump() method."
   ]
  },
  {
   "cell_type": "code",
   "execution_count": 6,
   "id": "10139c88",
   "metadata": {},
   "outputs": [],
   "source": [
    "#### ADD YOUR CODE HERE\n",
    "a_list = ['hi', 'I', 'am', 'a', 'list']\n",
    "\n",
    "# Then open a new file with the built-in open() function\n",
    "with open('pickled_list.pickle', mode='wb') as file:\n",
    "    pickle.dump(a_list, file)  # save it as a pickle file"
   ]
  },
  {
   "cell_type": "markdown",
   "id": "fee844ed",
   "metadata": {},
   "source": [
    "##### ASSIGNMENT 5:  open the object you just created with load() method."
   ]
  },
  {
   "cell_type": "code",
   "execution_count": 7,
   "id": "feafe688",
   "metadata": {},
   "outputs": [
    {
     "name": "stdout",
     "output_type": "stream",
     "text": [
      "['hi', 'I', 'am', 'a', 'list']\n"
     ]
    }
   ],
   "source": [
    "#### ADD YOUR CODE HERE\n",
    "\n",
    "# Then open a new file with the built-in open() function\n",
    "with open('pickled_list.pickle', mode='rb') as file:\n",
    "    loaded_list = pickle.load(file)  # save it as a pickle file\n",
    "print(loaded_list)"
   ]
  },
  {
   "cell_type": "markdown",
   "id": "1ae87268",
   "metadata": {},
   "source": [
    "##### ASSIGNMENT 6: load the pickle files that were already present in the folder and determine what kind of Python objects they are"
   ]
  },
  {
   "cell_type": "code",
   "execution_count": 8,
   "id": "4c5952b9",
   "metadata": {},
   "outputs": [
    {
     "name": "stdout",
     "output_type": "stream",
     "text": [
      "[ 2  3  5  7 11 13 17 19 23]\n",
      "<class 'numpy.ndarray'>\n",
      "\n",
      "['hi', 'I', 'am', 'a', 'list']\n",
      "<class 'list'>\n",
      "\n",
      "[(3, 5), (5, 7), (11, 13), (17, 19), (29, 31)]\n",
      "<class 'list'>\n",
      "\n",
      "{'Archimedes': 3.14, \"Euler's number \": 1.71, 'Pythagoras': 1.41, 'Theodorus': 1.73, 'Apery': 1.2}\n",
      "<class 'dict'>\n",
      "\n"
     ]
    }
   ],
   "source": [
    "#### ADD YOUR CODE HERE\n",
    "for pickle_file in list_of_pickle_files:\n",
    "    with open(pickle_file, mode='rb') as file:\n",
    "        loaded_file = pickle.load(file)  # save it as a pickle file\n",
    "    print(loaded_file)\n",
    "    print(type(loaded_file))\n",
    "    print()"
   ]
  },
  {
   "cell_type": "markdown",
   "id": "5ac2ad78",
   "metadata": {},
   "source": [
    "# Section 3: speed comparison\n",
    "\n",
    "### **Theory - speed and file size of pickle files**\n",
    "As a Data Engineer, you often want the most efficient solution to the challenges that appear during your work. When working with small datasets, different approaches might seem interchangeable. However, working with larger datasets, you will notice differences in the runtime speed of code.\n",
    "\n",
    "In this section, we will explore how fast writing and reading pickle files are when working with tabular data compared to using .csv files. The pandas libary will be used to create a large dummy dataset, save it to disk and load it again. Since the focus of this module is Pickle, there will not be in-depth info of pandas, but it is always possible to check out the [Pandas Documentation](https://pandas.pydata.org/docs/). \n",
    "\n",
    "Furthermore, we will use a builtin magic function of jupyter called *%%time* that will show the time it took to run a certain cell. \n",
    "\n",
    "\n"
   ]
  },
  {
   "cell_type": "markdown",
   "id": "9ea6c79e",
   "metadata": {},
   "source": [
    "##### ASSIGNMENT 7: create a dummy dataset of 5 columns and 2 million rows"
   ]
  },
  {
   "cell_type": "code",
   "execution_count": 19,
   "id": "0c81249f",
   "metadata": {},
   "outputs": [
    {
     "data": {
      "text/html": [
       "<div>\n",
       "<style scoped>\n",
       "    .dataframe tbody tr th:only-of-type {\n",
       "        vertical-align: middle;\n",
       "    }\n",
       "\n",
       "    .dataframe tbody tr th {\n",
       "        vertical-align: top;\n",
       "    }\n",
       "\n",
       "    .dataframe thead th {\n",
       "        text-align: right;\n",
       "    }\n",
       "</style>\n",
       "<table border=\"1\" class=\"dataframe\">\n",
       "  <thead>\n",
       "    <tr style=\"text-align: right;\">\n",
       "      <th></th>\n",
       "      <th>a</th>\n",
       "      <th>b</th>\n",
       "      <th>c</th>\n",
       "      <th>d</th>\n",
       "      <th>e</th>\n",
       "    </tr>\n",
       "  </thead>\n",
       "  <tbody>\n",
       "    <tr>\n",
       "      <th>0</th>\n",
       "      <td>0.377691</td>\n",
       "      <td>0.170632</td>\n",
       "      <td>0.718603</td>\n",
       "      <td>0.787502</td>\n",
       "      <td>0.265940</td>\n",
       "    </tr>\n",
       "    <tr>\n",
       "      <th>1</th>\n",
       "      <td>0.195612</td>\n",
       "      <td>0.517449</td>\n",
       "      <td>0.431774</td>\n",
       "      <td>0.433832</td>\n",
       "      <td>0.570307</td>\n",
       "    </tr>\n",
       "    <tr>\n",
       "      <th>2</th>\n",
       "      <td>0.354629</td>\n",
       "      <td>0.469046</td>\n",
       "      <td>0.652140</td>\n",
       "      <td>0.200311</td>\n",
       "      <td>0.158369</td>\n",
       "    </tr>\n",
       "    <tr>\n",
       "      <th>3</th>\n",
       "      <td>0.697143</td>\n",
       "      <td>0.609328</td>\n",
       "      <td>0.218446</td>\n",
       "      <td>0.011733</td>\n",
       "      <td>0.808165</td>\n",
       "    </tr>\n",
       "    <tr>\n",
       "      <th>4</th>\n",
       "      <td>0.670244</td>\n",
       "      <td>0.257029</td>\n",
       "      <td>0.261845</td>\n",
       "      <td>0.229789</td>\n",
       "      <td>0.829596</td>\n",
       "    </tr>\n",
       "    <tr>\n",
       "      <th>...</th>\n",
       "      <td>...</td>\n",
       "      <td>...</td>\n",
       "      <td>...</td>\n",
       "      <td>...</td>\n",
       "      <td>...</td>\n",
       "    </tr>\n",
       "    <tr>\n",
       "      <th>4999995</th>\n",
       "      <td>0.603542</td>\n",
       "      <td>0.754590</td>\n",
       "      <td>0.329973</td>\n",
       "      <td>0.743658</td>\n",
       "      <td>0.878265</td>\n",
       "    </tr>\n",
       "    <tr>\n",
       "      <th>4999996</th>\n",
       "      <td>0.281286</td>\n",
       "      <td>0.421385</td>\n",
       "      <td>0.231507</td>\n",
       "      <td>0.683640</td>\n",
       "      <td>0.915960</td>\n",
       "    </tr>\n",
       "    <tr>\n",
       "      <th>4999997</th>\n",
       "      <td>0.690190</td>\n",
       "      <td>0.770438</td>\n",
       "      <td>0.325157</td>\n",
       "      <td>0.744733</td>\n",
       "      <td>0.999744</td>\n",
       "    </tr>\n",
       "    <tr>\n",
       "      <th>4999998</th>\n",
       "      <td>0.041488</td>\n",
       "      <td>0.180944</td>\n",
       "      <td>0.009139</td>\n",
       "      <td>0.846707</td>\n",
       "      <td>0.383906</td>\n",
       "    </tr>\n",
       "    <tr>\n",
       "      <th>4999999</th>\n",
       "      <td>0.922090</td>\n",
       "      <td>0.923498</td>\n",
       "      <td>0.338620</td>\n",
       "      <td>0.548458</td>\n",
       "      <td>0.873015</td>\n",
       "    </tr>\n",
       "  </tbody>\n",
       "</table>\n",
       "<p>5000000 rows × 5 columns</p>\n",
       "</div>"
      ],
      "text/plain": [
       "                a         b         c         d         e\n",
       "0        0.377691  0.170632  0.718603  0.787502  0.265940\n",
       "1        0.195612  0.517449  0.431774  0.433832  0.570307\n",
       "2        0.354629  0.469046  0.652140  0.200311  0.158369\n",
       "3        0.697143  0.609328  0.218446  0.011733  0.808165\n",
       "4        0.670244  0.257029  0.261845  0.229789  0.829596\n",
       "...           ...       ...       ...       ...       ...\n",
       "4999995  0.603542  0.754590  0.329973  0.743658  0.878265\n",
       "4999996  0.281286  0.421385  0.231507  0.683640  0.915960\n",
       "4999997  0.690190  0.770438  0.325157  0.744733  0.999744\n",
       "4999998  0.041488  0.180944  0.009139  0.846707  0.383906\n",
       "4999999  0.922090  0.923498  0.338620  0.548458  0.873015\n",
       "\n",
       "[5000000 rows x 5 columns]"
      ]
     },
     "execution_count": 19,
     "metadata": {},
     "output_type": "execute_result"
    }
   ],
   "source": [
    "np.random.seed = 42\n",
    "df_size = 5_000_000\n",
    "\n",
    "df = pd.DataFrame({\n",
    "    'a': np.random.rand(df_size),\n",
    "    'b': np.random.rand(df_size),\n",
    "    'c': np.random.rand(df_size),\n",
    "    'd': np.random.rand(df_size),\n",
    "    'e': np.random.rand(df_size)\n",
    "})\n",
    "\n",
    "df"
   ]
  },
  {
   "cell_type": "markdown",
   "id": "84b09c93",
   "metadata": {},
   "source": [
    "##### ASSIGNMENT 8: save the DataFrame as a .csv file using the .to_csv() function of Pandas"
   ]
  },
  {
   "cell_type": "code",
   "execution_count": 20,
   "id": "ef70057c",
   "metadata": {},
   "outputs": [
    {
     "name": "stdout",
     "output_type": "stream",
     "text": [
      "CPU times: user 30.9 s, sys: 1.08 s, total: 31.9 s\n",
      "Wall time: 32.3 s\n"
     ]
    }
   ],
   "source": [
    "%%time\n",
    "#### ADD YOUR CODE HERE ####\n",
    "df.to_csv('data.csv', index=False)"
   ]
  },
  {
   "cell_type": "markdown",
   "id": "1da63b9c",
   "metadata": {},
   "source": [
    "##### ASSIGNMENT 9: load the created .csv file as a DataFrame using the pandas.read_csv() funcion of Pandas"
   ]
  },
  {
   "cell_type": "code",
   "execution_count": 36,
   "id": "4d93b3cf",
   "metadata": {},
   "outputs": [
    {
     "name": "stdout",
     "output_type": "stream",
     "text": [
      "CPU times: user 2.88 s, sys: 140 ms, total: 3.02 s\n",
      "Wall time: 3.02 s\n"
     ]
    }
   ],
   "source": [
    "%%time\n",
    "#### ADD YOUR CODE HERE ####\n",
    "df_from_csv = pd.read_csv('data.csv')"
   ]
  },
  {
   "cell_type": "markdown",
   "id": "b27ebb0c",
   "metadata": {},
   "source": [
    "##### ASSIGNMENT 10: now save the original DataFrame we created as a pickle file"
   ]
  },
  {
   "cell_type": "code",
   "execution_count": 37,
   "id": "22059f56",
   "metadata": {},
   "outputs": [
    {
     "name": "stdout",
     "output_type": "stream",
     "text": [
      "CPU times: user 49.2 ms, sys: 212 ms, total: 262 ms\n",
      "Wall time: 488 ms\n"
     ]
    }
   ],
   "source": [
    "%%time\n",
    "#### ADD YOUR CODE HERE ####\n",
    "with open('dataframe.pickle', mode='wb') as file:\n",
    "    pickle.dump(df, file) "
   ]
  },
  {
   "cell_type": "markdown",
   "id": "9498ff1c",
   "metadata": {},
   "source": [
    "##### ASSIGNMENT 11: now deserialize pickle file containing the serialized DataFrame into a DataFrame "
   ]
  },
  {
   "cell_type": "code",
   "execution_count": 39,
   "id": "bfc1111b",
   "metadata": {},
   "outputs": [
    {
     "name": "stdout",
     "output_type": "stream",
     "text": [
      "CPU times: user 3.34 ms, sys: 84.4 ms, total: 87.7 ms\n",
      "Wall time: 86 ms\n"
     ]
    }
   ],
   "source": [
    "%%time\n",
    "#### ADD YOUR CODE HERE ####\n",
    "with open('dataframe.pickle', mode='rb') as file:\n",
    "    deserialized_df = pickle.load(file) "
   ]
  },
  {
   "cell_type": "markdown",
   "id": "ee61e883",
   "metadata": {},
   "source": [
    "##### ASSIGNMENT 12: Now print the file size of both the csv file and the pickle file you created.\n",
    "\n",
    "*Hint: the OS library has something for this called getsize()*"
   ]
  },
  {
   "cell_type": "code",
   "execution_count": 44,
   "id": "dd1a11fd",
   "metadata": {},
   "outputs": [
    {
     "name": "stdout",
     "output_type": "stream",
     "text": [
      "The size of the pickle file is 200.000688 bytes\n",
      "The size of the csv file is 481.746082 bytes\n"
     ]
    }
   ],
   "source": [
    "#### ADD YOUR CODE HERE ####\n",
    "size_of_pickle = os.path.getsize('dataframe.pickle') / 1_000_000\n",
    "size_of_csv = os.path.getsize('data.csv') / 1_000_000\n",
    "\n",
    "print(f'The size of the pickle file is {size_of_pickle} bytes')\n",
    "print(f'The size of the csv file is {size_of_csv} bytes')"
   ]
  },
  {
   "cell_type": "markdown",
   "id": "789816fa",
   "metadata": {},
   "source": [
    "### **Theory - speed and file size of pickle files**\n",
    "As you can see Pickle is way more efficient to use as a temporary storage than .csv when it comes to tabular data.\n",
    "* it is much faster to read/write pickle files than csv files\n",
    "* the file size is also smaller for pickle files compared to csv files\n",
    "\n",
    "However, there are also downsides. Pickle creates files unreadable for humans, and cannot be loaded into programs like Excel. Therefore, always make sure if pickle is the right fit for the job!"
   ]
  },
  {
   "cell_type": "markdown",
   "id": "9c8cdd20",
   "metadata": {},
   "source": [
    "# Section 4: pickle and machine learning algorithms\n",
    "In this final section, we are going to save a fully trained machine learning model into a pickle file. As already stated, almost all Python objects can be stored as pickle, and this includes ML models. This is arguably the most powerful usage of Pickle for a Data Engineer when working with ML models.\n",
    "\n",
    "Since the focus of this Module is not on the creation or training of a ML model, a cell with all code required to do this is given below. Simply run the cell to load the correct data and train a model.\n",
    "\n",
    "The data we use is from the famous [Iris dataset](https://archive.ics.uci.edu/ml/datasets/iris), which is often used to showcase classification algorithms."
   ]
  },
  {
   "cell_type": "code",
   "execution_count": null,
   "id": "a2f75364",
   "metadata": {},
   "outputs": [],
   "source": [
    "# Extra libraries needed for this section\n",
    "import matplotlib.pyplot as plt\n",
    "from sklearn import datasets, metrics\n",
    "from sklearn.model_selection import train_test_split\n",
    "from sklearn.linear_model import LogisticRegression"
   ]
  },
  {
   "cell_type": "markdown",
   "id": "0601c32f",
   "metadata": {},
   "source": [
    "##### ASSIGNMENT 13: run the following few cells to load and explore the data, and subsequently train a model."
   ]
  },
  {
   "cell_type": "code",
   "execution_count": 59,
   "id": "119b610f",
   "metadata": {},
   "outputs": [
    {
     "data": {
      "text/html": [
       "<div>\n",
       "<style scoped>\n",
       "    .dataframe tbody tr th:only-of-type {\n",
       "        vertical-align: middle;\n",
       "    }\n",
       "\n",
       "    .dataframe tbody tr th {\n",
       "        vertical-align: top;\n",
       "    }\n",
       "\n",
       "    .dataframe thead th {\n",
       "        text-align: right;\n",
       "    }\n",
       "</style>\n",
       "<table border=\"1\" class=\"dataframe\">\n",
       "  <thead>\n",
       "    <tr style=\"text-align: right;\">\n",
       "      <th></th>\n",
       "      <th>sepal length (cm)</th>\n",
       "      <th>sepal width (cm)</th>\n",
       "      <th>petal length (cm)</th>\n",
       "      <th>petal width (cm)</th>\n",
       "      <th>target</th>\n",
       "      <th>species</th>\n",
       "    </tr>\n",
       "  </thead>\n",
       "  <tbody>\n",
       "    <tr>\n",
       "      <th>0</th>\n",
       "      <td>5.1</td>\n",
       "      <td>3.5</td>\n",
       "      <td>1.4</td>\n",
       "      <td>0.2</td>\n",
       "      <td>0.0</td>\n",
       "      <td>setosa</td>\n",
       "    </tr>\n",
       "    <tr>\n",
       "      <th>1</th>\n",
       "      <td>4.9</td>\n",
       "      <td>3.0</td>\n",
       "      <td>1.4</td>\n",
       "      <td>0.2</td>\n",
       "      <td>0.0</td>\n",
       "      <td>setosa</td>\n",
       "    </tr>\n",
       "    <tr>\n",
       "      <th>2</th>\n",
       "      <td>4.7</td>\n",
       "      <td>3.2</td>\n",
       "      <td>1.3</td>\n",
       "      <td>0.2</td>\n",
       "      <td>0.0</td>\n",
       "      <td>setosa</td>\n",
       "    </tr>\n",
       "    <tr>\n",
       "      <th>3</th>\n",
       "      <td>4.6</td>\n",
       "      <td>3.1</td>\n",
       "      <td>1.5</td>\n",
       "      <td>0.2</td>\n",
       "      <td>0.0</td>\n",
       "      <td>setosa</td>\n",
       "    </tr>\n",
       "    <tr>\n",
       "      <th>4</th>\n",
       "      <td>5.0</td>\n",
       "      <td>3.6</td>\n",
       "      <td>1.4</td>\n",
       "      <td>0.2</td>\n",
       "      <td>0.0</td>\n",
       "      <td>setosa</td>\n",
       "    </tr>\n",
       "  </tbody>\n",
       "</table>\n",
       "</div>"
      ],
      "text/plain": [
       "   sepal length (cm)  sepal width (cm)  petal length (cm)  petal width (cm)  \\\n",
       "0                5.1               3.5                1.4               0.2   \n",
       "1                4.9               3.0                1.4               0.2   \n",
       "2                4.7               3.2                1.3               0.2   \n",
       "3                4.6               3.1                1.5               0.2   \n",
       "4                5.0               3.6                1.4               0.2   \n",
       "\n",
       "   target species  \n",
       "0     0.0  setosa  \n",
       "1     0.0  setosa  \n",
       "2     0.0  setosa  \n",
       "3     0.0  setosa  \n",
       "4     0.0  setosa  "
      ]
     },
     "execution_count": 59,
     "metadata": {},
     "output_type": "execute_result"
    }
   ],
   "source": [
    "# load data from sklearn\n",
    "iris = datasets.load_iris()\n",
    "\n",
    "# turn data into DataFrame\n",
    "df_iris = pd.DataFrame(data=np.c_[iris['data'], iris['target']],\n",
    "                       columns= iris['feature_names'] + ['target'])\n",
    "\n",
    "# Add species column\n",
    "df_iris['species'] = df_iris['target'].map({\n",
    "    0:'setosa',\n",
    "    1:'versicolor',\n",
    "    2: 'virginica'\n",
    "})\n",
    "\n",
    "# Show top rows of DataFrame\n",
    "df_iris.head()"
   ]
  },
  {
   "cell_type": "code",
   "execution_count": 100,
   "id": "6aa778c2",
   "metadata": {},
   "outputs": [
    {
     "data": {
      "image/png": "[encoded data removed]",
      "text/plain": [
       "<Figure size 864x576 with 2 Axes>"
      ]
     },
     "metadata": {
      "needs_background": "light"
     },
     "output_type": "display_data"
    }
   ],
   "source": [
    "# Plot the petal length and petal width\n",
    "df_iris.plot.scatter(\n",
    "    x='petal length (cm)',\n",
    "    y='petal width (cm)',\n",
    "    c='target',\n",
    "    colormap='viridis',\n",
    "    figsize=(12,8))\n",
    "\n",
    "plt.xlabel(\"petal length (cm)\", size=12)\n",
    "plt.ylabel(\"petal width (cm)\", size=12)\n",
    "plt.title('Iris petals (color indicates class)', size=16);\n"
   ]
  },
  {
   "cell_type": "code",
   "execution_count": 123,
   "id": "72319d53",
   "metadata": {},
   "outputs": [
    {
     "data": {
      "text/html": [
       "<style>#sk-container-id-4 {color: black;background-color: white;}#sk-container-id-4 pre{padding: 0;}#sk-container-id-4 div.sk-toggleable {background-color: white;}#sk-container-id-4 label.sk-toggleable__label {cursor: pointer;display: block;width: 100%;margin-bottom: 0;padding: 0.3em;box-sizing: border-box;text-align: center;}#sk-container-id-4 label.sk-toggleable__label-arrow:before {content: \"▸\";float: left;margin-right: 0.25em;color: #696969;}#sk-container-id-4 label.sk-toggleable__label-arrow:hover:before {color: black;}#sk-container-id-4 div.sk-estimator:hover label.sk-toggleable__label-arrow:before {color: black;}#sk-container-id-4 div.sk-toggleable__content {max-height: 0;max-width: 0;overflow: hidden;text-align: left;background-color: #f0f8ff;}#sk-container-id-4 div.sk-toggleable__content pre {margin: 0.2em;color: black;border-radius: 0.25em;background-color: #f0f8ff;}#sk-container-id-4 input.sk-toggleable__control:checked~div.sk-toggleable__content {max-height: 200px;max-width: 100%;overflow: auto;}#sk-container-id-4 input.sk-toggleable__control:checked~label.sk-toggleable__label-arrow:before {content: \"▾\";}#sk-container-id-4 div.sk-estimator input.sk-toggleable__control:checked~label.sk-toggleable__label {background-color: #d4ebff;}#sk-container-id-4 div.sk-label input.sk-toggleable__control:checked~label.sk-toggleable__label {background-color: #d4ebff;}#sk-container-id-4 input.sk-hidden--visually {border: 0;clip: rect(1px 1px 1px 1px);clip: rect(1px, 1px, 1px, 1px);height: 1px;margin: -1px;overflow: hidden;padding: 0;position: absolute;width: 1px;}#sk-container-id-4 div.sk-estimator {font-family: monospace;background-color: #f0f8ff;border: 1px dotted black;border-radius: 0.25em;box-sizing: border-box;margin-bottom: 0.5em;}#sk-container-id-4 div.sk-estimator:hover {background-color: #d4ebff;}#sk-container-id-4 div.sk-parallel-item::after {content: \"\";width: 100%;border-bottom: 1px solid gray;flex-grow: 1;}#sk-container-id-4 div.sk-label:hover label.sk-toggleable__label {background-color: #d4ebff;}#sk-container-id-4 div.sk-serial::before {content: \"\";position: absolute;border-left: 1px solid gray;box-sizing: border-box;top: 0;bottom: 0;left: 50%;z-index: 0;}#sk-container-id-4 div.sk-serial {display: flex;flex-direction: column;align-items: center;background-color: white;padding-right: 0.2em;padding-left: 0.2em;position: relative;}#sk-container-id-4 div.sk-item {position: relative;z-index: 1;}#sk-container-id-4 div.sk-parallel {display: flex;align-items: stretch;justify-content: center;background-color: white;position: relative;}#sk-container-id-4 div.sk-item::before, #sk-container-id-4 div.sk-parallel-item::before {content: \"\";position: absolute;border-left: 1px solid gray;box-sizing: border-box;top: 0;bottom: 0;left: 50%;z-index: -1;}#sk-container-id-4 div.sk-parallel-item {display: flex;flex-direction: column;z-index: 1;position: relative;background-color: white;}#sk-container-id-4 div.sk-parallel-item:first-child::after {align-self: flex-end;width: 50%;}#sk-container-id-4 div.sk-parallel-item:last-child::after {align-self: flex-start;width: 50%;}#sk-container-id-4 div.sk-parallel-item:only-child::after {width: 0;}#sk-container-id-4 div.sk-dashed-wrapped {border: 1px dashed gray;margin: 0 0.4em 0.5em 0.4em;box-sizing: border-box;padding-bottom: 0.4em;background-color: white;}#sk-container-id-4 div.sk-label label {font-family: monospace;font-weight: bold;display: inline-block;line-height: 1.2em;}#sk-container-id-4 div.sk-label-container {text-align: center;}#sk-container-id-4 div.sk-container {/* jupyter's `normalize.less` sets `[hidden] { display: none; }` but bootstrap.min.css set `[hidden] { display: none !important; }` so we also need the `!important` here to be able to override the default hidden behavior on the sphinx rendered scikit-learn.org. See: https://github.com/scikit-learn/scikit-learn/issues/21755 */display: inline-block !important;position: relative;}#sk-container-id-4 div.sk-text-repr-fallback {display: none;}</style><div id=\"sk-container-id-4\" class=\"sk-top-container\"><div class=\"sk-text-repr-fallback\"><pre>LogisticRegression()</pre><b>In a Jupyter environment, please rerun this cell to show the HTML representation or trust the notebook. <br />On GitHub, the HTML representation is unable to render, please try loading this page with nbviewer.org.</b></div><div class=\"sk-container\" hidden><div class=\"sk-item\"><div class=\"sk-estimator sk-toggleable\"><input class=\"sk-toggleable__control sk-hidden--visually\" id=\"sk-estimator-id-4\" type=\"checkbox\" checked><label for=\"sk-estimator-id-4\" class=\"sk-toggleable__label sk-toggleable__label-arrow\">LogisticRegression</label><div class=\"sk-toggleable__content\"><pre>LogisticRegression()</pre></div></div></div></div></div>"
      ],
      "text/plain": [
       "LogisticRegression()"
      ]
     },
     "execution_count": 123,
     "metadata": {},
     "output_type": "execute_result"
    }
   ],
   "source": [
    "# PARAMETERS TO CHANGE\n",
    "input_columns = ['petal length (cm)','petal width (cm)']\n",
    "test_size = 0.5\n",
    "random_state = 42\n",
    "model = LogisticRegression()\n",
    "model_name = 'LR_with_petaldata'\n",
    "\n",
    "\n",
    "# Create input X, and target y to train the model with \n",
    "X = df_iris[input_columns]  # only use petal length and width\n",
    "X = X.to_numpy()  # converting into numpy array\n",
    "y = iris['target']\n",
    "\n",
    "# Splitting into train and test\n",
    "X_train, X_test, y_train, y_test = train_test_split(X,y,test_size=0.5, random_state=42)\n",
    "\n",
    "# Fit the model based on chosen parameters\n",
    "model.fit(X,y)"
   ]
  },
  {
   "cell_type": "markdown",
   "id": "cbe3d1ab",
   "metadata": {},
   "source": [
    "##### ASSIGNMENT 14: save the fitted model as a pickle file"
   ]
  },
  {
   "cell_type": "code",
   "execution_count": 124,
   "id": "2b1a060a",
   "metadata": {},
   "outputs": [],
   "source": [
    "#### ADD YOUR CODE HERE ####\n",
    "path_to_savefile = model_name + '.pickle'\n",
    "\n",
    "with open(path_to_savefile, mode='wb') as file:\n",
    "    pickle.dump(model, file)  # save it as a pickle file"
   ]
  },
  {
   "cell_type": "markdown",
   "id": "256af67d",
   "metadata": {},
   "source": [
    "##### ASSIGNMENT 15: load the fitted model and print metrics"
   ]
  },
  {
   "cell_type": "code",
   "execution_count": 127,
   "id": "5fe0a7e8",
   "metadata": {},
   "outputs": [
    {
     "name": "stdout",
     "output_type": "stream",
     "text": [
      "Precision, Recall, Confusion matrix, in training\n",
      "\n",
      "              precision    recall  f1-score   support\n",
      "\n",
      "           0      1.000     1.000     1.000        21\n",
      "           1      0.923     0.889     0.906        27\n",
      "           2      0.893     0.926     0.909        27\n",
      "\n",
      "    accuracy                          0.933        75\n",
      "   macro avg      0.939     0.938     0.938        75\n",
      "weighted avg      0.934     0.933     0.933        75\n",
      "\n",
      "Confuson matrix\n",
      "[[21  0  0]\n",
      " [ 0 24  3]\n",
      " [ 0  2 25]]\n"
     ]
    }
   ],
   "source": [
    "#### ADD YOUR CODE HERE ####\n",
    "path_to_model = 'LR_with_petaldata.pickle'\n",
    "with open(path_to_model, mode='rb') as file:\n",
    "    loaded_model = pickle.load(file)  # save it as a pickle file\n",
    "\n",
    "training_prediction = loaded_model.predict(X_train)\n",
    "test_prediction = loaded_model.predict(X_test)\n",
    "#### STOP ADDING YOUR CODE HERE ####\n",
    "\n",
    "\n",
    "# Precision Recall scores\n",
    "print(\"Precision, Recall, Confusion matrix, in training\\n\")\n",
    "print(metrics.classification_report(y_train, training_prediction, digits=3))\n",
    "\n",
    "# Confusion matrix\n",
    "print('Confuson matrix')\n",
    "print(metrics.confusion_matrix(y_train, training_prediction))"
   ]
  },
  {
   "cell_type": "markdown",
   "id": "5078e470",
   "metadata": {},
   "source": [
    "##### (OPTIONAL) ASSIGNMENT 16\n",
    "* fit another Logistic Regression model with diffent input columns (sepal data instead of petal)\n",
    "* save the model under a different name\n",
    "* load both models and compare metrics (doublecheck you are using the right X_train and X_test for each model when predicting)\n",
    "\n",
    "Which model performs better?"
   ]
  },
  {
   "cell_type": "code",
   "execution_count": 130,
   "id": "01a620fe",
   "metadata": {},
   "outputs": [
    {
     "name": "stdout",
     "output_type": "stream",
     "text": [
      "Precision, Recall, Confusion matrix, in training\n",
      "\n",
      "              precision    recall  f1-score   support\n",
      "\n",
      "           0      1.000     1.000     1.000        21\n",
      "           1      0.750     0.778     0.764        27\n",
      "           2      0.769     0.741     0.755        27\n",
      "\n",
      "    accuracy                          0.827        75\n",
      "   macro avg      0.840     0.840     0.839        75\n",
      "weighted avg      0.827     0.827     0.827        75\n",
      "\n",
      "Confuson matrix\n",
      "[[21  0  0]\n",
      " [ 0 21  6]\n",
      " [ 0  7 20]]\n"
     ]
    }
   ],
   "source": [
    "# PARAMETERS TO CHANGE\n",
    "input_columns = ['sepal length (cm)','sepal width (cm)']\n",
    "test_size = 0.5\n",
    "random_state = 42\n",
    "model = LogisticRegression()\n",
    "model_name = 'LR_with_sepaldata'\n",
    "\n",
    "\n",
    "# Create input X, and target y to train the model with \n",
    "X = df_iris[input_columns]  # only use petal length and width\n",
    "X = X.to_numpy()  # converting into numpy array\n",
    "y = iris['target']\n",
    "\n",
    "# Splitting into train and test\n",
    "X_train, X_test, y_train, y_test = train_test_split(X,y,test_size=0.5, random_state=42)\n",
    "\n",
    "# Fit the model based on chosen parameters\n",
    "model.fit(X,y)\n",
    "\n",
    "\n",
    "training_prediction = model.predict(X_train)\n",
    "\n",
    "test_prediction = model.predict(X_test)\n",
    "\n",
    "print(\"Precision, Recall, Confusion matrix, in training\\n\")\n",
    "\n",
    "# Precision Recall scores\n",
    "print(metrics.classification_report(y_train, training_prediction, digits=3))\n",
    "\n",
    "# Confusion matrix\n",
    "print('Confuson matrix')\n",
    "print(metrics.confusion_matrix(y_train, training_prediction))"
   ]
  },
  {
   "cell_type": "markdown",
   "id": "a225ad92",
   "metadata": {},
   "source": [
    "## **THEORY - Pickle for Machine Learning models**\n",
    "As you can see, saving different models as different pickle files is done easily. This can be of great help to a Data Engineer working with ML models.\n",
    "\n",
    " For example, it makes model comparison all trained with different parameters more organized and efficient. \n",
    " \n",
    " Furthermore, it can help productionalize models: train multiple models and compare them in a development environment and only transfer the pickle file of the best performing model to the production environment."
   ]
  }
 ],
 "metadata": {
  "interpreter": {
   "hash": "15b20538a962554200a580dbac694884175b6fc3c353c551da694757f0ccb282"
  },
  "kernelspec": {
   "display_name": "Python 3.10.2 ('ml_eng')",
   "language": "python",
   "name": "python3"
  },
  "language_info": {
   "codemirror_mode": {
    "name": "ipython",
    "version": 3
   },
   "file_extension": ".py",
   "mimetype": "text/x-python",
   "name": "python",
   "nbconvert_exporter": "python",
   "pygments_lexer": "ipython3",
   "version": "3.10.2"
  }
 },
 "nbformat": 4,
 "nbformat_minor": 5
}
