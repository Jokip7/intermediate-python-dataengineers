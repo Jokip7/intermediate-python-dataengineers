{
 "cells": [
  {
   "cell_type": "markdown",
   "id": "d4005a29",
   "metadata": {},
   "source": [
    "# Module 7: Logging\n",
    "\n",
    "### Introduction\n",
    "As a programmer, you often check the status of the output of your code. Furthermore, it is often a good idea to check the status of variables at certain point in your code. In Python, this is often done with the function *print()*. While this is a good way of checking the status of variables or your output, it only exists in the environment (may it be a Python console, a terminal, an IDE or otherwise) you are working in. If you ever close the environment, the print statements are gone forever.\n",
    "\n",
    "Sometimes, you want to store these outputs for a longer term. This is where the [logging library](https://docs.python.org/3/library/logging.html) comes in. In this module you will learn:\n",
    "\n",
    "1. Difference between print and logging\n",
    "2. The different levels of logging\n",
    "3. Creating a logger \n",
    "4. Changing the format of a logger\n",
    "5. How to store output of a logger in a .log file\n",
    "\n",
    "\n",
    "Enjoy!"
   ]
  },
  {
   "cell_type": "code",
   "execution_count": 1,
   "id": "55fbdd93",
   "metadata": {},
   "outputs": [],
   "source": [
    "# Import all the packages needed for this module\n",
    "import logging"
   ]
  },
  {
   "cell_type": "markdown",
   "id": "9ab55d06",
   "metadata": {},
   "source": [
    "# Section 1: Difference between print and logging\n",
    "\n",
    "Let's first see how print is usually used in a simple example. \n",
    "##### ASSIGNMENT 1: loop through names and scores, and use print() to display each name and its score. "
   ]
  },
  {
   "cell_type": "code",
   "execution_count": 2,
   "id": "491ba9eb",
   "metadata": {},
   "outputs": [
    {
     "name": "stdout",
     "output_type": "stream",
     "text": [
      "Alice has a score of 100.\n",
      "Bas has a score of 90.\n",
      "Cedric has a score of 95.\n",
      "Dora has a score of 110.\n",
      "Eric has a score of 75.\n",
      "Faye has a score of 85.\n"
     ]
    }
   ],
   "source": [
    "scores = [100, 90, 95, 110, 75, 85]\n",
    "names = ['Alice', 'Bas', 'Cedric', 'Dora', 'Eric', 'Faye']\n",
    "\n",
    "#### ADD YOUR CODE HERE ####\n",
    "for i in range(len(scores)):\n",
    "    print(f'{names[i]} has a score of {scores[i]}.')\n"
   ]
  },
  {
   "cell_type": "markdown",
   "id": "efcf6544",
   "metadata": {},
   "source": [
    "Now let's try and display the same info, but then with logging. To display the information, try the following method: logging.info().\n",
    "\n",
    "##### ASSIGNMENT 2: use logging.info() to try and display the same info as with print()"
   ]
  },
  {
   "cell_type": "code",
   "execution_count": 3,
   "id": "cc6d9d0c",
   "metadata": {},
   "outputs": [],
   "source": [
    "#### ADD YOUR CODE HERE ####\n",
    "for i in range(len(scores)):\n",
    "    logging.info(f'{names[i]} has a score of {scores[i]}.')"
   ]
  },
  {
   "cell_type": "markdown",
   "id": "6b640b6e",
   "metadata": {},
   "source": [
    "Hmm... there seems to be no output. Let's try another method: logging.warning()\n",
    "\n",
    "##### ASSIGNMENT 3: use logging.warning() to try and display the same info as with print() "
   ]
  },
  {
   "cell_type": "code",
   "execution_count": 4,
   "id": "65921688",
   "metadata": {},
   "outputs": [
    {
     "name": "stderr",
     "output_type": "stream",
     "text": [
      "WARNING:root:Alice has a score of 100.\n",
      "WARNING:root:Bas has a score of 90.\n",
      "WARNING:root:Cedric has a score of 95.\n",
      "WARNING:root:Dora has a score of 110.\n",
      "WARNING:root:Eric has a score of 75.\n",
      "WARNING:root:Faye has a score of 85.\n"
     ]
    }
   ],
   "source": [
    "#### ADD YOUR CODE HERE ####\n",
    "for i in range(len(scores)):\n",
    "    logging.warning(f'{names[i]} has a score of {scores[i]}.')"
   ]
  },
  {
   "cell_type": "markdown",
   "id": "19891f3f",
   "metadata": {},
   "source": [
    "Bingo! We got the output we wanted, and some extra information you might not recognize immediately. For instance, every displayed sentence starts with *'WARNING'* followed by *:root:*.\n",
    "\n",
    "At this point, logging seems like a really convoluted to display information that can also be done with print. However, in the next section it will be explained what the difference between info() and warning() is, and why that can be useful!"
   ]
  },
  {
   "cell_type": "markdown",
   "id": "574e57bf",
   "metadata": {},
   "source": [
    "# Section 2: The different levels of logging\n",
    "\n",
    "As seen in the assignments above, there are at least two ways of displaying information with logging, namely info() and warning(). But there are just two of the [six different levels](https://docs.python.org/3/library/logging.html#levels) of logging. Below is an overview of all levels:\n",
    "\n",
    "|   Level  | Numeric value |\n",
    "|:--------:|:-------------:|\n",
    "| CRITICAL | 50            |\n",
    "| ERROR    | 40            |\n",
    "| WARNING  | 30            |\n",
    "| INFO     | 20            |\n",
    "| DEBUG    | 10            |\n",
    "| NOTSET   | 0             |\n",
    "\n",
    "Let's try out all levels!\n",
    "\n",
    "##### ASSIGNMENT 4: print the statement below on all different levels (excluding NOTSET, since it has no method coupled to it)\n",
    "\n",
    "*Hint: use similar method calls as the one you used in previous assignments*\n"
   ]
  },
  {
   "cell_type": "code",
   "execution_count": 5,
   "id": "3806e673",
   "metadata": {},
   "outputs": [
    {
     "name": "stderr",
     "output_type": "stream",
     "text": [
      "CRITICAL:root:This is the best logging tutorial ever created.\n",
      "ERROR:root:This is the best logging tutorial ever created.\n",
      "WARNING:root:This is the best logging tutorial ever created.\n"
     ]
    }
   ],
   "source": [
    "statement = 'This is the best logging tutorial ever created.'\n",
    "\n",
    "#### ADD YOUR CODE HERE ####\n",
    "logging.critical(statement)\n",
    "logging.error(statement)\n",
    "logging.warning(statement)\n",
    "logging.info(statement)\n",
    "logging.debug(statement)"
   ]
  },
  {
   "cell_type": "markdown",
   "id": "7b5b97c0",
   "metadata": {},
   "source": [
    "### **Theory: why do not all levels display information as output?**\n",
    "\n",
    "As can be seen in the assignment above, two levels of logging do not seem to display any information. This is because the default logger that is created by logging is set to only display messages that are logged on level 30 (i.e. warning) or higher (i.e error and critical).\n",
    "\n",
    "In most cases, you also want to display info messages, or even debug messages. This is not possible with the default logger. So we need to create one on our own. Let's do that in the next section"
   ]
  },
  {
   "cell_type": "markdown",
   "id": "5e99df01",
   "metadata": {},
   "source": [
    "# Section 3: Creating a logger\n",
    "Until now, every logging statement has been displayed by using logging.*level*(). It is best practice however, to create your own logger.\n",
    "\n",
    "This can be done with the getLogger() function. There are multiple parameters that can be set to a logger as well. For instance, what levels to display. This solves the issue where logging did not display the information even though we wanted it to.\n",
    "\n",
    "Let's create a logger now!\n",
    "\n",
    "##### ASSIGNMENT 5: create a logger called logger with logging.getLogger()"
   ]
  },
  {
   "cell_type": "code",
   "execution_count": 6,
   "id": "8939439d",
   "metadata": {},
   "outputs": [],
   "source": [
    "#### ADD YOUR CODE HERE ####\n",
    "logger = logging.getLogger()"
   ]
  },
  {
   "cell_type": "markdown",
   "id": "f57cc7c8",
   "metadata": {},
   "source": [
    "##### ASSIGNMENT 6: set the level of the logger to debug. This can be done with the setLevel() method."
   ]
  },
  {
   "cell_type": "code",
   "execution_count": 7,
   "id": "459d4e6d",
   "metadata": {},
   "outputs": [],
   "source": [
    "logger.setLevel('DEBUG')"
   ]
  },
  {
   "cell_type": "markdown",
   "id": "f9c9b512",
   "metadata": {},
   "source": [
    "##### ASSIGNMENT 7: print another statement on all different logging levels, but now use the logger you created instead of logging."
   ]
  },
  {
   "cell_type": "code",
   "execution_count": 8,
   "id": "e845e3ad",
   "metadata": {},
   "outputs": [
    {
     "name": "stderr",
     "output_type": "stream",
     "text": [
      "CRITICAL:root:I bet even debug level will print this.\n",
      "ERROR:root:I bet even debug level will print this.\n",
      "WARNING:root:I bet even debug level will print this.\n",
      "INFO:root:I bet even debug level will print this.\n",
      "DEBUG:root:I bet even debug level will print this.\n"
     ]
    }
   ],
   "source": [
    "statement2 = 'I bet even debug level will print this.'\n",
    "\n",
    "#### ADD YOUR CODE HERE ####\n",
    "logger.critical(statement2)\n",
    "logger.error(statement2)\n",
    "logger.warning(statement2)\n",
    "logger.info(statement2)\n",
    "logger.debug(statement2)"
   ]
  },
  {
   "cell_type": "markdown",
   "id": "73bb3e4c",
   "metadata": {},
   "source": [
    "## THEORY: use logger.*method*() or logging.*method*()?\n",
    "\n",
    "Now that you have created a logger, try running the code of Assignments 2,3 and 4 again. It should now display all the levels, even if INFO and DEBUG previously were not outputted. \n",
    "\n",
    "This is because since you've replaced the root logger. The root logger is also used by logging.*method*() itself. YOu can see this, because the name of the logger is always displayed in the output as well.\n",
    "\n",
    "To make it less confusing, it is possible to create a logger with its own name. Let's do that now.\n",
    "\n",
    "##### ASSIGNMENT 8: create a logger with its own name by adding the *name=* parameter in the getLogger() function and set its level to INFO."
   ]
  },
  {
   "cell_type": "code",
   "execution_count": 9,
   "id": "f246ea2f",
   "metadata": {},
   "outputs": [],
   "source": [
    "logger = logging.getLogger(name='logger_name')\n",
    "logger.setLevel('INFO')"
   ]
  },
  {
   "cell_type": "markdown",
   "id": "4154e788",
   "metadata": {},
   "source": [
    "##### ASSIGNMENT 9: print the statement on all different levels again."
   ]
  },
  {
   "cell_type": "code",
   "execution_count": 10,
   "id": "88448bc6",
   "metadata": {},
   "outputs": [
    {
     "name": "stderr",
     "output_type": "stream",
     "text": [
      "CRITICAL:logger_name:This not logged by the root logger\n",
      "ERROR:logger_name:This not logged by the root logger\n",
      "WARNING:logger_name:This not logged by the root logger\n",
      "INFO:logger_name:This not logged by the root logger\n"
     ]
    }
   ],
   "source": [
    "statement3 = 'This not logged by the root logger'\n",
    "\n",
    "#### ADD YOUR CODE HERE ####\n",
    "logger.critical(statement3)\n",
    "logger.error(statement3)\n",
    "logger.warning(statement3)\n",
    "logger.info(statement3)\n",
    "logger.debug(statement3)"
   ]
  },
  {
   "cell_type": "markdown",
   "id": "59c33bf0",
   "metadata": {},
   "source": [
    "Please notice two things in this output:\n",
    "1. the name of the logger is now between colons instead of *root*.\n",
    "2. since level is set to INFO, the debug output is not displayed. \n",
    "\n",
    "It is always best practice when creating your own logger to give it a suitable name so that is can be easily distinguished and doesn't overwrite the root logger."
   ]
  },
  {
   "cell_type": "markdown",
   "id": "0715e328",
   "metadata": {},
   "source": [
    "# Section 4: changing the output format of a logger\n",
    " \n",
    "As you noticed by now, there is a default format in which a logger outputs information, which is:\n",
    "\n",
    "    \"%(levelname)s:%(name)s:%(message)s\"  \n",
    "\n",
    "This format is written in an ancient (i.e. Python2.7) style of string formatting, so it might be a bit hard to read, but should make sense considering you have seen the output it gives.\n",
    "\n",
    "Furthermore, the logger we've created automatically outputs in the console (or in the case of notebooks, the cell), and not yet stored in a file. This is because the default handler that is given to a logger is the [StreamHandler](https://docs.python.org/3/library/logging.handlers.html#logging.StreamHandler), which sends all output to [sys.stderr](https://en.wikipedia.org/wiki/Standard_streams#Standard_error_(stderr)) (this basically means to the terminal, console or notebook cell you are working in).\n",
    "\n",
    "Let's now see how we can change the output format of the logger. This is done in multiple steps: \n",
    "* create a handler (we will use a SteamHandler for now)\n",
    "* create a new format as a string\n",
    "* add the format to the handler\n",
    "* add the handler to the logger we created\n",
    "\n",
    "##### ASSIGNMENT 10: create a new Streamhandler with logging.StreamHandler()"
   ]
  },
  {
   "cell_type": "code",
   "execution_count": 11,
   "id": "8fd73b18",
   "metadata": {},
   "outputs": [],
   "source": [
    "#### ADD YOUR CODE HERE ####\n",
    "stream_handler = logging.StreamHandler()"
   ]
  },
  {
   "cell_type": "markdown",
   "id": "8213ca1b",
   "metadata": {},
   "source": [
    "##### ASSIGNMENT 11: create a Formatter that includes a timestamp, based on the default string mentioned above. \n",
    "\n",
    "*Hint: %(asctime)s can be used to add a timestamp to the format.* "
   ]
  },
  {
   "cell_type": "code",
   "execution_count": 12,
   "id": "7ad556b9",
   "metadata": {},
   "outputs": [],
   "source": [
    "#### ADD YOUR CODE HERE ####\n",
    "new_format = '%(asctime)s - %(levelname)s - %(name)s - %(message)s'\n",
    "#### STOP ADDING YOUR CODE HERE ####\n",
    "\n",
    "new_format = logging.Formatter(new_format)"
   ]
  },
  {
   "cell_type": "markdown",
   "id": "0208941b",
   "metadata": {},
   "source": [
    "##### ASSIGNMENT 12: Add the new format to the handler. This can be done with the setFormatter() method of a handler. "
   ]
  },
  {
   "cell_type": "code",
   "execution_count": 13,
   "id": "ac300536",
   "metadata": {},
   "outputs": [],
   "source": [
    "#### ADD YOUR CODE HERE ####\n",
    "stream_handler.setFormatter(new_format)"
   ]
  },
  {
   "cell_type": "markdown",
   "id": "f808c5d8",
   "metadata": {},
   "source": [
    "##### ASSIGNMENT 13: Add the handler to your logger. This can be done with the addHandler() method of a logger. "
   ]
  },
  {
   "cell_type": "code",
   "execution_count": 14,
   "id": "123ae998",
   "metadata": {},
   "outputs": [],
   "source": [
    "logger.addHandler(stream_handler)"
   ]
  },
  {
   "cell_type": "code",
   "execution_count": 15,
   "id": "0c95e871",
   "metadata": {},
   "outputs": [
    {
     "name": "stderr",
     "output_type": "stream",
     "text": [
      "2022-06-27 21:32:57,334 - CRITICAL - logger_name - Am I seeing double?\n",
      "CRITICAL:logger_name:Am I seeing double?\n",
      "2022-06-27 21:32:57,336 - ERROR - logger_name - Am I seeing double?\n",
      "ERROR:logger_name:Am I seeing double?\n",
      "2022-06-27 21:32:57,338 - WARNING - logger_name - Am I seeing double?\n",
      "WARNING:logger_name:Am I seeing double?\n",
      "2022-06-27 21:32:57,339 - INFO - logger_name - Am I seeing double?\n",
      "INFO:logger_name:Am I seeing double?\n"
     ]
    }
   ],
   "source": [
    "statement4 = 'Am I seeing double?'\n",
    "\n",
    "#### ADD YOUR CODE HERE ####\n",
    "logger.critical(statement4)\n",
    "logger.error(statement4)\n",
    "logger.warning(statement4)\n",
    "logger.info(statement4)\n",
    "logger.debug(statement4)"
   ]
  },
  {
   "cell_type": "markdown",
   "id": "d9382ac7",
   "metadata": {},
   "source": [
    "It might be the case you are indeed seeing double. Why could this be? Let's look at the [documentation](https://docs.python.org/2/library/logging.html#logging.Logger.propagate):\n",
    "\n",
    "    Logger.propagate\n",
    "\n",
    "    If this evaluates to true, events logged to this logger will be passed to the handlers of higher level (ancestor) loggers, in addition to any handlers attached to this logger. Messages are passed directly to the ancestor loggers’ handlers - neither the level nor filters of the ancestor loggers in question are considered.\n",
    "\n",
    "    If this evaluates to false, logging messages are not passed to the handlers of ancestor loggers.\n",
    "\n",
    "    The constructor sets this attribute to True.\n",
    "\n",
    "Apparently, the logger we created propogates its events to the root logger. But the good thing is we can edit the propagate attribute of the logger we created. Let's do that!\n",
    "\n",
    "##### ASSIGNMENT 14: set the propagate attribute of the logger we created to False and then display statement 4 again of all levels.\n"
   ]
  },
  {
   "cell_type": "code",
   "execution_count": 16,
   "id": "59e12ef4",
   "metadata": {},
   "outputs": [
    {
     "name": "stderr",
     "output_type": "stream",
     "text": [
      "2022-06-27 21:32:57,402 - CRITICAL - logger_name - Am I seeing double?\n",
      "2022-06-27 21:32:57,404 - ERROR - logger_name - Am I seeing double?\n",
      "2022-06-27 21:32:57,405 - WARNING - logger_name - Am I seeing double?\n",
      "2022-06-27 21:32:57,406 - INFO - logger_name - Am I seeing double?\n"
     ]
    }
   ],
   "source": [
    "logger.propagate = False\n",
    "\n",
    "#### ADD YOUR CODE HERE ####\n",
    "logger.critical(statement4)\n",
    "logger.error(statement4)\n",
    "logger.warning(statement4)\n",
    "logger.info(statement4)\n",
    "logger.debug(statement4)"
   ]
  },
  {
   "cell_type": "markdown",
   "id": "ffc295e7",
   "metadata": {},
   "source": [
    "If all went correctly, you now created a custom logger wher you can easily manage the format and the level at which output is displayed! \n",
    "\n",
    "One final - and arguably the most useful functionality - remains. How to write output not to sys.stderr but a file! On to the next and final section!\n",
    "\n",
    "# Section 5: Storing output in a file\n",
    "\n",
    "## THEORY: StreamHandler and FileHandler\n",
    "\n",
    "The root logger also comes with a StreamHandler by default. Furthermore, we attached a custom made StreamHandler with specific formatting to the logger that we created. But there is another type of handler, namely the [FileHandler](https://docs.python.org/3/library/logging.handlers.html#logging.FileHandler).\n",
    "\n",
    "This handler - as the name may suggest - outputs the events to a file instead of a stream. As with the StreamHandler, we can create a handler and add it to our logger. However, in the case of a FileHandler, we need to provide a filename when creating the handler. For more information, check the documentation link.\n",
    "\n",
    "##### ASSIGNMENT 15: Create a FileHandler that writes to a file called 'logfile.log'). Do not forget to set a formatter too!\n",
    "\n",
    "*Hint: it is possible to use the same format that was set to the StreamHandler, but also possible to create a new one!*"
   ]
  },
  {
   "cell_type": "code",
   "execution_count": 17,
   "id": "4bb50416",
   "metadata": {},
   "outputs": [],
   "source": [
    "#### ADD YOUR CODE HERE ####\n",
    "file_handler = logging.FileHandler('logfile.log')\n",
    "file_handler.setFormatter(new_format)"
   ]
  },
  {
   "cell_type": "markdown",
   "id": "eff557c8",
   "metadata": {},
   "source": [
    "##### ASSIGNMENT 16: Add the FileHandler to the logger that you created."
   ]
  },
  {
   "cell_type": "code",
   "execution_count": 18,
   "id": "668c065d",
   "metadata": {},
   "outputs": [],
   "source": [
    "logger.addHandler(file_handler)"
   ]
  },
  {
   "cell_type": "markdown",
   "id": "00f0bc94",
   "metadata": {},
   "source": [
    "##### ASSIGNMENT 17: Now write something funny as a statement and log it at all the different levels"
   ]
  },
  {
   "cell_type": "code",
   "execution_count": 19,
   "id": "6a22e8f7",
   "metadata": {},
   "outputs": [
    {
     "name": "stderr",
     "output_type": "stream",
     "text": [
      "2022-06-27 21:32:57,572 - CRITICAL - logger_name - something funny\n",
      "2022-06-27 21:32:57,573 - ERROR - logger_name - something funny\n",
      "2022-06-27 21:32:57,574 - WARNING - logger_name - something funny\n",
      "2022-06-27 21:32:57,575 - INFO - logger_name - something funny\n"
     ]
    }
   ],
   "source": [
    "statement5 = 'something funny'\n",
    "\n",
    "#### ADD YOUR CODE HERE ####\n",
    "logger.critical(statement5)\n",
    "logger.error(statement5)\n",
    "logger.warning(statement5)\n",
    "logger.info(statement5)\n",
    "logger.debug(statement5)"
   ]
  },
  {
   "cell_type": "markdown",
   "id": "32939761",
   "metadata": {},
   "source": [
    "#### ASSIGNMENT 18: now check what is found in the logfile!"
   ]
  },
  {
   "cell_type": "code",
   "execution_count": 20,
   "id": "82f14ee4",
   "metadata": {},
   "outputs": [
    {
     "name": "stdout",
     "output_type": "stream",
     "text": [
      "2022-06-27 21:32:57,572 - CRITICAL - logger_name - something funny\n",
      "2022-06-27 21:32:57,573 - ERROR - logger_name - something funny\n",
      "2022-06-27 21:32:57,574 - WARNING - logger_name - something funny\n",
      "2022-06-27 21:32:57,575 - INFO - logger_name - something funny\n",
      "\n"
     ]
    }
   ],
   "source": [
    "#### NO EXTRA CODE NEEDED. JUST RUN THIS CELL :-) ####\n",
    "with open('logfile.log') as f:\n",
    "    print(f.read())"
   ]
  },
  {
   "cell_type": "markdown",
   "id": "a0b2b8f5",
   "metadata": {},
   "source": [
    "Nice! The logger now does two things:\n",
    "* It displays logged events to the cell output with StreamHandler\n",
    "* It saves the logged events to a file. New events are appended to the file instead of overwriting a file. \n",
    "\n",
    "This can be useful, because you can check the current output window if it's conventient, but always fall back to the logfile at any time in the future! You can save important output to files, such as the accuracy of a model while its training, or maybe the metrics of a freshly trained model to compare to other models later.\n",
    "\n",
    "Please notice that the logfile will grow indefinitely. A few solution to alleviate this is to dynamically set the name of the logfile based on a date, e.g. create a logfile for each month. In that case, older irrelevant logfiles can easily be deleted while keeping the more recent logs.\n",
    "\n",
    "Congratulations on completing this module! Below is one more optional exercise to do if you feel like it!\n",
    "\n",
    "##### OPTIONAL ASSIGNMENT 19: create a new logger that outputs all levels to the cell output. but only warnings and higher to a file. Also create a different format for both the StreamHandler and the FileHandler!"
   ]
  },
  {
   "cell_type": "code",
   "execution_count": 21,
   "id": "a49c37e5",
   "metadata": {},
   "outputs": [],
   "source": [
    "# No solution worked out."
   ]
  }
 ],
 "metadata": {
  "interpreter": {
   "hash": "15b20538a962554200a580dbac694884175b6fc3c353c551da694757f0ccb282"
  },
  "kernelspec": {
   "display_name": "Python 3.10.2 ('ml_eng')",
   "language": "python",
   "name": "python3"
  },
  "language_info": {
   "codemirror_mode": {
    "name": "ipython",
    "version": 3
   },
   "file_extension": ".py",
   "mimetype": "text/x-python",
   "name": "python",
   "nbconvert_exporter": "python",
   "pygments_lexer": "ipython3",
   "version": "3.10.2"
  }
 },
 "nbformat": 4,
 "nbformat_minor": 5
}
