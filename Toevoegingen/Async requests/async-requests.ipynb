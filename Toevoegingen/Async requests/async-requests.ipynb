{
 "cells": [
  {
   "attachments": {},
   "cell_type": "markdown",
   "metadata": {},
   "source": [
    "# Asynchrone requests\n",
    "\n",
    "Bij netwerkverkeer gaat er redelijk veel tijd zitten in \"overhead\": het aangaan van een verbinding, het wachten op antwoord, etc..\n",
    "Al die tijd wordt er geen bandbreedte gebruikt, wat redelijk inefficiënt is voor je totale doorlooptijd: je proces staat te wachten, terwijl er voldoende netwerk-, processor-, schijf- en geheugencapaciteit beschikbaar is.\n",
    "\n",
    "Met de `grequests` module kun je ook asynchrone requests doen. Bedenk dat dit voornamelijk is om het wachten te voorkomen - je gaat hier niet meer CPU-cores van gebruiken o.i.d.!"
   ]
  },
  {
   "cell_type": "code",
   "execution_count": 1,
   "metadata": {},
   "outputs": [
    {
     "name": "stdout",
     "output_type": "stream",
     "text": [
      "Collecting grequests\n",
      "  Downloading grequests-0.6.0-py3-none-any.whl (5.2 kB)\n",
      "Collecting gevent\n",
      "  Downloading gevent-22.10.2-cp311-cp311-macosx_10_9_universal2.whl (2.9 MB)\n",
      "\u001b[2K     \u001b[90m━━━━━━━━━━━━━━━━━━━━━━━━━━━━━━━━━━━━━━━━\u001b[0m \u001b[32m2.9/2.9 MB\u001b[0m \u001b[31m9.8 MB/s\u001b[0m eta \u001b[36m0:00:00\u001b[0mta \u001b[36m0:00:01\u001b[0m\n",
      "\u001b[?25hRequirement already satisfied: requests in /opt/homebrew/lib/python3.11/site-packages (from grequests) (2.28.2)\n",
      "Collecting zope.event\n",
      "  Downloading zope.event-4.6-py2.py3-none-any.whl (6.8 kB)\n",
      "Collecting zope.interface\n",
      "  Downloading zope.interface-6.0-cp311-cp311-macosx_11_0_arm64.whl (202 kB)\n",
      "\u001b[2K     \u001b[90m━━━━━━━━━━━━━━━━━━━━━━━━━━━━━━━━━━━━━━━\u001b[0m \u001b[32m202.4/202.4 kB\u001b[0m \u001b[31m9.2 MB/s\u001b[0m eta \u001b[36m0:00:00\u001b[0m\n",
      "\u001b[?25hRequirement already satisfied: setuptools in /opt/homebrew/lib/python3.11/site-packages (from gevent->grequests) (65.6.3)\n",
      "Collecting greenlet>=2.0.0\n",
      "  Downloading greenlet-2.0.2-cp311-cp311-macosx_10_9_universal2.whl (243 kB)\n",
      "\u001b[2K     \u001b[90m━━━━━━━━━━━━━━━━━━━━━━━━━━━━━━━━━━━━━━━\u001b[0m \u001b[32m243.0/243.0 kB\u001b[0m \u001b[31m9.7 MB/s\u001b[0m eta \u001b[36m0:00:00\u001b[0m\n",
      "\u001b[?25hRequirement already satisfied: charset-normalizer<4,>=2 in /opt/homebrew/lib/python3.11/site-packages (from requests->grequests) (3.1.0)\n",
      "Requirement already satisfied: idna<4,>=2.5 in /opt/homebrew/lib/python3.11/site-packages (from requests->grequests) (3.4)\n",
      "Requirement already satisfied: urllib3<1.27,>=1.21.1 in /opt/homebrew/lib/python3.11/site-packages (from requests->grequests) (1.26.15)\n",
      "Requirement already satisfied: certifi>=2017.4.17 in /opt/homebrew/lib/python3.11/site-packages (from requests->grequests) (2022.12.7)\n",
      "Installing collected packages: zope.interface, zope.event, greenlet, gevent, grequests\n",
      "Successfully installed gevent-22.10.2 greenlet-2.0.2 grequests-0.6.0 zope.event-4.6 zope.interface-6.0\n",
      "Note: you may need to restart the kernel to use updated packages.\n"
     ]
    }
   ],
   "source": [
    "%pip install grequests"
   ]
  },
  {
   "attachments": {},
   "cell_type": "markdown",
   "metadata": {},
   "source": [
    "## Voorbeeld\n",
    "Onderstaand voorbeeld komt direct van [de GitHub-pagina van grequests](https://github.com/spyoungtech/grequests):"
   ]
  },
  {
   "cell_type": "code",
   "execution_count": 3,
   "metadata": {},
   "outputs": [],
   "source": [
    "import grequests\n",
    "\n",
    "# Een zestal pagina's om simultaan te laden\n",
    "urls = [\n",
    "    'http://www.heroku.com',\n",
    "    'http://python-tablib.org',\n",
    "    'http://httpbin.org',\n",
    "    'http://python-requests.org',\n",
    "    'http://fakedomain/',\n",
    "    'http://kennethreitz.com'\n",
    "]"
   ]
  },
  {
   "attachments": {},
   "cell_type": "markdown",
   "metadata": {},
   "source": [
    "We maken allereerst een verzameling van Requests die we nog niet versturen:"
   ]
  },
  {
   "cell_type": "code",
   "execution_count": 4,
   "metadata": {},
   "outputs": [],
   "source": [
    "rs = (grequests.get(u) for u in urls)"
   ]
  },
  {
   "attachments": {},
   "cell_type": "markdown",
   "metadata": {},
   "source": [
    "Vervolgens kunnen we die in één keer verzenden:"
   ]
  },
  {
   "cell_type": "code",
   "execution_count": 5,
   "metadata": {},
   "outputs": [
    {
     "data": {
      "text/plain": [
       "[<Response [200]>,\n",
       " <Response [200]>,\n",
       " <Response [200]>,\n",
       " None,\n",
       " None,\n",
       " <Response [200]>]"
      ]
     },
     "execution_count": 5,
     "metadata": {},
     "output_type": "execute_result"
    }
   ],
   "source": [
    "# Dit is een blocking request met een timeout van 4 (?) seconden.\n",
    "# Hij blijft voor je wachten tot alle requests gedaan zijn (en dat is wel zo makkelijk):\n",
    "grequests.map(rs)"
   ]
  },
  {
   "attachments": {},
   "cell_type": "markdown",
   "metadata": {},
   "source": [
    "Je kunt vervolgens eenvoudig aanpassingen maken, bijvoorbeeld in de timeout:"
   ]
  },
  {
   "cell_type": "code",
   "execution_count": 7,
   "metadata": {},
   "outputs": [],
   "source": [
    "reqs = [grequests.get('http://httpbin.org/delay/1', timeout=0.001),\n",
    "    grequests.get('http://fakedomain/'),\n",
    "    grequests.get('http://httpbin.org/status/500')]"
   ]
  },
  {
   "attachments": {},
   "cell_type": "markdown",
   "metadata": {},
   "source": [
    ".. en met een exception handler:"
   ]
  },
  {
   "cell_type": "code",
   "execution_count": 8,
   "metadata": {},
   "outputs": [
    {
     "name": "stdout",
     "output_type": "stream",
     "text": [
      "Request failed\n",
      "Request failed\n"
     ]
    },
    {
     "data": {
      "text/plain": [
       "[None, None, <Response [500]>]"
      ]
     },
     "execution_count": 8,
     "metadata": {},
     "output_type": "execute_result"
    }
   ],
   "source": [
    "grequests.map(reqs, exception_handler=lambda request, exception: print(\"Request failed\"))"
   ]
  }
 ],
 "metadata": {
  "kernelspec": {
   "display_name": "Python 3",
   "language": "python",
   "name": "python3"
  },
  "language_info": {
   "codemirror_mode": {
    "name": "ipython",
    "version": 3
   },
   "file_extension": ".py",
   "mimetype": "text/x-python",
   "name": "python",
   "nbconvert_exporter": "python",
   "pygments_lexer": "ipython3",
   "version": "3.11.2"
  },
  "orig_nbformat": 4
 },
 "nbformat": 4,
 "nbformat_minor": 2
}
