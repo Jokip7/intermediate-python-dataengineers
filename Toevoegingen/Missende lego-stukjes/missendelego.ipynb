{
 "cells": [
  {
   "cell_type": "code",
   "execution_count": 1,
   "metadata": {},
   "outputs": [],
   "source": [
    "import pandas as pd"
   ]
  },
  {
   "cell_type": "code",
   "execution_count": 2,
   "metadata": {},
   "outputs": [],
   "source": [
    "df = pd.read_csv('parts.csv')"
   ]
  },
  {
   "attachments": {},
   "cell_type": "markdown",
   "metadata": {},
   "source": [
    "Cursisten gaven aan dat de \"4511\" dubbel voorkwam wanneer ze deze in een database inlaadden.\n",
    "De reden is dat het \"part number\" niet echt numeriek is (er is zowel een 4511 als een 004511):"
   ]
  },
  {
   "cell_type": "code",
   "execution_count": 3,
   "metadata": {},
   "outputs": [
    {
     "data": {
      "text/html": [
       "<div>\n",
       "<style scoped>\n",
       "    .dataframe tbody tr th:only-of-type {\n",
       "        vertical-align: middle;\n",
       "    }\n",
       "\n",
       "    .dataframe tbody tr th {\n",
       "        vertical-align: top;\n",
       "    }\n",
       "\n",
       "    .dataframe thead th {\n",
       "        text-align: right;\n",
       "    }\n",
       "</style>\n",
       "<table border=\"1\" class=\"dataframe\">\n",
       "  <thead>\n",
       "    <tr style=\"text-align: right;\">\n",
       "      <th></th>\n",
       "      <th>part_num</th>\n",
       "      <th>name</th>\n",
       "      <th>part_cat_id</th>\n",
       "      <th>part_material</th>\n",
       "    </tr>\n",
       "  </thead>\n",
       "  <tbody>\n",
       "    <tr>\n",
       "      <th>19284</th>\n",
       "      <td>4511</td>\n",
       "      <td>Door Sliding - Type 1</td>\n",
       "      <td>16</td>\n",
       "      <td>Plastic</td>\n",
       "    </tr>\n",
       "  </tbody>\n",
       "</table>\n",
       "</div>"
      ],
      "text/plain": [
       "      part_num                   name  part_cat_id part_material\n",
       "19284     4511  Door Sliding - Type 1           16       Plastic"
      ]
     },
     "execution_count": 3,
     "metadata": {},
     "output_type": "execute_result"
    }
   ],
   "source": [
    "df.query(\"part_num == '4511'\")"
   ]
  },
  {
   "cell_type": "code",
   "execution_count": 4,
   "metadata": {},
   "outputs": [
    {
     "data": {
      "text/html": [
       "<div>\n",
       "<style scoped>\n",
       "    .dataframe tbody tr th:only-of-type {\n",
       "        vertical-align: middle;\n",
       "    }\n",
       "\n",
       "    .dataframe tbody tr th {\n",
       "        vertical-align: top;\n",
       "    }\n",
       "\n",
       "    .dataframe thead th {\n",
       "        text-align: right;\n",
       "    }\n",
       "</style>\n",
       "<table border=\"1\" class=\"dataframe\">\n",
       "  <thead>\n",
       "    <tr style=\"text-align: right;\">\n",
       "      <th></th>\n",
       "      <th>part_num</th>\n",
       "      <th>name</th>\n",
       "      <th>part_cat_id</th>\n",
       "      <th>part_material</th>\n",
       "    </tr>\n",
       "  </thead>\n",
       "  <tbody>\n",
       "    <tr>\n",
       "      <th>43</th>\n",
       "      <td>004511</td>\n",
       "      <td>Sticker Sheet for Sets 363-1, 555-1</td>\n",
       "      <td>58</td>\n",
       "      <td>Plastic</td>\n",
       "    </tr>\n",
       "  </tbody>\n",
       "</table>\n",
       "</div>"
      ],
      "text/plain": [
       "   part_num                                 name  part_cat_id part_material\n",
       "43   004511  Sticker Sheet for Sets 363-1, 555-1           58       Plastic"
      ]
     },
     "execution_count": 4,
     "metadata": {},
     "output_type": "execute_result"
    }
   ],
   "source": [
    "df.query(\"part_num == '004511'\")"
   ]
  },
  {
   "cell_type": "code",
   "execution_count": 7,
   "metadata": {},
   "outputs": [
    {
     "data": {
      "text/html": [
       "<div>\n",
       "<style scoped>\n",
       "    .dataframe tbody tr th:only-of-type {\n",
       "        vertical-align: middle;\n",
       "    }\n",
       "\n",
       "    .dataframe tbody tr th {\n",
       "        vertical-align: top;\n",
       "    }\n",
       "\n",
       "    .dataframe thead th {\n",
       "        text-align: right;\n",
       "    }\n",
       "</style>\n",
       "<table border=\"1\" class=\"dataframe\">\n",
       "  <thead>\n",
       "    <tr style=\"text-align: right;\">\n",
       "      <th></th>\n",
       "      <th>part_num</th>\n",
       "      <th>name</th>\n",
       "      <th>part_cat_id</th>\n",
       "      <th>part_material</th>\n",
       "    </tr>\n",
       "  </thead>\n",
       "  <tbody>\n",
       "    <tr>\n",
       "      <th>43</th>\n",
       "      <td>004511</td>\n",
       "      <td>Sticker Sheet for Sets 363-1, 555-1</td>\n",
       "      <td>58</td>\n",
       "      <td>Plastic</td>\n",
       "    </tr>\n",
       "    <tr>\n",
       "      <th>3927</th>\n",
       "      <td>2045110</td>\n",
       "      <td>DVD-Rom, BuildToExpress Guide and Activity Pack</td>\n",
       "      <td>17</td>\n",
       "      <td>Plastic</td>\n",
       "    </tr>\n",
       "    <tr>\n",
       "      <th>5753</th>\n",
       "      <td>24511</td>\n",
       "      <td>Sticker Sheet for Set 60109-1</td>\n",
       "      <td>58</td>\n",
       "      <td>Plastic</td>\n",
       "    </tr>\n",
       "    <tr>\n",
       "      <th>19075</th>\n",
       "      <td>44511</td>\n",
       "      <td>Tower Roof 8 x 12 x 10 Onion Dome</td>\n",
       "      <td>20</td>\n",
       "      <td>Plastic</td>\n",
       "    </tr>\n",
       "    <tr>\n",
       "      <th>19284</th>\n",
       "      <td>4511</td>\n",
       "      <td>Door Sliding - Type 1</td>\n",
       "      <td>16</td>\n",
       "      <td>Plastic</td>\n",
       "    </tr>\n",
       "    <tr>\n",
       "      <th>19285</th>\n",
       "      <td>45117c01</td>\n",
       "      <td>Duplo Toolo Wings with 2 x 4 Brick Center</td>\n",
       "      <td>4</td>\n",
       "      <td>Plastic</td>\n",
       "    </tr>\n",
       "    <tr>\n",
       "      <th>19286</th>\n",
       "      <td>4511pr0001</td>\n",
       "      <td>Door Sliding - Type 1 with Yellow Dollar Sign ...</td>\n",
       "      <td>16</td>\n",
       "      <td>Plastic</td>\n",
       "    </tr>\n",
       "    <tr>\n",
       "      <th>35332</th>\n",
       "      <td>973c28h01pr4511</td>\n",
       "      <td>Torso Safety Vest with Reflective Worn Stripes...</td>\n",
       "      <td>60</td>\n",
       "      <td>Plastic</td>\n",
       "    </tr>\n",
       "  </tbody>\n",
       "</table>\n",
       "</div>"
      ],
      "text/plain": [
       "              part_num                                               name   \n",
       "43              004511                Sticker Sheet for Sets 363-1, 555-1  \\\n",
       "3927           2045110    DVD-Rom, BuildToExpress Guide and Activity Pack   \n",
       "5753             24511                      Sticker Sheet for Set 60109-1   \n",
       "19075            44511                  Tower Roof 8 x 12 x 10 Onion Dome   \n",
       "19284             4511                              Door Sliding - Type 1   \n",
       "19285         45117c01          Duplo Toolo Wings with 2 x 4 Brick Center   \n",
       "19286       4511pr0001  Door Sliding - Type 1 with Yellow Dollar Sign ...   \n",
       "35332  973c28h01pr4511  Torso Safety Vest with Reflective Worn Stripes...   \n",
       "\n",
       "       part_cat_id part_material  \n",
       "43              58       Plastic  \n",
       "3927            17       Plastic  \n",
       "5753            58       Plastic  \n",
       "19075           20       Plastic  \n",
       "19284           16       Plastic  \n",
       "19285            4       Plastic  \n",
       "19286           16       Plastic  \n",
       "35332           60       Plastic  "
      ]
     },
     "execution_count": 7,
     "metadata": {},
     "output_type": "execute_result"
    }
   ],
   "source": [
    "df.query(\"part_num.str.contains('4511')\")"
   ]
  }
 ],
 "metadata": {
  "kernelspec": {
   "display_name": "Python 3",
   "language": "python",
   "name": "python3"
  },
  "language_info": {
   "codemirror_mode": {
    "name": "ipython",
    "version": 3
   },
   "file_extension": ".py",
   "mimetype": "text/x-python",
   "name": "python",
   "nbconvert_exporter": "python",
   "pygments_lexer": "ipython3",
   "version": "3.11.2"
  },
  "orig_nbformat": 4
 },
 "nbformat": 4,
 "nbformat_minor": 2
}
