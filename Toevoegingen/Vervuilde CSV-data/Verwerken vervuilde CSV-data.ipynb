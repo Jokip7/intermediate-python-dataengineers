{
 "cells": [
  {
   "cell_type": "code",
   "execution_count": 1,
   "metadata": {},
   "outputs": [],
   "source": [
    "import pandas as pd"
   ]
  },
  {
   "attachments": {},
   "cell_type": "markdown",
   "metadata": {},
   "source": [
    "In het bestand \"DE Sales.csv\" zijn een aantal zaken corrupt:\n",
    "\n",
    "* Regel 96209-96214 hebben een puntkomma ; in plaats van een komma , als scheidingsteken\n",
    "* Regel 98817-98830 heeft een Nederlands datumformaat in plaats van een Amerikaans (28-7-2004 ipv 7/28/2004)\n",
    "* Regel 179482-179484 zijn \"echt\" corrupt\n",
    "* Regel 232710 t/m 232719 hebben geen laatste kolom\n"
   ]
  },
  {
   "cell_type": "code",
   "execution_count": 20,
   "metadata": {},
   "outputs": [],
   "source": [
    "df = pd.read_csv(\"DE Sales.csv\")"
   ]
  },
  {
   "attachments": {},
   "cell_type": "markdown",
   "metadata": {},
   "source": [
    "Inlezen lijkt goed te gaan.."
   ]
  },
  {
   "cell_type": "code",
   "execution_count": 21,
   "metadata": {},
   "outputs": [
    {
     "data": {
      "text/html": [
       "<div>\n",
       "<style scoped>\n",
       "    .dataframe tbody tr th:only-of-type {\n",
       "        vertical-align: middle;\n",
       "    }\n",
       "\n",
       "    .dataframe tbody tr th {\n",
       "        vertical-align: top;\n",
       "    }\n",
       "\n",
       "    .dataframe thead th {\n",
       "        text-align: right;\n",
       "    }\n",
       "</style>\n",
       "<table border=\"1\" class=\"dataframe\">\n",
       "  <thead>\n",
       "    <tr style=\"text-align: right;\">\n",
       "      <th></th>\n",
       "      <th>ProductID</th>\n",
       "      <th>Date</th>\n",
       "      <th>Zip</th>\n",
       "      <th>Units</th>\n",
       "      <th>Revenue</th>\n",
       "      <th>Country</th>\n",
       "    </tr>\n",
       "  </thead>\n",
       "  <tbody>\n",
       "    <tr>\n",
       "      <th>0</th>\n",
       "      <td>725</td>\n",
       "      <td>1/15/1999</td>\n",
       "      <td>41540.0</td>\n",
       "      <td>1.0</td>\n",
       "      <td>115.45</td>\n",
       "      <td>Germany</td>\n",
       "    </tr>\n",
       "    <tr>\n",
       "      <th>1</th>\n",
       "      <td>787</td>\n",
       "      <td>6/6/2002</td>\n",
       "      <td>41540.0</td>\n",
       "      <td>1.0</td>\n",
       "      <td>314.95</td>\n",
       "      <td>Germany</td>\n",
       "    </tr>\n",
       "    <tr>\n",
       "      <th>2</th>\n",
       "      <td>788</td>\n",
       "      <td>6/6/2002</td>\n",
       "      <td>41540.0</td>\n",
       "      <td>1.0</td>\n",
       "      <td>314.95</td>\n",
       "      <td>Germany</td>\n",
       "    </tr>\n",
       "    <tr>\n",
       "      <th>3</th>\n",
       "      <td>940</td>\n",
       "      <td>1/15/1999</td>\n",
       "      <td>22587.0</td>\n",
       "      <td>1.0</td>\n",
       "      <td>687.70</td>\n",
       "      <td>Germany</td>\n",
       "    </tr>\n",
       "    <tr>\n",
       "      <th>4</th>\n",
       "      <td>396</td>\n",
       "      <td>1/15/1999</td>\n",
       "      <td>22587.0</td>\n",
       "      <td>1.0</td>\n",
       "      <td>857.06</td>\n",
       "      <td>Germany</td>\n",
       "    </tr>\n",
       "  </tbody>\n",
       "</table>\n",
       "</div>"
      ],
      "text/plain": [
       "  ProductID       Date      Zip  Units  Revenue  Country\n",
       "0       725  1/15/1999  41540.0    1.0   115.45  Germany\n",
       "1       787   6/6/2002  41540.0    1.0   314.95  Germany\n",
       "2       788   6/6/2002  41540.0    1.0   314.95  Germany\n",
       "3       940  1/15/1999  22587.0    1.0   687.70  Germany\n",
       "4       396  1/15/1999  22587.0    1.0   857.06  Germany"
      ]
     },
     "execution_count": 21,
     "metadata": {},
     "output_type": "execute_result"
    }
   ],
   "source": [
    "df.head()"
   ]
  },
  {
   "cell_type": "markdown",
   "metadata": {},
   "source": [
    "Maar vermoedelijk komt dat doordat het datatype van \"date\" niet herkend is:"
   ]
  },
  {
   "cell_type": "code",
   "execution_count": 22,
   "metadata": {},
   "outputs": [
    {
     "data": {
      "text/plain": [
       "ProductID     object\n",
       "Date          object\n",
       "Zip          float64\n",
       "Units        float64\n",
       "Revenue      float64\n",
       "Country       object\n",
       "dtype: object"
      ]
     },
     "execution_count": 22,
     "metadata": {},
     "output_type": "execute_result"
    }
   ],
   "source": [
    "# Get the type of each column\n",
    "df.dtypes"
   ]
  },
  {
   "cell_type": "code",
   "execution_count": 23,
   "metadata": {},
   "outputs": [
    {
     "ename": "DateParseError",
     "evalue": "Unknown datetime string format, unable to parse: 893qgunheja9;gpuivajnr, at position 3155",
     "output_type": "error",
     "traceback": [
      "\u001b[0;31m---------------------------------------------------------------------------\u001b[0m",
      "\u001b[0;31mDateParseError\u001b[0m                            Traceback (most recent call last)",
      "Cell \u001b[0;32mIn[23], line 2\u001b[0m\n\u001b[1;32m      1\u001b[0m \u001b[39m# Laten we de datum \"echt\" als datum proberen te parsen:\u001b[39;00m\n\u001b[0;32m----> 2\u001b[0m df[\u001b[39m'\u001b[39m\u001b[39mDate\u001b[39m\u001b[39m'\u001b[39m] \u001b[39m=\u001b[39m pd\u001b[39m.\u001b[39;49mto_datetime(df[\u001b[39m'\u001b[39;49m\u001b[39mDate\u001b[39;49m\u001b[39m'\u001b[39;49m], \u001b[39mformat\u001b[39;49m\u001b[39m=\u001b[39;49m\u001b[39m\"\u001b[39;49m\u001b[39mmixed\u001b[39;49m\u001b[39m\"\u001b[39;49m)\n",
      "File \u001b[0;32m/opt/homebrew/lib/python3.11/site-packages/pandas/core/tools/datetimes.py:1046\u001b[0m, in \u001b[0;36mto_datetime\u001b[0;34m(arg, errors, dayfirst, yearfirst, utc, format, exact, unit, infer_datetime_format, origin, cache)\u001b[0m\n\u001b[1;32m   1044\u001b[0m             result \u001b[39m=\u001b[39m arg\u001b[39m.\u001b[39mtz_localize(\u001b[39m\"\u001b[39m\u001b[39mutc\u001b[39m\u001b[39m\"\u001b[39m)\n\u001b[1;32m   1045\u001b[0m \u001b[39melif\u001b[39;00m \u001b[39misinstance\u001b[39m(arg, ABCSeries):\n\u001b[0;32m-> 1046\u001b[0m     cache_array \u001b[39m=\u001b[39m _maybe_cache(arg, \u001b[39mformat\u001b[39;49m, cache, convert_listlike)\n\u001b[1;32m   1047\u001b[0m     \u001b[39mif\u001b[39;00m \u001b[39mnot\u001b[39;00m cache_array\u001b[39m.\u001b[39mempty:\n\u001b[1;32m   1048\u001b[0m         result \u001b[39m=\u001b[39m arg\u001b[39m.\u001b[39mmap(cache_array)\n",
      "File \u001b[0;32m/opt/homebrew/lib/python3.11/site-packages/pandas/core/tools/datetimes.py:250\u001b[0m, in \u001b[0;36m_maybe_cache\u001b[0;34m(arg, format, cache, convert_listlike)\u001b[0m\n\u001b[1;32m    248\u001b[0m unique_dates \u001b[39m=\u001b[39m unique(arg)\n\u001b[1;32m    249\u001b[0m \u001b[39mif\u001b[39;00m \u001b[39mlen\u001b[39m(unique_dates) \u001b[39m<\u001b[39m \u001b[39mlen\u001b[39m(arg):\n\u001b[0;32m--> 250\u001b[0m     cache_dates \u001b[39m=\u001b[39m convert_listlike(unique_dates, \u001b[39mformat\u001b[39;49m)\n\u001b[1;32m    251\u001b[0m     \u001b[39m# GH#45319\u001b[39;00m\n\u001b[1;32m    252\u001b[0m     \u001b[39mtry\u001b[39;00m:\n",
      "File \u001b[0;32m/opt/homebrew/lib/python3.11/site-packages/pandas/core/tools/datetimes.py:455\u001b[0m, in \u001b[0;36m_convert_listlike_datetimes\u001b[0;34m(arg, format, name, utc, unit, errors, dayfirst, yearfirst, exact)\u001b[0m\n\u001b[1;32m    452\u001b[0m \u001b[39mif\u001b[39;00m \u001b[39mformat\u001b[39m \u001b[39mis\u001b[39;00m \u001b[39mnot\u001b[39;00m \u001b[39mNone\u001b[39;00m \u001b[39mand\u001b[39;00m \u001b[39mformat\u001b[39m \u001b[39m!=\u001b[39m \u001b[39m\"\u001b[39m\u001b[39mmixed\u001b[39m\u001b[39m\"\u001b[39m:\n\u001b[1;32m    453\u001b[0m     \u001b[39mreturn\u001b[39;00m _array_strptime_with_fallback(arg, name, utc, \u001b[39mformat\u001b[39m, exact, errors)\n\u001b[0;32m--> 455\u001b[0m result, tz_parsed \u001b[39m=\u001b[39m objects_to_datetime64ns(\n\u001b[1;32m    456\u001b[0m     arg,\n\u001b[1;32m    457\u001b[0m     dayfirst\u001b[39m=\u001b[39;49mdayfirst,\n\u001b[1;32m    458\u001b[0m     yearfirst\u001b[39m=\u001b[39;49myearfirst,\n\u001b[1;32m    459\u001b[0m     utc\u001b[39m=\u001b[39;49mutc,\n\u001b[1;32m    460\u001b[0m     errors\u001b[39m=\u001b[39;49merrors,\n\u001b[1;32m    461\u001b[0m     allow_object\u001b[39m=\u001b[39;49m\u001b[39mTrue\u001b[39;49;00m,\n\u001b[1;32m    462\u001b[0m )\n\u001b[1;32m    464\u001b[0m \u001b[39mif\u001b[39;00m tz_parsed \u001b[39mis\u001b[39;00m \u001b[39mnot\u001b[39;00m \u001b[39mNone\u001b[39;00m:\n\u001b[1;32m    465\u001b[0m     \u001b[39m# We can take a shortcut since the datetime64 numpy array\u001b[39;00m\n\u001b[1;32m    466\u001b[0m     \u001b[39m# is in UTC\u001b[39;00m\n\u001b[1;32m    467\u001b[0m     dta \u001b[39m=\u001b[39m DatetimeArray(result, dtype\u001b[39m=\u001b[39mtz_to_dtype(tz_parsed))\n",
      "File \u001b[0;32m/opt/homebrew/lib/python3.11/site-packages/pandas/core/arrays/datetimes.py:2177\u001b[0m, in \u001b[0;36mobjects_to_datetime64ns\u001b[0;34m(data, dayfirst, yearfirst, utc, errors, allow_object)\u001b[0m\n\u001b[1;32m   2174\u001b[0m \u001b[39m# if str-dtype, convert\u001b[39;00m\n\u001b[1;32m   2175\u001b[0m data \u001b[39m=\u001b[39m np\u001b[39m.\u001b[39marray(data, copy\u001b[39m=\u001b[39m\u001b[39mFalse\u001b[39;00m, dtype\u001b[39m=\u001b[39mnp\u001b[39m.\u001b[39mobject_)\n\u001b[0;32m-> 2177\u001b[0m result, tz_parsed \u001b[39m=\u001b[39m tslib\u001b[39m.\u001b[39;49marray_to_datetime(\n\u001b[1;32m   2178\u001b[0m     data,\n\u001b[1;32m   2179\u001b[0m     errors\u001b[39m=\u001b[39;49merrors,\n\u001b[1;32m   2180\u001b[0m     utc\u001b[39m=\u001b[39;49mutc,\n\u001b[1;32m   2181\u001b[0m     dayfirst\u001b[39m=\u001b[39;49mdayfirst,\n\u001b[1;32m   2182\u001b[0m     yearfirst\u001b[39m=\u001b[39;49myearfirst,\n\u001b[1;32m   2183\u001b[0m )\n\u001b[1;32m   2185\u001b[0m \u001b[39mif\u001b[39;00m tz_parsed \u001b[39mis\u001b[39;00m \u001b[39mnot\u001b[39;00m \u001b[39mNone\u001b[39;00m:\n\u001b[1;32m   2186\u001b[0m     \u001b[39m# We can take a shortcut since the datetime64 numpy array\u001b[39;00m\n\u001b[1;32m   2187\u001b[0m     \u001b[39m#  is in UTC\u001b[39;00m\n\u001b[1;32m   2188\u001b[0m     \u001b[39m# Return i8 values to denote unix timestamps\u001b[39;00m\n\u001b[1;32m   2189\u001b[0m     \u001b[39mreturn\u001b[39;00m result\u001b[39m.\u001b[39mview(\u001b[39m\"\u001b[39m\u001b[39mi8\u001b[39m\u001b[39m\"\u001b[39m), tz_parsed\n",
      "File \u001b[0;32m/opt/homebrew/lib/python3.11/site-packages/pandas/_libs/tslib.pyx:402\u001b[0m, in \u001b[0;36mpandas._libs.tslib.array_to_datetime\u001b[0;34m()\u001b[0m\n",
      "File \u001b[0;32m/opt/homebrew/lib/python3.11/site-packages/pandas/_libs/tslib.pyx:551\u001b[0m, in \u001b[0;36mpandas._libs.tslib.array_to_datetime\u001b[0;34m()\u001b[0m\n",
      "File \u001b[0;32m/opt/homebrew/lib/python3.11/site-packages/pandas/_libs/tslib.pyx:516\u001b[0m, in \u001b[0;36mpandas._libs.tslib.array_to_datetime\u001b[0;34m()\u001b[0m\n",
      "File \u001b[0;32m/opt/homebrew/lib/python3.11/site-packages/pandas/_libs/tslibs/conversion.pyx:557\u001b[0m, in \u001b[0;36mpandas._libs.tslibs.conversion.convert_str_to_tsobject\u001b[0;34m()\u001b[0m\n",
      "File \u001b[0;32m/opt/homebrew/lib/python3.11/site-packages/pandas/_libs/tslibs/parsing.pyx:329\u001b[0m, in \u001b[0;36mpandas._libs.tslibs.parsing.parse_datetime_string\u001b[0;34m()\u001b[0m\n",
      "File \u001b[0;32m/opt/homebrew/lib/python3.11/site-packages/pandas/_libs/tslibs/parsing.pyx:658\u001b[0m, in \u001b[0;36mpandas._libs.tslibs.parsing.dateutil_parse\u001b[0;34m()\u001b[0m\n",
      "\u001b[0;31mDateParseError\u001b[0m: Unknown datetime string format, unable to parse: 893qgunheja9;gpuivajnr, at position 3155"
     ]
    }
   ],
   "source": [
    "# Laten we de datum \"echt\" als datum proberen te parsen:\n",
    "df['Date'] = pd.to_datetime(df['Date'], format=\"mixed\")\n",
    "\n"
   ]
  },
  {
   "attachments": {},
   "cell_type": "markdown",
   "metadata": {},
   "source": [
    "De \"echte\" vervuiling speelt nu op. Optie 1 is simpelweg het weglaten van fouten:"
   ]
  },
  {
   "cell_type": "code",
   "execution_count": 25,
   "metadata": {},
   "outputs": [],
   "source": [
    "# Replace values that do not convert with \"NaT\"\n",
    "df = pd.to_datetime(df['Date'], format=\"mixed\", errors=\"coerce\")\n"
   ]
  },
  {
   "attachments": {},
   "cell_type": "markdown",
   "metadata": {},
   "source": [
    "Dat blijkt niet zo'n probleem voor Pandas - de \"mixed\" kan verschillende datum-types herkennen. (Kan gevaarlijk zijn, maar in de \"gevaarlijke\" situaties zou je afwijkingen ook niet herkennen!)"
   ]
  },
  {
   "attachments": {},
   "cell_type": "markdown",
   "metadata": {},
   "source": [
    "Voor de eerste set niet zo'n probleem (door een verkeerd scheidingsteken staat alles in de eerste kolom:) "
   ]
  },
  {
   "cell_type": "code",
   "execution_count": 19,
   "metadata": {},
   "outputs": [
    {
     "data": {
      "text/html": [
       "<div>\n",
       "<style scoped>\n",
       "    .dataframe tbody tr th:only-of-type {\n",
       "        vertical-align: middle;\n",
       "    }\n",
       "\n",
       "    .dataframe tbody tr th {\n",
       "        vertical-align: top;\n",
       "    }\n",
       "\n",
       "    .dataframe thead th {\n",
       "        text-align: right;\n",
       "    }\n",
       "</style>\n",
       "<table border=\"1\" class=\"dataframe\">\n",
       "  <thead>\n",
       "    <tr style=\"text-align: right;\">\n",
       "      <th></th>\n",
       "      <th>ProductID</th>\n",
       "      <th>Date</th>\n",
       "      <th>Zip</th>\n",
       "      <th>Units</th>\n",
       "      <th>Revenue</th>\n",
       "      <th>Country</th>\n",
       "    </tr>\n",
       "  </thead>\n",
       "  <tbody>\n",
       "    <tr>\n",
       "      <th>96209</th>\n",
       "      <td>631;7/27/2004;20251;1;398.74;Germany</td>\n",
       "      <td>NaT</td>\n",
       "      <td>NaN</td>\n",
       "      <td>NaN</td>\n",
       "      <td>NaN</td>\n",
       "      <td>NaN</td>\n",
       "    </tr>\n",
       "    <tr>\n",
       "      <th>96210</th>\n",
       "      <td>645;7/27/2004;14165;1;734.74;Germany</td>\n",
       "      <td>NaT</td>\n",
       "      <td>NaN</td>\n",
       "      <td>NaN</td>\n",
       "      <td>NaN</td>\n",
       "      <td>NaN</td>\n",
       "    </tr>\n",
       "    <tr>\n",
       "      <th>96211</th>\n",
       "      <td>791;7/27/2004;12627;1;62.95;Germany</td>\n",
       "      <td>NaT</td>\n",
       "      <td>NaN</td>\n",
       "      <td>NaN</td>\n",
       "      <td>NaN</td>\n",
       "      <td>NaN</td>\n",
       "    </tr>\n",
       "    <tr>\n",
       "      <th>96212</th>\n",
       "      <td>792;7/27/2004;13465;1;62.95;Germany</td>\n",
       "      <td>NaT</td>\n",
       "      <td>NaN</td>\n",
       "      <td>NaN</td>\n",
       "      <td>NaN</td>\n",
       "      <td>NaN</td>\n",
       "    </tr>\n",
       "    <tr>\n",
       "      <th>96213</th>\n",
       "      <td>572</td>\n",
       "      <td>2004-07-29</td>\n",
       "      <td>10783.0</td>\n",
       "      <td>1.0</td>\n",
       "      <td>445.99</td>\n",
       "      <td>Germany</td>\n",
       "    </tr>\n",
       "    <tr>\n",
       "      <th>96214</th>\n",
       "      <td>791</td>\n",
       "      <td>2004-07-29</td>\n",
       "      <td>13597.0</td>\n",
       "      <td>1.0</td>\n",
       "      <td>62.95</td>\n",
       "      <td>Germany</td>\n",
       "    </tr>\n",
       "  </tbody>\n",
       "</table>\n",
       "</div>"
      ],
      "text/plain": [
       "                                  ProductID       Date      Zip  Units   \n",
       "96209  631;7/27/2004;20251;1;398.74;Germany        NaT      NaN    NaN  \\\n",
       "96210  645;7/27/2004;14165;1;734.74;Germany        NaT      NaN    NaN   \n",
       "96211   791;7/27/2004;12627;1;62.95;Germany        NaT      NaN    NaN   \n",
       "96212   792;7/27/2004;13465;1;62.95;Germany        NaT      NaN    NaN   \n",
       "96213                                   572 2004-07-29  10783.0    1.0   \n",
       "96214                                   791 2004-07-29  13597.0    1.0   \n",
       "\n",
       "       Revenue  Country  \n",
       "96209      NaN      NaN  \n",
       "96210      NaN      NaN  \n",
       "96211      NaN      NaN  \n",
       "96212      NaN      NaN  \n",
       "96213   445.99  Germany  \n",
       "96214    62.95  Germany  "
      ]
     },
     "execution_count": 19,
     "metadata": {},
     "output_type": "execute_result"
    }
   ],
   "source": [
    "# Select rows 96209 until 96214\n",
    "df[96209:96215]\n"
   ]
  },
  {
   "attachments": {},
   "cell_type": "markdown",
   "metadata": {},
   "source": [
    "Voor de tweede fout:"
   ]
  },
  {
   "cell_type": "code",
   "execution_count": 18,
   "metadata": {},
   "outputs": [
    {
     "data": {
      "text/html": [
       "<div>\n",
       "<style scoped>\n",
       "    .dataframe tbody tr th:only-of-type {\n",
       "        vertical-align: middle;\n",
       "    }\n",
       "\n",
       "    .dataframe tbody tr th {\n",
       "        vertical-align: top;\n",
       "    }\n",
       "\n",
       "    .dataframe thead th {\n",
       "        text-align: right;\n",
       "    }\n",
       "</style>\n",
       "<table border=\"1\" class=\"dataframe\">\n",
       "  <thead>\n",
       "    <tr style=\"text-align: right;\">\n",
       "      <th></th>\n",
       "      <th>ProductID</th>\n",
       "      <th>Date</th>\n",
       "      <th>Zip</th>\n",
       "      <th>Units</th>\n",
       "      <th>Revenue</th>\n",
       "      <th>Country</th>\n",
       "    </tr>\n",
       "  </thead>\n",
       "  <tbody>\n",
       "    <tr>\n",
       "      <th>98817</th>\n",
       "      <td>992</td>\n",
       "      <td>2004-07-28</td>\n",
       "      <td>40229.0</td>\n",
       "      <td>1.0</td>\n",
       "      <td>278.20</td>\n",
       "      <td>Germany</td>\n",
       "    </tr>\n",
       "    <tr>\n",
       "      <th>98818</th>\n",
       "      <td>1000</td>\n",
       "      <td>2004-07-28</td>\n",
       "      <td>22111.0</td>\n",
       "      <td>1.0</td>\n",
       "      <td>91.82</td>\n",
       "      <td>Germany</td>\n",
       "    </tr>\n",
       "    <tr>\n",
       "      <th>98819</th>\n",
       "      <td>2054</td>\n",
       "      <td>2004-07-28</td>\n",
       "      <td>40215.0</td>\n",
       "      <td>1.0</td>\n",
       "      <td>551.20</td>\n",
       "      <td>Germany</td>\n",
       "    </tr>\n",
       "    <tr>\n",
       "      <th>98820</th>\n",
       "      <td>396</td>\n",
       "      <td>2004-07-28</td>\n",
       "      <td>41516.0</td>\n",
       "      <td>1.0</td>\n",
       "      <td>907.99</td>\n",
       "      <td>Germany</td>\n",
       "    </tr>\n",
       "    <tr>\n",
       "      <th>98821</th>\n",
       "      <td>635</td>\n",
       "      <td>2004-07-28</td>\n",
       "      <td>22419.0</td>\n",
       "      <td>1.0</td>\n",
       "      <td>884.36</td>\n",
       "      <td>Germany</td>\n",
       "    </tr>\n",
       "    <tr>\n",
       "      <th>98822</th>\n",
       "      <td>635</td>\n",
       "      <td>2004-07-28</td>\n",
       "      <td>40229.0</td>\n",
       "      <td>1.0</td>\n",
       "      <td>884.36</td>\n",
       "      <td>Germany</td>\n",
       "    </tr>\n",
       "    <tr>\n",
       "      <th>98823</th>\n",
       "      <td>635</td>\n",
       "      <td>2004-07-28</td>\n",
       "      <td>42107.0</td>\n",
       "      <td>1.0</td>\n",
       "      <td>884.36</td>\n",
       "      <td>Germany</td>\n",
       "    </tr>\n",
       "    <tr>\n",
       "      <th>98824</th>\n",
       "      <td>689</td>\n",
       "      <td>2004-07-28</td>\n",
       "      <td>41199.0</td>\n",
       "      <td>1.0</td>\n",
       "      <td>340.99</td>\n",
       "      <td>Germany</td>\n",
       "    </tr>\n",
       "    <tr>\n",
       "      <th>98825</th>\n",
       "      <td>1168</td>\n",
       "      <td>2004-07-28</td>\n",
       "      <td>22393.0</td>\n",
       "      <td>1.0</td>\n",
       "      <td>367.45</td>\n",
       "      <td>Germany</td>\n",
       "    </tr>\n",
       "    <tr>\n",
       "      <th>98826</th>\n",
       "      <td>2222</td>\n",
       "      <td>2004-07-28</td>\n",
       "      <td>41169.0</td>\n",
       "      <td>1.0</td>\n",
       "      <td>225.70</td>\n",
       "      <td>Germany</td>\n",
       "    </tr>\n",
       "    <tr>\n",
       "      <th>98827</th>\n",
       "      <td>2331</td>\n",
       "      <td>2004-07-28</td>\n",
       "      <td>40217.0</td>\n",
       "      <td>1.0</td>\n",
       "      <td>561.70</td>\n",
       "      <td>Germany</td>\n",
       "    </tr>\n",
       "    <tr>\n",
       "      <th>98828</th>\n",
       "      <td>396</td>\n",
       "      <td>2004-07-28</td>\n",
       "      <td>22045.0</td>\n",
       "      <td>1.0</td>\n",
       "      <td>907.99</td>\n",
       "      <td>Germany</td>\n",
       "    </tr>\n",
       "    <tr>\n",
       "      <th>98829</th>\n",
       "      <td>2284</td>\n",
       "      <td>2004-07-29</td>\n",
       "      <td>40595.0</td>\n",
       "      <td>1.0</td>\n",
       "      <td>309.70</td>\n",
       "      <td>Germany</td>\n",
       "    </tr>\n",
       "  </tbody>\n",
       "</table>\n",
       "</div>"
      ],
      "text/plain": [
       "      ProductID       Date      Zip  Units  Revenue  Country\n",
       "98817       992 2004-07-28  40229.0    1.0   278.20  Germany\n",
       "98818      1000 2004-07-28  22111.0    1.0    91.82  Germany\n",
       "98819      2054 2004-07-28  40215.0    1.0   551.20  Germany\n",
       "98820       396 2004-07-28  41516.0    1.0   907.99  Germany\n",
       "98821       635 2004-07-28  22419.0    1.0   884.36  Germany\n",
       "98822       635 2004-07-28  40229.0    1.0   884.36  Germany\n",
       "98823       635 2004-07-28  42107.0    1.0   884.36  Germany\n",
       "98824       689 2004-07-28  41199.0    1.0   340.99  Germany\n",
       "98825      1168 2004-07-28  22393.0    1.0   367.45  Germany\n",
       "98826      2222 2004-07-28  41169.0    1.0   225.70  Germany\n",
       "98827      2331 2004-07-28  40217.0    1.0   561.70  Germany\n",
       "98828       396 2004-07-28  22045.0    1.0   907.99  Germany\n",
       "98829      2284 2004-07-29  40595.0    1.0   309.70  Germany"
      ]
     },
     "execution_count": 18,
     "metadata": {},
     "output_type": "execute_result"
    }
   ],
   "source": [
    "df[98817:98830]"
   ]
  }
 ],
 "metadata": {
  "kernelspec": {
   "display_name": "Python 3",
   "language": "python",
   "name": "python3"
  },
  "language_info": {
   "codemirror_mode": {
    "name": "ipython",
    "version": 3
   },
   "file_extension": ".py",
   "mimetype": "text/x-python",
   "name": "python",
   "nbconvert_exporter": "python",
   "pygments_lexer": "ipython3",
   "version": "3.11.2"
  },
  "orig_nbformat": 4
 },
 "nbformat": 4,
 "nbformat_minor": 2
}
