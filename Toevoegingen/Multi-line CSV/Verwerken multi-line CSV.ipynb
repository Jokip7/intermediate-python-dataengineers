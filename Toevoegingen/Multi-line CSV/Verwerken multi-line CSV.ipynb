{
 "cells": [
  {
   "cell_type": "markdown",
   "metadata": {},
   "source": [
    "* In `BusinessRules.csv` staan twee voorbeelden van multi-line teksten:\n",
    "  * Regel 1379: `BusinessRule` met `ID` 1379 heeft een `Description` met een newline, maar met een correcte delimiters (\")\n",
    "  * Regel 9263: `BusinessRule` met `ID` 9263 heeft een `Description` met een newline, maar met een incorrecte delimiters (geen \")"
   ]
  },
  {
   "cell_type": "code",
   "execution_count": 2,
   "metadata": {},
   "outputs": [],
   "source": [
    "import pandas as pd"
   ]
  },
  {
   "cell_type": "code",
   "execution_count": 3,
   "metadata": {},
   "outputs": [],
   "source": [
    "df = pd.read_csv('BusinessRules.csv')\n"
   ]
  },
  {
   "cell_type": "code",
   "execution_count": 8,
   "metadata": {},
   "outputs": [
    {
     "data": {
      "text/plain": [
       "Index(['BusinessYear', 'StateCode', 'IssuerId', 'SourceName', 'VersionNum',\n",
       "       'ImportDate', 'IssuerId2', 'TIN', 'ProductId', 'StandardComponentId',\n",
       "       'EnrolleeContractRateDeterminationRule',\n",
       "       'TwoParentFamilyMaxDependentsRule',\n",
       "       'SingleParentFamilyMaxDependentsRule', 'DependentMaximumAgRule',\n",
       "       'ChildrenOnlyContractMaxChildrenRule',\n",
       "       'DomesticPartnerAsSpouseIndicator', 'SameSexPartnerAsSpouseIndicator',\n",
       "       'AgeDeterminationRule', 'MinimumTobaccoFreeMonthsRule',\n",
       "       'CohabitationRule', 'RowNumber', 'MarketCoverage', 'DentalOnlyPlan'],\n",
       "      dtype='object')"
      ]
     },
     "execution_count": 8,
     "metadata": {},
     "output_type": "execute_result"
    }
   ],
   "source": [
    "df.columns"
   ]
  },
  {
   "cell_type": "code",
   "execution_count": 28,
   "metadata": {},
   "outputs": [
    {
     "data": {
      "text/plain": [
       "array([['A different rate (specifically for parties of two or more)for each enrollee is added together'],\n",
       "       ['A different rate (specifically for parties of two or more)for each enrollee is added together'],\n",
       "       ['A different rate (specifically for parties of two or more)\\nfor each enrollee is added together'],\n",
       "       ['A different rate (specifically for parties of two or more)for each enrollee is added together'],\n",
       "       ['A different rate (specifically for parties of two or more)for each enrollee is added together'],\n",
       "       ['A different rate (specifically for parties of two or more)for each enrollee is added together']],\n",
       "      dtype=object)"
      ]
     },
     "execution_count": 28,
     "metadata": {},
     "output_type": "execute_result"
    }
   ],
   "source": [
    "# Regel 1379 levert geen problemen op, de '\\n' is keurig opgenomen:\n",
    "df.loc[[1375,1376,1377,1378,1379,1380],[\"EnrolleeContractRateDeterminationRule\"]].values"
   ]
  },
  {
   "cell_type": "code",
   "execution_count": 31,
   "metadata": {},
   "outputs": [
    {
     "data": {
      "text/html": [
       "<div>\n",
       "<style scoped>\n",
       "    .dataframe tbody tr th:only-of-type {\n",
       "        vertical-align: middle;\n",
       "    }\n",
       "\n",
       "    .dataframe tbody tr th {\n",
       "        vertical-align: top;\n",
       "    }\n",
       "\n",
       "    .dataframe thead th {\n",
       "        text-align: right;\n",
       "    }\n",
       "</style>\n",
       "<table border=\"1\" class=\"dataframe\">\n",
       "  <thead>\n",
       "    <tr style=\"text-align: right;\">\n",
       "      <th></th>\n",
       "      <th>EnrolleeContractRateDeterminationRule</th>\n",
       "    </tr>\n",
       "  </thead>\n",
       "  <tbody>\n",
       "    <tr>\n",
       "      <th>9260</th>\n",
       "      <td>A different rate (specifically for parties of ...</td>\n",
       "    </tr>\n",
       "    <tr>\n",
       "      <th>9261</th>\n",
       "      <td>10</td>\n",
       "    </tr>\n",
       "    <tr>\n",
       "      <th>9262</th>\n",
       "      <td>A different rate (specifically for parties of ...</td>\n",
       "    </tr>\n",
       "    <tr>\n",
       "      <th>9263</th>\n",
       "      <td>A different rate (specifically for parties of ...</td>\n",
       "    </tr>\n",
       "    <tr>\n",
       "      <th>9264</th>\n",
       "      <td>A different rate (specifically for parties of ...</td>\n",
       "    </tr>\n",
       "    <tr>\n",
       "      <th>9265</th>\n",
       "      <td>A different rate (specifically for parties of ...</td>\n",
       "    </tr>\n",
       "  </tbody>\n",
       "</table>\n",
       "</div>"
      ],
      "text/plain": [
       "                  EnrolleeContractRateDeterminationRule\n",
       "9260  A different rate (specifically for parties of ...\n",
       "9261                                                 10\n",
       "9262  A different rate (specifically for parties of ...\n",
       "9263  A different rate (specifically for parties of ...\n",
       "9264  A different rate (specifically for parties of ...\n",
       "9265  A different rate (specifically for parties of ..."
      ]
     },
     "execution_count": 31,
     "metadata": {},
     "output_type": "execute_result"
    }
   ],
   "source": [
    "# Regel 9263/9264 levert wel uitdagingen op:\n",
    "df.loc[[9260,9261,9262,9263,9264,9265],[\"EnrolleeContractRateDeterminationRule\"]]"
   ]
  },
  {
   "cell_type": "code",
   "execution_count": 33,
   "metadata": {},
   "outputs": [
    {
     "data": {
      "text/html": [
       "<div>\n",
       "<style scoped>\n",
       "    .dataframe tbody tr th:only-of-type {\n",
       "        vertical-align: middle;\n",
       "    }\n",
       "\n",
       "    .dataframe tbody tr th {\n",
       "        vertical-align: top;\n",
       "    }\n",
       "\n",
       "    .dataframe thead th {\n",
       "        text-align: right;\n",
       "    }\n",
       "</style>\n",
       "<table border=\"1\" class=\"dataframe\">\n",
       "  <thead>\n",
       "    <tr style=\"text-align: right;\">\n",
       "      <th></th>\n",
       "      <th>BusinessYear</th>\n",
       "      <th>StateCode</th>\n",
       "      <th>IssuerId</th>\n",
       "      <th>SourceName</th>\n",
       "      <th>VersionNum</th>\n",
       "      <th>ImportDate</th>\n",
       "      <th>IssuerId2</th>\n",
       "      <th>TIN</th>\n",
       "      <th>ProductId</th>\n",
       "      <th>StandardComponentId</th>\n",
       "      <th>...</th>\n",
       "      <th>DependentMaximumAgRule</th>\n",
       "      <th>ChildrenOnlyContractMaxChildrenRule</th>\n",
       "      <th>DomesticPartnerAsSpouseIndicator</th>\n",
       "      <th>SameSexPartnerAsSpouseIndicator</th>\n",
       "      <th>AgeDeterminationRule</th>\n",
       "      <th>MinimumTobaccoFreeMonthsRule</th>\n",
       "      <th>CohabitationRule</th>\n",
       "      <th>RowNumber</th>\n",
       "      <th>MarketCoverage</th>\n",
       "      <th>DentalOnlyPlan</th>\n",
       "    </tr>\n",
       "  </thead>\n",
       "  <tbody>\n",
       "    <tr>\n",
       "      <th>9260</th>\n",
       "      <td>2015</td>\n",
       "      <td>IL</td>\n",
       "      <td>68432</td>\n",
       "      <td>SERFF</td>\n",
       "      <td>6</td>\n",
       "      <td>2015-02-22 21:18:17</td>\n",
       "      <td>68432</td>\n",
       "      <td>27-2186150</td>\n",
       "      <td>68432IL003</td>\n",
       "      <td>68432IL0030004</td>\n",
       "      <td>...</td>\n",
       "      <td>NaN</td>\n",
       "      <td>NaN</td>\n",
       "      <td>NaN</td>\n",
       "      <td>NaN</td>\n",
       "      <td>NaN</td>\n",
       "      <td>NaN</td>\n",
       "      <td>NaN</td>\n",
       "      <td>NaN</td>\n",
       "      <td>NaN</td>\n",
       "      <td>NaN</td>\n",
       "    </tr>\n",
       "    <tr>\n",
       "      <th>9261</th>\n",
       "      <td>for each enrollee is added together</td>\n",
       "      <td>3 or more</td>\n",
       "      <td>3 or more</td>\n",
       "      <td>25</td>\n",
       "      <td>1</td>\n",
       "      <td>Yes</td>\n",
       "      <td>Yes</td>\n",
       "      <td>Age on effective date</td>\n",
       "      <td>6</td>\n",
       "      <td>Spouse,No;Adopted Child,No;Foster Child,No;War...</td>\n",
       "      <td>...</td>\n",
       "      <td>NaN</td>\n",
       "      <td>NaN</td>\n",
       "      <td>NaN</td>\n",
       "      <td>NaN</td>\n",
       "      <td>NaN</td>\n",
       "      <td>NaN</td>\n",
       "      <td>NaN</td>\n",
       "      <td>NaN</td>\n",
       "      <td>NaN</td>\n",
       "      <td>NaN</td>\n",
       "    </tr>\n",
       "    <tr>\n",
       "      <th>9262</th>\n",
       "      <td>2015</td>\n",
       "      <td>IL</td>\n",
       "      <td>68432</td>\n",
       "      <td>SERFF</td>\n",
       "      <td>6</td>\n",
       "      <td>2015-02-22 21:18:17</td>\n",
       "      <td>68432</td>\n",
       "      <td>27-2186150</td>\n",
       "      <td>68432IL003</td>\n",
       "      <td>68432IL0030005</td>\n",
       "      <td>...</td>\n",
       "      <td>25</td>\n",
       "      <td>1</td>\n",
       "      <td>Yes</td>\n",
       "      <td>Yes</td>\n",
       "      <td>Age on effective date</td>\n",
       "      <td>6</td>\n",
       "      <td>Spouse,No;Adopted Child,No;Foster Child,No;War...</td>\n",
       "      <td>10.0</td>\n",
       "      <td>Individual</td>\n",
       "      <td>No</td>\n",
       "    </tr>\n",
       "  </tbody>\n",
       "</table>\n",
       "<p>3 rows × 23 columns</p>\n",
       "</div>"
      ],
      "text/plain": [
       "                             BusinessYear  StateCode   IssuerId SourceName   \n",
       "9260                                 2015         IL      68432      SERFF  \\\n",
       "9261  for each enrollee is added together  3 or more  3 or more         25   \n",
       "9262                                 2015         IL      68432      SERFF   \n",
       "\n",
       "      VersionNum           ImportDate IssuerId2                    TIN   \n",
       "9260           6  2015-02-22 21:18:17     68432             27-2186150  \\\n",
       "9261           1                  Yes       Yes  Age on effective date   \n",
       "9262           6  2015-02-22 21:18:17     68432             27-2186150   \n",
       "\n",
       "       ProductId                                StandardComponentId  ...   \n",
       "9260  68432IL003                                     68432IL0030004  ...  \\\n",
       "9261           6  Spouse,No;Adopted Child,No;Foster Child,No;War...  ...   \n",
       "9262  68432IL003                                     68432IL0030005  ...   \n",
       "\n",
       "     DependentMaximumAgRule ChildrenOnlyContractMaxChildrenRule   \n",
       "9260                    NaN                                 NaN  \\\n",
       "9261                    NaN                                 NaN   \n",
       "9262                     25                                   1   \n",
       "\n",
       "     DomesticPartnerAsSpouseIndicator SameSexPartnerAsSpouseIndicator   \n",
       "9260                              NaN                             NaN  \\\n",
       "9261                              NaN                             NaN   \n",
       "9262                              Yes                             Yes   \n",
       "\n",
       "       AgeDeterminationRule MinimumTobaccoFreeMonthsRule   \n",
       "9260                    NaN                          NaN  \\\n",
       "9261                    NaN                          NaN   \n",
       "9262  Age on effective date                            6   \n",
       "\n",
       "                                       CohabitationRule RowNumber   \n",
       "9260                                                NaN       NaN  \\\n",
       "9261                                                NaN       NaN   \n",
       "9262  Spouse,No;Adopted Child,No;Foster Child,No;War...      10.0   \n",
       "\n",
       "     MarketCoverage DentalOnlyPlan  \n",
       "9260            NaN            NaN  \n",
       "9261            NaN            NaN  \n",
       "9262     Individual             No  \n",
       "\n",
       "[3 rows x 23 columns]"
      ]
     },
     "execution_count": 33,
     "metadata": {},
     "output_type": "execute_result"
    }
   ],
   "source": [
    "df.loc[[9260,9261,9262]]"
   ]
  },
  {
   "attachments": {},
   "cell_type": "markdown",
   "metadata": {},
   "source": [
    "Het inlezen gaat hier wel goed, alleen de datatypes kloppen niet (pandas speelt op safe en dwingt geen getal af voor BusinessYear). Bij omzetten van datatype speelt dit wel op:"
   ]
  },
  {
   "cell_type": "code",
   "execution_count": 37,
   "metadata": {},
   "outputs": [
    {
     "name": "stdout",
     "output_type": "stream",
     "text": [
      "Error: invalid literal for int() with base 10: 'for each enrollee is added together'\n"
     ]
    }
   ],
   "source": [
    "# Levert een fout op voor regel 9261, waar de kolom BusinessYear de waarde 'for each employee is added together' bevat:\n",
    "try:\n",
    "    df[\"BusinessYear\"].astype(int)\n",
    "except ValueError as e:\n",
    "    print(f\"Error: {e}\")"
   ]
  },
  {
   "attachments": {},
   "cell_type": "markdown",
   "metadata": {},
   "source": [
    "De oplossing hier is om een stukje logica op te nemen die het volgende doet:\n",
    "\n",
    "* Kijk naar een zuiver numerieke kolom die altijd gevuld is (zoals hier BusinessYear)\n",
    "* Zoek de niet-numerieke waarden\n",
    "  * Dit is de rij die een foutmelding geeft\n",
    "* Achterhaal in welke kolom de data is \"afgebroken\"\n",
    "* Vul de voorliggende rij aan met de data van de \"foute\" rij\n",
    "\n",
    "Deze methode is niet waterdicht: er kan in een ander veld ook een newline voorkomen die de kolom BusinessYear wél een geldige numerieke waarde geeft, maar nog steeds incorrect is afgebroken. Je hebt hier waarschijnlijk echter al de eerste 80% te pakken en kunt op dit patroon verderbouwen voor andere uizonderingen.\n",
    "\n",
    "Dit kán in pandas, maar is efficiënter om als pre-processing te doen:"
   ]
  },
  {
   "cell_type": "code",
   "execution_count": 93,
   "metadata": {},
   "outputs": [],
   "source": [
    "import io\n",
    "\n",
    "# Read the file and clean it up\n",
    "def read_and_clean_csv(file_path):\n",
    "    # We use a StringIO object to store the cleaned up CSV file\n",
    "    # In this way, we will not alter the original file\n",
    "    # However, it might consume somewhat more memory - you might want to use a temporary file instead\n",
    "    cleaned_csv = io.StringIO()\n",
    "    \n",
    "    with open(file_path, 'r', encoding='utf-8') as f:\n",
    "        prev_line = f.readline()\n",
    "        for line in f:\n",
    "            if not line.split(',')[0].isnumeric():\n",
    "                prev_line = prev_line.strip() + ' ' + line.strip()\n",
    "            else:\n",
    "                cleaned_csv.write(prev_line + '\\n')\n",
    "                prev_line = line\n",
    "    \n",
    "    cleaned_csv.write(prev_line + '\\n')\n",
    "    cleaned_csv.seek(0)\n",
    "    return pd.read_csv(cleaned_csv)\n",
    "\n",
    "file_path = 'BusinessRules.csv'\n",
    "df = read_and_clean_csv(file_path)"
   ]
  },
  {
   "cell_type": "code",
   "execution_count": 95,
   "metadata": {},
   "outputs": [],
   "source": [
    "# Nu gaat dit ook goed:\n",
    "try:\n",
    "    df[\"BusinessYear\"].astype(int)\n",
    "except ValueError as e:\n",
    "    print(f\"Error: {e}\")"
   ]
  }
 ],
 "metadata": {
  "kernelspec": {
   "display_name": "Python 3",
   "language": "python",
   "name": "python3"
  },
  "language_info": {
   "codemirror_mode": {
    "name": "ipython",
    "version": 3
   },
   "file_extension": ".py",
   "mimetype": "text/x-python",
   "name": "python",
   "nbconvert_exporter": "python",
   "pygments_lexer": "ipython3",
   "version": "3.11.2"
  },
  "orig_nbformat": 4
 },
 "nbformat": 4,
 "nbformat_minor": 2
}
