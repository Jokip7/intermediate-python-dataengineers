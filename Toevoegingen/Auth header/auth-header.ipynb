{
 "cells": [
  {
   "attachments": {},
   "cell_type": "markdown",
   "metadata": {},
   "source": [
    "# Authenticatie en headers\n",
    "\n",
    "Wanneer je API's aanspreekt heb je (gelukkig) vaak authenticatie nodig.\n",
    "Dat kan op diverse manieren:\n",
    "\n",
    "* Username & Password direct in de header\n",
    "* Basic authentication token\n",
    "* Meer complexe authenticaties (OAuth bijv.)\n",
    "\n",
    "De meer complexe authenticaties zijn nu buiten scope, maar de andere twee kunnen we hier eenvoudig demonstreren.\n",
    "\n",
    "Voorbeeldcode komt van [https://www.testcult.com/basic-auth-with-python-requests/](https://www.testcult.com/basic-auth-with-python-requests/)"
   ]
  },
  {
   "attachments": {},
   "cell_type": "markdown",
   "metadata": {},
   "source": [
    "## Username & Password direct in header\n",
    "\n",
    "De `requests.get` methode heeft een `auth` parameter, waar een `tuple` (datatype) aan meegegeven kan worden.\n",
    "\n",
    "Een `tuple` maak je eenvoudig: `(\"username\", \"password\")`"
   ]
  },
  {
   "cell_type": "code",
   "execution_count": 7,
   "metadata": {},
   "outputs": [
    {
     "name": "stdout",
     "output_type": "stream",
     "text": [
      "200\n",
      "{\n",
      "  \"authenticated\": true\n",
      "}\n"
     ]
    }
   ],
   "source": [
    "import requests\n",
    "url = \"https://postman-echo.com/basic-auth\"\n",
    "username = \"postman\"\n",
    "password = \"password\"\n",
    "response = requests.get(url, auth=(username, password))\n",
    "print(response.status_code)\n",
    "print(response.text)"
   ]
  },
  {
   "cell_type": "code",
   "execution_count": 6,
   "metadata": {},
   "outputs": [
    {
     "name": "stdout",
     "output_type": "stream",
     "text": [
      "401\n",
      "Unauthorized\n"
     ]
    }
   ],
   "source": [
    "import requests\n",
    "url = \"https://postman-echo.com/basic-auth\"\n",
    "username = \"ongeldige-gebruikersnaam\"\n",
    "password = \"ongeldig-wachtwoord\"\n",
    "response = requests.get(url, auth=(username, password))\n",
    "print(response.status_code)\n",
    "print(response.text)"
   ]
  },
  {
   "attachments": {},
   "cell_type": "markdown",
   "metadata": {},
   "source": [
    "## Basic auth token\n",
    "\n",
    "Een \"auth token\" is vaak een *secret* die je kant-en-klaar krijgt ofwel zelf versleutelt. Zonder te diep in te gaan op diverse opties hierin, wordt deze meegegeven in de **header** van je HTTP-request:"
   ]
  },
  {
   "cell_type": "code",
   "execution_count": 8,
   "metadata": {},
   "outputs": [
    {
     "name": "stdout",
     "output_type": "stream",
     "text": [
      "200\n",
      "{'authenticated': True}\n"
     ]
    }
   ],
   "source": [
    "import requests\n",
    "url = \"https://postman-echo.com/basic-auth\"\n",
    "header = {\"Authorization\" : \"Basic cG9zdG1hbjpwYXNzd29yZA==\"}\n",
    "response = requests.get(url, headers=header)\n",
    "print(response.status_code)\n",
    "print(response.json())"
   ]
  },
  {
   "attachments": {},
   "cell_type": "markdown",
   "metadata": {},
   "source": [
    "Deze \"Basic\" is onder water hetzelfde als de eerdere username / password:"
   ]
  },
  {
   "cell_type": "code",
   "execution_count": 9,
   "metadata": {},
   "outputs": [
    {
     "name": "stdout",
     "output_type": "stream",
     "text": [
      "b'cG9zdG1hbjpwYXNzd29yZA=='\n"
     ]
    }
   ],
   "source": [
    "import base64\n",
    "\n",
    "username = \"postman\"\n",
    "password = \"password\"\n",
    "encoded = base64.b64encode(f\"{username}:{password}\".encode(\"utf-8\"))\n",
    "print(encoded)"
   ]
  },
  {
   "cell_type": "code",
   "execution_count": null,
   "metadata": {},
   "outputs": [],
   "source": []
  }
 ],
 "metadata": {
  "kernelspec": {
   "display_name": "Python 3",
   "language": "python",
   "name": "python3"
  },
  "language_info": {
   "codemirror_mode": {
    "name": "ipython",
    "version": 3
   },
   "file_extension": ".py",
   "mimetype": "text/x-python",
   "name": "python",
   "nbconvert_exporter": "python",
   "pygments_lexer": "ipython3",
   "version": "3.11.2"
  },
  "orig_nbformat": 4
 },
 "nbformat": 4,
 "nbformat_minor": 2
}
