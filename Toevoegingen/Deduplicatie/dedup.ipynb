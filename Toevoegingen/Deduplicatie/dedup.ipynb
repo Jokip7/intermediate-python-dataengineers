{
 "cells": [
  {
   "attachments": {},
   "cell_type": "markdown",
   "metadata": {},
   "source": [
    "# Deduplicatie / ontdubbelen\n",
    "\n",
    "De basis van ontdubbelen van data is vrij simpel: rijen die meerdere keren voorkomen, moeten verwijderd. Dit gebeurt bijvoorbeeld veel in het trainen van ML modellen, maar dit is niet waar dit notebook over gaat. Als je daar wél in geïnteresseerd bent, zie dan [pandas.DataFrame.drop_duplicates](https://pandas.pydata.org/pandas-docs/stable/reference/api/pandas.DataFrame.drop_duplicates.html)"
   ]
  },
  {
   "attachments": {},
   "cell_type": "markdown",
   "metadata": {},
   "source": [
    "In ETL en veel andere processen is echter vaak een \"fuzzy matching\" nodig van teksten die op elkaar lijken, bijvoorbeeld\n",
    "\n",
    "* Licht andere schrijfwijzen van namen of adressen\n",
    "* Padnamen\n",
    "* Producten\n",
    "* Etc.\n",
    "\n",
    "Eén van de meestgebruikte algoritmen om te bepalen of namen en teksten op elkaar lijken is het berekenen van een Levenshtein-afstand. Hier kan de Python-library [`thefuzz`](https://github.com/seatgeek/thefuzz) je bijvoorbeeld bij helpen."
   ]
  },
  {
   "cell_type": "code",
   "execution_count": 2,
   "metadata": {},
   "outputs": [
    {
     "name": "stdout",
     "output_type": "stream",
     "text": [
      "Collecting thefuzz[speedup]\n",
      "  Downloading thefuzz-0.19.0-py2.py3-none-any.whl (17 kB)\n",
      "Collecting python-levenshtein>=0.12\n",
      "  Downloading python_Levenshtein-0.20.9-py3-none-any.whl (9.4 kB)\n",
      "Collecting Levenshtein==0.20.9\n",
      "  Downloading Levenshtein-0.20.9-cp311-cp311-macosx_11_0_arm64.whl (97 kB)\n",
      "\u001b[2K     \u001b[90m━━━━━━━━━━━━━━━━━━━━━━━━━━━━━━━━━━━━━━━━\u001b[0m \u001b[32m97.5/97.5 kB\u001b[0m \u001b[31m4.5 MB/s\u001b[0m eta \u001b[36m0:00:00\u001b[0m\n",
      "\u001b[?25hCollecting rapidfuzz<3.0.0,>=2.3.0\n",
      "  Downloading rapidfuzz-2.15.1-cp311-cp311-macosx_11_0_arm64.whl (1.1 MB)\n",
      "\u001b[2K     \u001b[90m━━━━━━━━━━━━━━━━━━━━━━━━━━━━━━━━━━━━━━━━\u001b[0m \u001b[32m1.1/1.1 MB\u001b[0m \u001b[31m10.7 MB/s\u001b[0m eta \u001b[36m0:00:00\u001b[0ma \u001b[36m0:00:01\u001b[0m\n",
      "\u001b[?25hInstalling collected packages: thefuzz, rapidfuzz, Levenshtein, python-levenshtein\n",
      "Successfully installed Levenshtein-0.20.9 python-levenshtein-0.20.9 rapidfuzz-2.15.1 thefuzz-0.19.0\n",
      "Note: you may need to restart the kernel to use updated packages.\n"
     ]
    }
   ],
   "source": [
    "%pip install -r requirements.txt"
   ]
  },
  {
   "cell_type": "code",
   "execution_count": 2,
   "metadata": {},
   "outputs": [],
   "source": [
    "from thefuzz import fuzz\n",
    "from thefuzz import process"
   ]
  },
  {
   "attachments": {},
   "cell_type": "markdown",
   "metadata": {},
   "source": [
    "## Gebruik\n",
    "\n",
    "In de basis berekent `thefuzz` de \"Levenshtein-afstand\": een score waarbij 100 twee identieke teksten aanduiden:"
   ]
  },
  {
   "cell_type": "code",
   "execution_count": 3,
   "metadata": {},
   "outputs": [
    {
     "data": {
      "text/plain": [
       "100"
      ]
     },
     "execution_count": 3,
     "metadata": {},
     "output_type": "execute_result"
    }
   ],
   "source": [
    "origineletekst = \"Deze tekst is gelijk aan de andere tekst\"\n",
    "vergelijktekst = origineletekst\n",
    "fuzz.ratio(origineletekst, vergelijktekst)"
   ]
  },
  {
   "attachments": {},
   "cell_type": "markdown",
   "metadata": {},
   "source": [
    "Hoe meer je afwijkt, hoe lager de score wordt:"
   ]
  },
  {
   "cell_type": "code",
   "execution_count": 5,
   "metadata": {},
   "outputs": [
    {
     "name": "stdout",
     "output_type": "stream",
     "text": [
      "r1: 82, r2: 96, r3: 41\n"
     ]
    }
   ],
   "source": [
    "r1 = fuzz.ratio(\"Deze tekst is gelijk aan de andere tekst\", \"De andere tekst is gelijk aan deze tekst\")\n",
    "r2 = fuzz.ratio(\"Deze tekst is gelijk aan de andere tekst\", \"Deze tekst is gelijk aan de andere text\")\n",
    "r3 = fuzz.ratio(\"Deze tekst is gelijk aan de andere tekst\", \"Milliways is een restaurant aan het eind van het universum\")\n",
    "print(f\"r1: {r1}, r2: {r2}, r3: {r3}\")"
   ]
  },
  {
   "cell_type": "code",
   "execution_count": 4,
   "metadata": {},
   "outputs": [
    {
     "data": {
      "text/plain": [
       "90"
      ]
     },
     "execution_count": 4,
     "metadata": {},
     "output_type": "execute_result"
    }
   ],
   "source": [
    "fuzz.ratio(\"Wortell Smart Learning\", \"Wortell Smart Learning B.V.\")"
   ]
  },
  {
   "cell_type": "code",
   "execution_count": 7,
   "metadata": {},
   "outputs": [
    {
     "data": {
      "text/plain": [
       "96"
      ]
     },
     "execution_count": 7,
     "metadata": {},
     "output_type": "execute_result"
    }
   ],
   "source": [
    "# Werkt de simple ratio ongeacht leestekens?\n",
    "fuzz.ratio(\"Wortell Smart Learning BV\", \"Wortell Smart Learning B.V.\")"
   ]
  },
  {
   "attachments": {},
   "cell_type": "markdown",
   "metadata": {},
   "source": [
    "Er zijn diverse varianten, zoals:\n",
    "\n",
    "* **Simple ratio** (de ratio hierboven: overeenkomst tussen twee teksten)\n",
    "* **Partial ratio** (de ratio van de \"most similar substring\")\n",
    "* **Token sort ratio** (sorteert eerst alvorens de \"gelijkheid\" te berekenen)"
   ]
  },
  {
   "cell_type": "code",
   "execution_count": 6,
   "metadata": {},
   "outputs": [
    {
     "name": "stdout",
     "output_type": "stream",
     "text": [
      "r1: 85, r2: 95, r3: 45\n"
     ]
    }
   ],
   "source": [
    "## Partial ratio\n",
    "r1 = fuzz.partial_ratio(\"Deze tekst is gelijk aan de andere tekst\", \"De andere tekst is gelijk aan deze tekst\")\n",
    "r2 = fuzz.partial_ratio(\"Deze tekst is gelijk aan de andere tekst\", \"Deze tekst is gelijk aan de andere text\")\n",
    "r3 = fuzz.partial_ratio(\"Deze tekst is gelijk aan de andere tekst\", \"Milliways is een restaurant aan het eind van het universum\")\n",
    "print(f\"r1: {r1}, r2: {r2}, r3: {r3}\")"
   ]
  },
  {
   "cell_type": "code",
   "execution_count": 5,
   "metadata": {},
   "outputs": [
    {
     "data": {
      "text/plain": [
       "100"
      ]
     },
     "execution_count": 5,
     "metadata": {},
     "output_type": "execute_result"
    }
   ],
   "source": [
    "fuzz.partial_ratio(\"Wortell Smart Learning\", \"Wortell Smart Learning B.V.\")"
   ]
  },
  {
   "cell_type": "code",
   "execution_count": 7,
   "metadata": {},
   "outputs": [
    {
     "name": "stdout",
     "output_type": "stream",
     "text": [
      "r1: 100, r2: 96, r3: 47\n"
     ]
    }
   ],
   "source": [
    "## Token sort ratio\n",
    "# Merk op dat de eerste tekst nu weer 100% identiek is.\n",
    "r1 = fuzz.token_sort_ratio(\"Deze tekst is gelijk aan de andere tekst\", \"De andere tekst is gelijk aan deze tekst\")\n",
    "r2 = fuzz.token_sort_ratio(\"Deze tekst is gelijk aan de andere tekst\", \"Deze tekst is gelijk aan de andere text\")\n",
    "r3 = fuzz.token_sort_ratio(\"Deze tekst is gelijk aan de andere tekst\", \"Milliways is een restaurant aan het eind van het universum\")\n",
    "print(f\"r1: {r1}, r2: {r2}, r3: {r3}\")"
   ]
  },
  {
   "cell_type": "code",
   "execution_count": 6,
   "metadata": {},
   "outputs": [
    {
     "data": {
      "text/plain": [
       "100"
      ]
     },
     "execution_count": 6,
     "metadata": {},
     "output_type": "execute_result"
    }
   ],
   "source": [
    "fuzz.token_sort_ratio(\"Wortell Limited Company\", \"Wortell Company (Limited)\")"
   ]
  },
  {
   "cell_type": "code",
   "execution_count": 11,
   "metadata": {},
   "outputs": [
    {
     "name": "stdout",
     "output_type": "stream",
     "text": [
      "98\n"
     ]
    }
   ],
   "source": [
    "## Maar token-sort gaat ook fout als de woorden in een andere volgorde staan die echt iets anders betekenen!\n",
    "rest1 = \"Restaurant de Carnivoor. Hier eet je biefstuk, geen groente. Vegetariërs niet welkom.\"\n",
    "rest2 = \"Restaurant de Vegetariër. Hier eet je groente, geen biefstuk. Carnivoren niet welkom.\"\n",
    "r1 = fuzz.token_sort_ratio(rest1, rest2)\n",
    "print(r1)"
   ]
  },
  {
   "cell_type": "markdown",
   "metadata": {},
   "source": [
    "## Process\n",
    "\n",
    "Wanneer je een \"master set\" hebt, kun je hiermee op basis van de mogelijke keuzes bepalen welke het beste past."
   ]
  },
  {
   "cell_type": "code",
   "execution_count": 12,
   "metadata": {},
   "outputs": [],
   "source": [
    "choices = [\"Atlanta Falcons\", \"New York Jets\", \"New York Giants\", \"Dallas Cowboys\"]"
   ]
  },
  {
   "cell_type": "code",
   "execution_count": 14,
   "metadata": {},
   "outputs": [
    {
     "data": {
      "text/plain": [
       "[('New York Jets', 100), ('New York Giants', 79)]"
      ]
     },
     "execution_count": 14,
     "metadata": {},
     "output_type": "execute_result"
    }
   ],
   "source": [
    "process.extract(\"new york jets\", choices, limit=2)"
   ]
  },
  {
   "cell_type": "code",
   "execution_count": 15,
   "metadata": {},
   "outputs": [
    {
     "data": {
      "text/plain": [
       "('Dallas Cowboys', 90)"
      ]
     },
     "execution_count": 15,
     "metadata": {},
     "output_type": "execute_result"
    }
   ],
   "source": [
    "# extractOne geeft één resultaat:\n",
    "process.extractOne(\"cowboys\", choices)"
   ]
  }
 ],
 "metadata": {
  "kernelspec": {
   "display_name": "Python 3",
   "language": "python",
   "name": "python3"
  },
  "language_info": {
   "codemirror_mode": {
    "name": "ipython",
    "version": 3
   },
   "file_extension": ".py",
   "mimetype": "text/x-python",
   "name": "python",
   "nbconvert_exporter": "python",
   "pygments_lexer": "ipython3",
   "version": "3.11.2"
  },
  "orig_nbformat": 4
 },
 "nbformat": 4,
 "nbformat_minor": 2
}
