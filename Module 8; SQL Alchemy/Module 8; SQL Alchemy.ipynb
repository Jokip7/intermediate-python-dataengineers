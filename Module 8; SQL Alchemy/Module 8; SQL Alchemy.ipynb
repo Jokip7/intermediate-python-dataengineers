{
 "cells": [
  {
   "cell_type": "markdown",
   "id": "32cf0877",
   "metadata": {},
   "source": [
    "# Module 8: SQL Alchemy\n",
    "\n",
    "SQL is one of the most use types of managing data storage. Being able to work with it is essential for a Data Engineer, and it helps when you can combine Python and SQL.\n",
    "\n",
    "During this training we will go into detail about using SQL in Python. During the training we will follow the following outline:\n",
    "1. SQL\n",
    "2. The SQL alchemy library\n",
    "3. Basic operations\n",
    "4. Advanced operations\n",
    "\n",
    "Enjoy!"
   ]
  },
  {
   "cell_type": "markdown",
   "id": "7eaef99c",
   "metadata": {},
   "source": [
    "Inspiration; https://pythoncursus.nl/sqlalchemy-tutorial-python/"
   ]
  },
  {
   "cell_type": "markdown",
   "id": "db22103a",
   "metadata": {},
   "source": [
    "## Section 1: SQL (15 min)\n",
    "\n",
    "- What is SQL (recap / introduction)\n",
    "- What is it used for?\n",
    "- Show the structure of SQL statements"
   ]
  },
  {
   "cell_type": "markdown",
   "id": "f7e84a21",
   "metadata": {},
   "source": [
    "## Section 2: The SQL Alchemy library (30 min)\n",
    "\n",
    "- Show the most basic operations\n",
    "- Start with creating a table\n",
    "- "
   ]
  },
  {
   "cell_type": "code",
   "execution_count": null,
   "id": "3bf5c81c",
   "metadata": {},
   "outputs": [],
   "source": []
  },
  {
   "cell_type": "code",
   "execution_count": null,
   "id": "4627e6c5",
   "metadata": {},
   "outputs": [],
   "source": []
  },
  {
   "cell_type": "code",
   "execution_count": null,
   "id": "d6545aca",
   "metadata": {},
   "outputs": [],
   "source": []
  },
  {
   "cell_type": "code",
   "execution_count": null,
   "id": "d3df9c70",
   "metadata": {},
   "outputs": [],
   "source": []
  },
  {
   "cell_type": "code",
   "execution_count": null,
   "id": "2cd949bd",
   "metadata": {},
   "outputs": [],
   "source": []
  },
  {
   "cell_type": "markdown",
   "id": "46ed782a",
   "metadata": {},
   "source": [
    "## Section 3: Basic operations (45 min)"
   ]
  },
  {
   "cell_type": "markdown",
   "id": "6f7f922e",
   "metadata": {},
   "source": [
    "## Section 4: Advanced operations (30 min)"
   ]
  },
  {
   "cell_type": "code",
   "execution_count": null,
   "id": "a2c485d3",
   "metadata": {},
   "outputs": [],
   "source": []
  },
  {
   "cell_type": "code",
   "execution_count": null,
   "id": "f5561228",
   "metadata": {},
   "outputs": [],
   "source": []
  },
  {
   "cell_type": "markdown",
   "id": "d2a33b94",
   "metadata": {},
   "source": [
    "#### Assignment 1: Getting acces to an API using Python 1"
   ]
  }
 ],
 "metadata": {
  "kernelspec": {
   "display_name": "Python 3 (ipykernel)",
   "language": "python",
   "name": "python3"
  },
  "language_info": {
   "codemirror_mode": {
    "name": "ipython",
    "version": 3
   },
   "file_extension": ".py",
   "mimetype": "text/x-python",
   "name": "python",
   "nbconvert_exporter": "python",
   "pygments_lexer": "ipython3",
   "version": "3.9.4"
  }
 },
 "nbformat": 4,
 "nbformat_minor": 5
}
