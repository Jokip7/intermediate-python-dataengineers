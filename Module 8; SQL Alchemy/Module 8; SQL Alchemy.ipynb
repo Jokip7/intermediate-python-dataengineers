{
 "cells": [
  {
   "cell_type": "markdown",
   "id": "32cf0877",
   "metadata": {},
   "source": [
    "# Module 8: SQL Alchemy\n",
    "\n",
    "SQL is one of the most used types of managing data storage. Being able to work with it is essential for a Data Engineer, and it helps when you can combine Python and SQL.\n",
    "\n",
    "During this training we will go into detail about using SQL in Python. During the training we will follow the following outline:\n",
    "1. SQL\n",
    "2. The SQL alchemy library\n",
    "3. Basic operations\n",
    "4. Advanced operations\n",
    "\n",
    "Enjoy!"
   ]
  },
  {
   "cell_type": "markdown",
   "id": "7eaef99c",
   "metadata": {},
   "source": [
    "Inspiration; https://pythoncursus.nl/sqlalchemy-tutorial-python/"
   ]
  },
  {
   "cell_type": "markdown",
   "id": "db22103a",
   "metadata": {},
   "source": [
    "## Section 1: SQL (15 min)\n",
    "\n",
    "- What is SQL (recap / introduction)\n",
    "- What is it used for?\n",
    "- Show the structure of SQL statements"
   ]
  },
  {
   "cell_type": "markdown",
   "id": "f7e84a21",
   "metadata": {},
   "source": [
    "## Section 2: The SQL Alchemy library (30 min)\n",
    "\n",
    "- Show the most basic operations\n",
    "- Start with reading from an existing table (movies).\n",
    "- "
   ]
  },
  {
   "cell_type": "code",
   "execution_count": null,
   "id": "3bf5c81c",
   "metadata": {},
   "outputs": [],
   "source": []
  },
  {
   "cell_type": "code",
   "execution_count": null,
   "id": "4627e6c5",
   "metadata": {},
   "outputs": [],
   "source": []
  },
  {
   "cell_type": "code",
   "execution_count": null,
   "id": "d6545aca",
   "metadata": {},
   "outputs": [],
   "source": []
  },
  {
   "cell_type": "code",
   "execution_count": null,
   "id": "d3df9c70",
   "metadata": {},
   "outputs": [],
   "source": []
  },
  {
   "cell_type": "code",
   "execution_count": null,
   "id": "2cd949bd",
   "metadata": {},
   "outputs": [],
   "source": []
  },
  {
   "cell_type": "markdown",
   "id": "46ed782a",
   "metadata": {},
   "source": [
    "## Section 3: Basic operations (45 min)"
   ]
  },
  {
   "cell_type": "markdown",
   "id": "6f7f922e",
   "metadata": {},
   "source": [
    "## Section 4: Advanced operations (30 min)"
   ]
  },
  {
   "cell_type": "code",
   "execution_count": null,
   "id": "a2c485d3",
   "metadata": {},
   "outputs": [],
   "source": []
  },
  {
   "cell_type": "code",
   "execution_count": null,
   "id": "f5561228",
   "metadata": {},
   "outputs": [],
   "source": []
  },
  {
   "cell_type": "markdown",
   "id": "d2a33b94",
   "metadata": {},
   "source": [
    "#### Assignment 1: Getting acces to an API using Python 1"
   ]
  },
  {
   "cell_type": "code",
   "execution_count": null,
   "id": "327bfd01",
   "metadata": {},
   "outputs": [],
   "source": []
  },
  {
   "cell_type": "code",
   "execution_count": null,
   "id": "b2e2b6d2",
   "metadata": {},
   "outputs": [],
   "source": []
  },
  {
   "cell_type": "code",
   "execution_count": null,
   "id": "f400d2a4",
   "metadata": {},
   "outputs": [],
   "source": []
  },
  {
   "cell_type": "code",
   "execution_count": null,
   "id": "ca048b0e",
   "metadata": {},
   "outputs": [],
   "source": []
  },
  {
   "cell_type": "code",
   "execution_count": 1,
   "id": "f5d76f53",
   "metadata": {},
   "outputs": [],
   "source": [
    "from sqlalchemy import create_engine\n",
    "import pandas as pd\n",
    "\n",
    "engine = create_engine('sqlite:///movies.db')\n",
    "df = pd.read_sql('select * from movies', engine)"
   ]
  },
  {
   "cell_type": "code",
   "execution_count": 2,
   "id": "6230f9d5",
   "metadata": {},
   "outputs": [
    {
     "name": "stdout",
     "output_type": "stream",
     "text": [
      "        id                               movie_title      director_name  \\\n",
      "0        1                                    Avatar      James Cameron   \n",
      "1        2  Pirates of the Caribbean: At World's End     Gore Verbinski   \n",
      "2        3                                   Spectre         Sam Mendes   \n",
      "3        4                     The Dark Knight Rises  Christopher Nolan   \n",
      "4        5                               John Carter     Andrew Stanton   \n",
      "...    ...                                       ...                ...   \n",
      "3537  3538                                     Clean    Olivier Assayas   \n",
      "3538  3539                                The Circle     James Ponsoldt   \n",
      "3539  3540                                    Primer      Shane Carruth   \n",
      "3540  3541                               El Mariachi   Robert Rodriguez   \n",
      "3541  3542                         My Date with Drew           Jon Gunn   \n",
      "\n",
      "                                                summary  \\\n",
      "0     A paraplegic marine dispatched to the moon Pan...   \n",
      "1     Captain Barbossa, Will Turner and Elizabeth Sw...   \n",
      "2     A cryptic message from 007's past sends him pi...   \n",
      "3     Eight years after the Joker's reign of anarchy...   \n",
      "4     Transported to Barsoom, a Civil War vet discov...   \n",
      "...                                                 ...   \n",
      "3537  After she ends up in prison and loses custody ...   \n",
      "3538  A woman lands a dream job at a powerful tech c...   \n",
      "3539  Four friends/fledgling entrepreneurs, knowing ...   \n",
      "3540  A traveling mariachi is mistaken for a murdero...   \n",
      "3541  \"If you don't take risks, you'll have a wasted...   \n",
      "\n",
      "                                     genres release_data  duration  \\\n",
      "0     Action | Adventure | Fantasy | Sci-Fi   2009-12-17       162   \n",
      "1              Action | Adventure | Fantasy   2007-05-23       169   \n",
      "2             Action | Adventure | Thriller   2015-10-29       148   \n",
      "3                         Action | Thriller   2012-07-20       164   \n",
      "4               Action | Adventure | Sci-Fi   2012-03-08       132   \n",
      "...                                     ...          ...       ...   \n",
      "3537                Drama | Music | Romance   2005-05-26       111   \n",
      "3538              Drama | Sci-Fi | Thriller   2017-05-11       110   \n",
      "3539              Drama | Sci-Fi | Thriller   2005-06-02        77   \n",
      "3540              Action | Crime | Thriller   1994-02-24        81   \n",
      "3541                            Documentary   2005-09-30        90   \n",
      "\n",
      "           budget opening_weekend_usa    gross_usa gross_worldwide imdb_score  \\\n",
      "0     237000000.0          77025481.0  760507625.0    2787965087.0        7.8   \n",
      "1     300000000.0         139802190.0  309420425.0     963420425.0        7.1   \n",
      "2     245000000.0          70403148.0  200074175.0     880674175.0        6.8   \n",
      "3     250000000.0         160887295.0  448139099.0    1084939099.0        8.4   \n",
      "4     250000000.0          30180188.0   73078100.0     284139100.0        6.6   \n",
      "...           ...                 ...          ...             ...        ...   \n",
      "3537                          14953.0     136007.0                        6.9   \n",
      "3538   18000000.0           9034148.0   20476391.0                        5.3   \n",
      "3539       7000.0             28162.0     424760.0                        6.9   \n",
      "3540       7000.0            312528.0    2040920.0       2041928.0        6.9   \n",
      "3541       1100.0             85222.0      85222.0        263000.0        6.5   \n",
      "\n",
      "     num_critic_for_reviews num_voted_users metascore  oscar_wins  \\\n",
      "0                     727.0       1038709.0        83           3   \n",
      "1                     322.0        554187.0        50           0   \n",
      "2                     627.0        350849.0        60           0   \n",
      "3                     834.0       1378531.0        78           0   \n",
      "4                     477.0        238554.0        51           0   \n",
      "...                     ...             ...       ...         ...   \n",
      "3537                   83.0          4285.0        75           0   \n",
      "3538                  245.0         71761.0        43           0   \n",
      "3539                  125.0         89392.0        68           0   \n",
      "3540                   56.0         58948.0        73           0   \n",
      "3541                   42.0          4439.0        51           0   \n",
      "\n",
      "      oscar_nominees  \n",
      "0                  9  \n",
      "1                  2  \n",
      "2                  0  \n",
      "3                  0  \n",
      "4                  0  \n",
      "...              ...  \n",
      "3537               0  \n",
      "3538               0  \n",
      "3539               0  \n",
      "3540               0  \n",
      "3541               0  \n",
      "\n",
      "[3542 rows x 17 columns]\n"
     ]
    }
   ],
   "source": [
    "print(df)"
   ]
  },
  {
   "cell_type": "code",
   "execution_count": null,
   "id": "391c29f2",
   "metadata": {},
   "outputs": [],
   "source": []
  }
 ],
 "metadata": {
  "kernelspec": {
   "display_name": "Python 3 (ipykernel)",
   "language": "python",
   "name": "python3"
  },
  "language_info": {
   "codemirror_mode": {
    "name": "ipython",
    "version": 3
   },
   "file_extension": ".py",
   "mimetype": "text/x-python",
   "name": "python",
   "nbconvert_exporter": "python",
   "pygments_lexer": "ipython3",
   "version": "3.9.4"
  }
 },
 "nbformat": 4,
 "nbformat_minor": 5
}
