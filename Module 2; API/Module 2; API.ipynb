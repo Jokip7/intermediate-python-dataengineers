{
 "cells": [
  {
   "cell_type": "markdown",
   "id": "4abca915",
   "metadata": {},
   "source": [
    "#### Module 1 API\n",
    "Deze training is onderdeel van de 2-daagse training Python; Data Engineering Fundamentals."
   ]
  },
  {
   "cell_type": "markdown",
   "id": "6969fc1d",
   "metadata": {},
   "source": [
    "1. Wat is een API. Kort ingaan op API, en wat ze kunnen. Daarna vooral de focus op dat ze resultaten terug geven, vaak in de vorm van een JSON bestand. Dit is vooral theorie. Daarna met verschillende API-urls kijken wat ze teruggeven. Vooral ook laten varieren in de urls.\n",
    "2. APIs geven dus wat terug. Maar hoe kan je deze resultaten verwerken? Dat kan met requests. Met de library requests kan je naar urls navigeren en resultaten ophalen, dus wat je in de browser ziet haal je dan vervolgens op. Vooral focus op requests en resultaat ophalen, en daarna er nog niks mee doen.\n",
    "3. Resultaat ophalen met requests. Wat dieper op ingaan.\n",
    "4. Navigation of APIs.\n",
    "4. Documentatie van requests. \n",
    "5. Responses van API, de codes even behandelen.\n",
    "6. Verschillende methodes van API behandelen.\n"
   ]
  },
  {
   "attachments": {
    "image.png": {
     "image/png": "[encoded data removed]"
    }
   },
   "cell_type": "markdown",
   "id": "37f1b576",
   "metadata": {},
   "source": [
    "### Section 1: What is an API? (15 min)\n",
    "\n",
    "REVISE PLEASE\n",
    "\n",
    "An Application Programming Interface, or an API, is a server that you can use to retrieve and send data to using code. \n",
    "APIs are most commonly used to retrieve data.\n",
    "\n",
    "When we want to receive data from an API, we need to make a request. \n",
    "Requests are used all over the web. For instance, when you visit a website, your web browser makes a request to that specific web server, which responded with the content of the corresponding web page.\n",
    "\n",
    "APIs work in the same way. You send a request to the server, and the API gives a response depending on your request. Take a look at the picture below for a simple overview.\n",
    "\n",
    "![image.png](attachment:image.png)\n",
    "\n",
    "- You don't need a programming language to access an API.\n",
    "- Have a look at the following link, which is an API. **LINK**\n",
    "- Using your webbrowser you made a request, and the API gave a response. Have a look at when you change the url. See what happens.\n",
    "- When looking at the response in you browser, it doesn't make too much sense. So let's use Python to make a little bit more sense. We'll use the library requests."
   ]
  },
  {
   "cell_type": "markdown",
   "id": "f3cdef16",
   "metadata": {},
   "source": [
    "### Section 2: Getting acces to an API using Python (30 min)\n",
    "\n",
    "REVISE PLEASE\n",
    "\n",
    "- The library requests is a very versatile library used for making requests, similar to what you did in the webbrowser.\n",
    "- We can use requests to retrieve the response of a request. It can be used for every URL, including APIs.\n",
    "- Let's look at one API for now. Select a nice API. Have a look at the documentation.\n",
    "- Give an example of sending a request.\n",
    "- Before we go into the entire response, focus on response codes. Give overview, and multiple examples.\n",
    "- Exercises, let's focus on response codes.\n",
    "\n",
    "- Then move on to the real deal. Real information from APIs.\n",
    "- Go into detail on requests.\n",
    "- Exercise: retrieve information from the API.  \n",
    "- That's how it easy it can be. The trick is how to process this information. Often they are JSON files.\n",
    "- You'll often have to check the documentation of the API, so let's have a look at that. "
   ]
  },
  {
   "cell_type": "markdown",
   "id": "c20a6a39",
   "metadata": {},
   "source": [
    "### Section 3: Retrieving information from APIs. (45 min)\n",
    "\n",
    "- There are a lot of APIs out there. For every piece of information there seems to be an API. The scraping days seem to be over.\n",
    "- Let's have a look at some of them. In the previous section, you saw how to retrieve information from an API using the requests library. In this section; a lot of exercises to do just that. And retrieve information from several different API's. Always have a look at the documentation!\n",
    "- Also use parameters.\n",
    "- Also use authentication.\n",
    "- Most important section."
   ]
  },
  {
   "cell_type": "markdown",
   "id": "b39a0132",
   "metadata": {},
   "source": [
    "### Section 4: Types of requests (15 min)\n",
    "\n",
    "- Up to now, we looked at getting information. But there are other types of responses. Let's play around with them.\n",
    "- The most important types are; POST, GET, PUT, and DELETE.\n",
    "- Exercises with these."
   ]
  },
  {
   "cell_type": "code",
   "execution_count": null,
   "id": "17e82b7c",
   "metadata": {},
   "outputs": [],
   "source": []
  },
  {
   "cell_type": "code",
   "execution_count": null,
   "id": "b1e3a979",
   "metadata": {},
   "outputs": [],
   "source": []
  },
  {
   "cell_type": "code",
   "execution_count": null,
   "id": "b9cadfa9",
   "metadata": {},
   "outputs": [],
   "source": []
  },
  {
   "cell_type": "code",
   "execution_count": null,
   "id": "a534c650",
   "metadata": {},
   "outputs": [],
   "source": []
  },
  {
   "cell_type": "code",
   "execution_count": null,
   "id": "0e373841",
   "metadata": {},
   "outputs": [],
   "source": []
  },
  {
   "cell_type": "code",
   "execution_count": null,
   "id": "98e38815",
   "metadata": {},
   "outputs": [],
   "source": []
  },
  {
   "cell_type": "code",
   "execution_count": null,
   "id": "a0fe5dd1",
   "metadata": {},
   "outputs": [],
   "source": []
  },
  {
   "cell_type": "code",
   "execution_count": null,
   "id": "5e7a3f21",
   "metadata": {},
   "outputs": [],
   "source": []
  },
  {
   "cell_type": "code",
   "execution_count": null,
   "id": "de9bce84",
   "metadata": {},
   "outputs": [],
   "source": []
  },
  {
   "cell_type": "code",
   "execution_count": null,
   "id": "fcb91e83",
   "metadata": {},
   "outputs": [],
   "source": []
  },
  {
   "cell_type": "code",
   "execution_count": null,
   "id": "ce0d23da",
   "metadata": {},
   "outputs": [],
   "source": []
  },
  {
   "cell_type": "code",
   "execution_count": null,
   "id": "31912580",
   "metadata": {},
   "outputs": [],
   "source": []
  }
 ],
 "metadata": {
  "kernelspec": {
   "display_name": "Python 3 (ipykernel)",
   "language": "python",
   "name": "python3"
  },
  "language_info": {
   "codemirror_mode": {
    "name": "ipython",
    "version": 3
   },
   "file_extension": ".py",
   "mimetype": "text/x-python",
   "name": "python",
   "nbconvert_exporter": "python",
   "pygments_lexer": "ipython3",
   "version": "3.9.4"
  }
 },
 "nbformat": 4,
 "nbformat_minor": 5
}
