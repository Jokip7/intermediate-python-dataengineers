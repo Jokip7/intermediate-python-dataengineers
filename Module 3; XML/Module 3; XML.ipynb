{
 "cells": [
  {
   "cell_type": "markdown",
   "id": "b82a17ed",
   "metadata": {},
   "source": [
    "### Section 1: Introduction to XML files (15 min)\n",
    "\n",
    "https://www.datacamp.com/tutorial/python-xml-elementtree\n",
    "\n",
    "- Extensible Markup Language. Mainly used on webpages. Tree-like structure.\n",
    "- XML files are tree-based hierarchical files. If you are familiar to HTML, then it will feel very similar. \n",
    "\n",
    "- XML are comprised of elements, each starting with a tag and ending with that same tag (enclosed in '<' and '>').\n",
    "- The characters between the starting tag and ending tag are the elements content.\n",
    "- Elements can contain other other elements, called children.\n",
    "- Elements can have attributes.\n",
    "- The highest level element is called the root.\n",
    "- Go through an example XML. Take your time.\n",
    "\n"
   ]
  },
  {
   "cell_type": "markdown",
   "id": "6d070ad0",
   "metadata": {},
   "source": [
    "### Section 2: How to parse XML files (45 min)\n",
    "\n",
    "- Introduce ElemetTree\n",
    "- Get the root.\n",
    "- Iterate over the XML, and retrieve elements, children, and attributes."
   ]
  },
  {
   "cell_type": "markdown",
   "id": "eb0df046",
   "metadata": {},
   "source": [
    "### Section 3: Xpaths (?) (15 min)"
   ]
  },
  {
   "cell_type": "markdown",
   "id": "ec79be9c",
   "metadata": {},
   "source": [
    "### Section 4: .glob (15 min)"
   ]
  },
  {
   "cell_type": "code",
   "execution_count": null,
   "id": "6a85561d",
   "metadata": {},
   "outputs": [],
   "source": []
  },
  {
   "cell_type": "code",
   "execution_count": null,
   "id": "fddccb90",
   "metadata": {},
   "outputs": [],
   "source": []
  }
 ],
 "metadata": {
  "kernelspec": {
   "display_name": "Python 3 (ipykernel)",
   "language": "python",
   "name": "python3"
  },
  "language_info": {
   "codemirror_mode": {
    "name": "ipython",
    "version": 3
   },
   "file_extension": ".py",
   "mimetype": "text/x-python",
   "name": "python",
   "nbconvert_exporter": "python",
   "pygments_lexer": "ipython3",
   "version": "3.9.4"
  }
 },
 "nbformat": 4,
 "nbformat_minor": 5
}
