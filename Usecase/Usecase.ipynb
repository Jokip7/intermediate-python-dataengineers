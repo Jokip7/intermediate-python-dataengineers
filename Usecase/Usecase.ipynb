{
 "cells": [
  {
   "cell_type": "markdown",
   "id": "dc5f5e90",
   "metadata": {},
   "source": [
    "# Usecase: Bringing (almost) everything together\n",
    "\n",
    "### Introduction\n",
    "Using a certain file as a starting point, we want to enrich the data we have, and store it locally at first, and later in an Azure Blob Storage. We will use the techniques and libraries from the previous modules, and combine it in this single usecase.\n",
    "\n",
    "### General overview\n",
    "1. Retrieve data from ‘movies.xml’, and store it in a directory, based on your own design.\n",
    "2. Use the data the access an [API](https://countrystatecity.in/docs/) and retrieve additional information on the countries. Store the information per country in separate JSON files.\n",
    "3. Convert the JSON files to pickle objects, and send them to an Azure Blob Storage.\n",
    "4. Create a logger that logs the entire process.\n",
    "\n",
    "The usecase is quite flexible. You can make use of the libraries as you see fit, and use your own methods to come to a suitable end. The most important wish is that the we want the data to be enriched using this specific [API](https://countrystatecity.in/docs/), and that the enriched JSON files are stored as pickle files in a Azure Blob Storage container.\n",
    "\n",
    "Enjoy!"
   ]
  },
  {
   "cell_type": "code",
   "execution_count": null,
   "id": "373a4c01",
   "metadata": {},
   "outputs": [],
   "source": [
    "# Import section, all potentially necessary libraries\n",
    "\n",
    "import json\n",
    "import requests\n",
    "import xml.etree.ElementTree as ET\n",
    "import pandas as pd\n",
    "import os\n",
    "import sys\n",
    "import pathlib\n",
    "import shutil\n",
    "import pickle\n",
    "import azure.storage.blob\n",
    "import logging"
   ]
  },
  {
   "cell_type": "code",
   "execution_count": null,
   "id": "6e5fe3f4",
   "metadata": {},
   "outputs": [],
   "source": []
  },
  {
   "cell_type": "code",
   "execution_count": null,
   "id": "30e8a4f3",
   "metadata": {},
   "outputs": [],
   "source": []
  }
 ],
 "metadata": {
  "kernelspec": {
   "display_name": "Python 3 (ipykernel)",
   "language": "python",
   "name": "python3"
  },
  "language_info": {
   "codemirror_mode": {
    "name": "ipython",
    "version": 3
   },
   "file_extension": ".py",
   "mimetype": "text/x-python",
   "name": "python",
   "nbconvert_exporter": "python",
   "pygments_lexer": "ipython3",
   "version": "3.9.4"
  }
 },
 "nbformat": 4,
 "nbformat_minor": 5
}
