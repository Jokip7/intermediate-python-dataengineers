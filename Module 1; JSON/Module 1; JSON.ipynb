{
 "cells": [
  {
   "cell_type": "markdown",
   "id": "5c83c99b",
   "metadata": {},
   "source": [
    "- There are lot of different file types, and some are more common then others. And others require more work than others. JSON is one of the most important file types, and XML files always have an interesting structure."
   ]
  },
  {
   "cell_type": "markdown",
   "id": "314541fe",
   "metadata": {},
   "source": [
    "### Section 1; Introduction to JSON (15 min)\n",
    "\n",
    "- First focus on JSON. **J**ava**S**cript **O**bject **N**otation. An universally adopted file type, that should be easy to read by machines and humans. You might also recognize it, as it is very similar to the dictionary object in Python.\n",
    "- Maybe a bit more explanation and history, and it's used everywhere.\n",
    "- Give an example of the structure.\n",
    "- Introduction on the combination of Python and JSON.\n",
    "- Introduce the json library."
   ]
  },
  {
   "cell_type": "markdown",
   "id": "7a7e4f36",
   "metadata": {},
   "source": [
    "### Section 2; From Python to JSON (15 min)\n",
    "\n",
    "- First create a dictionary, and let's convert that to JSON.\n",
    "- Convert a lot of examples to JSON structure.\n",
    "- Also, save several of them as JSON files.\n",
    "- Give an overview of the variable changes.\n",
    "- A nice thing; you can do things with the format to make it more readable."
   ]
  },
  {
   "cell_type": "markdown",
   "id": "5d83a951",
   "metadata": {},
   "source": [
    "### Section 3; From JSON to Python (15 min)\n",
    "\n",
    "- Get a JSON file (using requests).\n",
    "- Let's parse that JSON file. json.loads. Should be easy."
   ]
  },
  {
   "cell_type": "markdown",
   "id": "aa7902ef",
   "metadata": {},
   "source": [
    "### Section 4: Parse nested JSON files. (60 min?)\n",
    "\n",
    "- Use a large, nested JSON file.\n",
    "- Give exercises to retrieve information from them."
   ]
  },
  {
   "cell_type": "markdown",
   "id": "5d1b288d",
   "metadata": {},
   "source": []
  },
  {
   "cell_type": "code",
   "execution_count": null,
   "id": "358b15fb",
   "metadata": {},
   "outputs": [],
   "source": []
  },
  {
   "cell_type": "code",
   "execution_count": null,
   "id": "5462f2bc",
   "metadata": {},
   "outputs": [],
   "source": []
  },
  {
   "cell_type": "code",
   "execution_count": null,
   "id": "40d18113",
   "metadata": {},
   "outputs": [],
   "source": []
  },
  {
   "cell_type": "code",
   "execution_count": null,
   "id": "6470c35a",
   "metadata": {},
   "outputs": [],
   "source": []
  },
  {
   "cell_type": "code",
   "execution_count": null,
   "id": "98c0f3ac",
   "metadata": {},
   "outputs": [],
   "source": []
  }
 ],
 "metadata": {
  "kernelspec": {
   "display_name": "Python 3 (ipykernel)",
   "language": "python",
   "name": "python3"
  },
  "language_info": {
   "codemirror_mode": {
    "name": "ipython",
    "version": 3
   },
   "file_extension": ".py",
   "mimetype": "text/x-python",
   "name": "python",
   "nbconvert_exporter": "python",
   "pygments_lexer": "ipython3",
   "version": "3.9.4"
  }
 },
 "nbformat": 4,
 "nbformat_minor": 5
}
