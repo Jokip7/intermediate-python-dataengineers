{
 "cells": [
  {
   "cell_type": "markdown",
   "id": "5c83c99b",
   "metadata": {},
   "source": [
    "# Module 1: JSON files\n",
    "\n",
    "There are lot of different file types, and some are more common then others. And others require more work than others. JSON is one of the most important file types.\n",
    "\n",
    "During this training we will go into detail about JSON files, and how to work with them. For those familiar with Python and dictionaries, it will feel quite similar. During the training we will follow the following outline:\n",
    "1. JSON file basics\n",
    "2. The json library\n",
    "3. Navigating a JSON file structure\n",
    "4. JSON to information\n",
    "5. Nested JSON files\n",
    "\n",
    "Enjoy!"
   ]
  },
  {
   "cell_type": "markdown",
   "id": "2a4e9a91",
   "metadata": {},
   "source": [
    "## Section 1: JSON file basics"
   ]
  },
  {
   "cell_type": "markdown",
   "id": "cd8513b8",
   "metadata": {},
   "source": [
    "JSON, or **J**ava**S**cript **O**bject **N**otation, is one of the golden standards for information exhange in the world of data. When transporting data, for example throught an API, then JSON is the way to go. JSON has been built to be readable by a lot of programming languages, and that includes Python.\n",
    "\n",
    "Due to its structure, and its widespread availability and accessability, knowledge about JSON is essential for an aspiring data engineer. So let's have a look at those so called JSON files. In the example below we will retrieve a JSON file through an API. The example is about Game of Thrones."
   ]
  },
  {
   "cell_type": "code",
   "execution_count": null,
   "id": "8d7049e8",
   "metadata": {},
   "outputs": [],
   "source": [
    "import requests\n",
    "import pprint\n",
    "\n",
    "URL = \"https://anapioficeandfire.com/api/characters/583\"\n",
    "jon_snow_json = requests.get(URL).json()\n",
    "\n",
    "pprint.pprint(jon_snow_json)"
   ]
  },
  {
   "cell_type": "markdown",
   "id": "12d4b637",
   "metadata": {},
   "source": [
    "The example above shows the structure of a JSON file. And as you can see, a JSON file is very structured. \n",
    "JSON files are based on key-value pairs. With each key corresponding to a specific file. The keys can be used to navigate around the JSON file.\n",
    "One important thing to note is that JSON files are extremely flexible. Almost any key can be used.\n",
    "There is also a lot of flexibility in the values of the JSON."
   ]
  },
  {
   "cell_type": "markdown",
   "id": "7a7496d4",
   "metadata": {},
   "source": [
    "The JSON example above is retrieved from a service about the world of Game of Thrones (spoilers). We retrieved information about Jon Snow, an important character in the books and show. The JSON file contains information about this character. Each key contains values with information about what is known. For example, you can see the following things in the JSON file.\n",
    "- The name, which is of course Jon Snow.\n",
    "- There is also information about the father, and the mother (both are empty in this case).\n",
    "- We can find which seasons and which books the character is present.\n",
    "- And, interestingly, a list of aliases for the character.\n",
    "\n",
    "If you look closely in the JSON, you can find these points of information, as well as other information.\n",
    "\n",
    "One thing to remember is that you can see a JSON as one long string. And using Python (and the json library) we can decode those strings and work with them. Also, we can encode Python objects as JSON strings. We can do these things with the json library. \n",
    "\n",
    "For those with experience in Python; a JSON structure is very similar to the structure of a Python dictionary."
   ]
  },
  {
   "cell_type": "markdown",
   "id": "4ecc8391",
   "metadata": {},
   "source": [
    "## Section 2: The json library"
   ]
  },
  {
   "cell_type": "markdown",
   "id": "bd69fe7d",
   "metadata": {},
   "source": [
    "Now that we had a look at the structure of a JSON file, we want to work with it! And we want to work with in Python!\n",
    "For working with JSON files we can use the appropriately named json library.\n",
    "\n",
    "With the json library we can do a lot of things regarding json files, including:\n",
    "- Decode JSON files so that we can use them within Python.\n",
    "- Encode Python objects so that we can store them as JSON files."
   ]
  },
  {
   "cell_type": "markdown",
   "id": "fc4ce30a",
   "metadata": {},
   "source": [
    "The json library is essential in working with JSON files within Python. As with (almost) all decent libraries, there is an extensive amount of documentation that can help you understand the functionalities of the library. \n",
    "\n",
    "While working with Python it is essential that you learn how to read documentation. This will help speed your work up, and improve your understanding of the library. So, have a look: https://docs.python.org/3/library/json.html. "
   ]
  },
  {
   "cell_type": "markdown",
   "id": "4cd26b11",
   "metadata": {},
   "source": [
    "Let's see what we can do with the json library. We're going to have a look at four of the functionalities of the library:\n",
    "- json.dumps\n",
    "- json.dump\n",
    "- json.loads\n",
    "- json.load"
   ]
  },
  {
   "cell_type": "markdown",
   "id": "e8201728",
   "metadata": {},
   "source": [
    "Let's first create a Python dictionary that we can use as a basis for our examples. See below."
   ]
  },
  {
   "cell_type": "code",
   "execution_count": null,
   "id": "b5487099",
   "metadata": {},
   "outputs": [],
   "source": [
    "import json\n",
    "\n",
    "json_structure_example = {\"name\": \"Roger Federer\",\n",
    "                          \"age\": 40,\n",
    "                          \"occupation\": \"Professional tennis player\"}"
   ]
  },
  {
   "cell_type": "markdown",
   "id": "44335983",
   "metadata": {},
   "source": [
    "Using the method of 'json.dumps' we can convert the Python dictionary to a JSON string. In that way Python will see it as a string."
   ]
  },
  {
   "cell_type": "code",
   "execution_count": null,
   "id": "5d94999e",
   "metadata": {},
   "outputs": [],
   "source": [
    "# Use json.dumps\n",
    "json_string = json.dumps(json_structure)\n",
    "\n",
    "print(json_string)\n",
    "print(type(json_string))"
   ]
  },
  {
   "cell_type": "markdown",
   "id": "2c9e9e40",
   "metadata": {},
   "source": [
    "We can also save our created dictionary as a JSON file. We can use the method of 'json.dump'."
   ]
  },
  {
   "cell_type": "code",
   "execution_count": null,
   "id": "c8ab29b1",
   "metadata": {},
   "outputs": [],
   "source": [
    "# Use json.dump\n",
    "file_name = \"my_first_json.json\"\n",
    "\n",
    "with open(file_name, \"w\") as file:\n",
    "    json.dump(json_structure, file, indent=4)"
   ]
  },
  {
   "cell_type": "markdown",
   "id": "6edccfa6",
   "metadata": {},
   "source": [
    "So, we can use the 'json.dumps' to create a JSON string, and we can use the 'json.dump' to create a JSON string and save it as a JSON file.\n",
    "\n",
    "Now let's look at reading JSON files. The 'json.loads' can read JSON strings and convert them to Python dictionaries."
   ]
  },
  {
   "cell_type": "code",
   "execution_count": null,
   "id": "051dcf5b",
   "metadata": {},
   "outputs": [],
   "source": [
    "print(json_string)\n",
    "print(type(json_string))\n",
    "\n",
    "converted_json_string = json.loads(json_string)\n",
    "print(converted_json_string)\n",
    "print(type(converted_json_string))"
   ]
  },
  {
   "cell_type": "markdown",
   "id": "d066fb4f",
   "metadata": {},
   "source": [
    "And using the 'json.load' method, we can read JSON files and load them as Python dictionaries."
   ]
  },
  {
   "cell_type": "code",
   "execution_count": null,
   "id": "987cdfbc",
   "metadata": {},
   "outputs": [],
   "source": [
    "file_name = \"my_first_json.json\"\n",
    "\n",
    "with open(\"my_first_json.json\", \"r\") as file:\n",
    "    loaded_json = json.load(file)\n",
    "\n",
    "print(loaded_json)"
   ]
  },
  {
   "cell_type": "markdown",
   "id": "a38049c2",
   "metadata": {},
   "source": [
    "Now that we seen the most important methods of the json library, it's your turn to try them out. Please complete the following assigments."
   ]
  },
  {
   "cell_type": "markdown",
   "id": "d9fa5684",
   "metadata": {},
   "source": [
    "#### Assignment 1: The json library 1\n",
    "\n",
    "Create your own Python dictionary, with your name, age and occupation."
   ]
  },
  {
   "cell_type": "code",
   "execution_count": null,
   "id": "23d57cb6",
   "metadata": {},
   "outputs": [],
   "source": [
    "### FILL IN\n",
    "my_dictionary = {\"name\": \"\",\n",
    "                 \"age\": 0,\n",
    "                 \"occupation\": \"\"}"
   ]
  },
  {
   "cell_type": "markdown",
   "id": "3554f46e",
   "metadata": {},
   "source": [
    "#### Assignment 2: The json library 2\n",
    "\n",
    "Convert your dictionary to a JSON string, and print it.\n",
    "Use the 'json.dumps' method."
   ]
  },
  {
   "cell_type": "code",
   "execution_count": null,
   "id": "2b868528",
   "metadata": {},
   "outputs": [],
   "source": [
    "### FILL IN"
   ]
  },
  {
   "cell_type": "markdown",
   "id": "252777be",
   "metadata": {},
   "source": [
    "#### Assignment 3: The json library 3\n",
    "\n",
    "Save your dictionary as a JSON file with the name \"my_second_json.json\".\n",
    "Use the json.dump' method."
   ]
  },
  {
   "cell_type": "code",
   "execution_count": null,
   "id": "d14be79f",
   "metadata": {},
   "outputs": [],
   "source": [
    "### FILL IN"
   ]
  },
  {
   "cell_type": "markdown",
   "id": "58a4a101",
   "metadata": {},
   "source": [
    "#### Assignment 4: The json library 4\n",
    "\n",
    "Read your save JSON file and print it. It should have the name: \"my_second_json.json\".\n",
    "Use the 'json.load' method."
   ]
  },
  {
   "cell_type": "code",
   "execution_count": null,
   "id": "c0476123",
   "metadata": {},
   "outputs": [],
   "source": [
    "### FILL IN"
   ]
  },
  {
   "cell_type": "markdown",
   "id": "a11b8906",
   "metadata": {},
   "source": [
    "#### Assignment 5: The json library 5\n",
    "\n",
    "Create a JSON string from your Python dictionary, and than convert it back to a Python dictionary.\n",
    "First use the 'json.dumps' method, and then use the 'json.loads' method."
   ]
  },
  {
   "cell_type": "code",
   "execution_count": null,
   "id": "71695acd",
   "metadata": {},
   "outputs": [],
   "source": [
    "### FILL IN"
   ]
  },
  {
   "cell_type": "markdown",
   "id": "9de48a42",
   "metadata": {},
   "source": [
    "Good job! These steps should give you some insight in how JSON files are structured, and how we can read, load and save them within Python."
   ]
  },
  {
   "cell_type": "markdown",
   "id": "fb89a2e4",
   "metadata": {},
   "source": [
    "## Section 3: Navigating a JSON file structure"
   ]
  },
  {
   "cell_type": "markdown",
   "id": "870d0d0f",
   "metadata": {},
   "source": [
    "We had a touch of the json library. We had our first of taste of saving a json file and loading a json file.\n",
    "Let's move on to the most important part of JSON files. Navigating them.\n",
    "\n",
    "The json library can convert a JSON file to a Python dictionary, and that's how can navigate it. This means that you can index JSON files by their keys.\n",
    "\n",
    "Let's have a look at an example. "
   ]
  },
  {
   "cell_type": "code",
   "execution_count": null,
   "id": "4f3f4302",
   "metadata": {},
   "outputs": [],
   "source": [
    "### You can retrieve any key of a dictionary by indexing it on the dictionary.\n",
    "json_structure_example = {\"name\": \"Roger Federer\",\n",
    "                          \"age\": 40,\n",
    "                          \"occupation\": \"Professional tennis player\"}\n",
    "\n",
    "print(json_structure_example[\"name\"])"
   ]
  },
  {
   "cell_type": "code",
   "execution_count": null,
   "id": "a6f2e7a8",
   "metadata": {},
   "outputs": [],
   "source": [
    "for key in json_structure_example:\n",
    "    print(key)\n",
    "    print(json_structure_example[key])"
   ]
  },
  {
   "cell_type": "markdown",
   "id": "a0a43248",
   "metadata": {},
   "source": [
    "This is how you can access information in JSON files. Now it's your turn to try it. Let's use the example about Jon Snow."
   ]
  },
  {
   "cell_type": "code",
   "execution_count": null,
   "id": "c92701cb",
   "metadata": {},
   "outputs": [],
   "source": [
    "import requests\n",
    "import pprint\n",
    "\n",
    "URL = \"https://anapioficeandfire.com/api/characters/583\"\n",
    "jon_snow_json = requests.get(URL).json()\n",
    "\n",
    "pprint.pprint(jon_snow_json)"
   ]
  },
  {
   "cell_type": "markdown",
   "id": "28dc3c49",
   "metadata": {},
   "source": [
    "In the following assignments you will try and navigate the JSON file."
   ]
  },
  {
   "cell_type": "markdown",
   "id": "b8c346f9",
   "metadata": {},
   "source": [
    "#### Assignment 7: Navigating a JSON file structure 1\n",
    "\n",
    "From the 'jon_snow_json', print all keys.\n",
    "Use a for loop."
   ]
  },
  {
   "cell_type": "code",
   "execution_count": null,
   "id": "36f55dd1",
   "metadata": {},
   "outputs": [],
   "source": [
    "### FILL IN"
   ]
  },
  {
   "cell_type": "markdown",
   "id": "b557f065",
   "metadata": {},
   "source": [
    "#### Assignment 7: Navigating a JSON file structure 2\n",
    "\n",
    "From the 'jon_snow_json', print all keys that have None values.\n",
    "Use a for loop."
   ]
  },
  {
   "cell_type": "code",
   "execution_count": null,
   "id": "172e6768",
   "metadata": {},
   "outputs": [],
   "source": [
    "### FILL IN"
   ]
  },
  {
   "cell_type": "markdown",
   "id": "216e1c13",
   "metadata": {},
   "source": [
    "#### Assignment 8: Navigating a JSON file structure 3\n",
    "\n",
    "From the 'jon_snow_json', print every value that is part of a list.\n",
    "Use a for loop."
   ]
  },
  {
   "cell_type": "code",
   "execution_count": null,
   "id": "c05e6dd6",
   "metadata": {},
   "outputs": [],
   "source": [
    "### FILL IN"
   ]
  },
  {
   "cell_type": "markdown",
   "id": "b2744f21",
   "metadata": {},
   "source": [
    "JSON files can also be manipulated. You can add or adjust information according to your views. In the following assignments we will have a small taste of that."
   ]
  },
  {
   "cell_type": "markdown",
   "id": "663d2573",
   "metadata": {},
   "source": [
    "#### Assignment 9: Navigating a JSON file structure 4\n",
    "\n",
    "In the loaded json, add the following values for the following keys.\n",
    "'mother': 'Lyanna Stark'\n",
    "'father': 'Rhaeger Targaryen'"
   ]
  },
  {
   "cell_type": "code",
   "execution_count": null,
   "id": "b571b969",
   "metadata": {},
   "outputs": [],
   "source": [
    "### FILL IN"
   ]
  },
  {
   "cell_type": "markdown",
   "id": "532c9869",
   "metadata": {},
   "source": [
    "#### Assignment 10: Navigating a JSON file structure 5\n",
    "\n",
    "In the loaded json, add the following values to the 'tvSeries' key; 'Season 7' and 'Season 8'."
   ]
  },
  {
   "cell_type": "code",
   "execution_count": null,
   "id": "6d60f815",
   "metadata": {},
   "outputs": [],
   "source": [
    "### FILL IN"
   ]
  },
  {
   "cell_type": "markdown",
   "id": "5a26bff4",
   "metadata": {},
   "source": [
    "Great job! Keep it going! :)"
   ]
  },
  {
   "cell_type": "markdown",
   "id": "3c9f5b45",
   "metadata": {},
   "source": [
    "## Section 4: JSON to information"
   ]
  },
  {
   "cell_type": "markdown",
   "id": "01501f43",
   "metadata": {},
   "source": [
    "Manipulating a json file through a dictionary is quite straightforward. But the complexity changes with larger json files and dictionaries. The most important skill to develop is retrieving and storing information from JSON files / dictionaries. \n",
    "\n",
    "JSON files are readable by computers and by humans. But sometimes you'll want to convert a JSON file to another structure, such as lists or pandas DataFrames. In this section we'll have a look at extracting information from JSON files.\n",
    "\n",
    "First we'll download a larger JSON file. And then you'll get to work on some larger assignments."
   ]
  },
  {
   "cell_type": "code",
   "execution_count": null,
   "id": "8ad9ba0a",
   "metadata": {},
   "outputs": [],
   "source": [
    "import requests\n",
    "import pprint\n",
    "\n",
    "URL = \"https://anapioficeandfire.com/api/houses\"\n",
    "larger_json_file_1 = requests.get(URL, params={\"region\": \"The North\", \"page\": 5}).json()\n",
    "\n",
    "# Print the first entry in the JSON file.\n",
    "pprint.pprint(larger_json_file_1)"
   ]
  },
  {
   "cell_type": "markdown",
   "id": "c97556b4",
   "metadata": {},
   "source": [
    "We retrieved another JSON file. As you can see, this is a larger file. This file contains information on some houses present in the world of Game of Thrones. There are 10 entries in total."
   ]
  },
  {
   "cell_type": "markdown",
   "id": "9bd617de",
   "metadata": {},
   "source": [
    "#### Assignment 11: JSON to information 1\n",
    "\n",
    "Retrieve all values for the following keys; 'name', 'region', 'coatOfArms', 'words', and put them in separate lists. \n",
    "Use a for loop to fill the lists."
   ]
  },
  {
   "cell_type": "code",
   "execution_count": null,
   "id": "7cff0adc",
   "metadata": {},
   "outputs": [],
   "source": [
    "### FILL IN"
   ]
  },
  {
   "cell_type": "markdown",
   "id": "dbd00b6c",
   "metadata": {},
   "source": [
    "#### Assigment 12: JSON to information 2\n",
    "\n",
    "Create a pandas dataframe with information for each house from the JSON file. The following pieces of information should be present in the columns: 'name', 'region', 'coatOfArms', 'words', 'seats', 'titles', 'currentLord'.\n",
    "Use a for loop to fill the pandas dataframe."
   ]
  },
  {
   "cell_type": "code",
   "execution_count": null,
   "id": "3204a17f",
   "metadata": {},
   "outputs": [],
   "source": [
    "### FILL IN"
   ]
  },
  {
   "cell_type": "markdown",
   "id": "cbf5b714",
   "metadata": {},
   "source": [
    "Now let's retrieve another JSON file. It's important to work with a few different files with a bit of variation. This will help you understand the structure of JSON files even better."
   ]
  },
  {
   "cell_type": "code",
   "execution_count": null,
   "id": "580c1d4a",
   "metadata": {},
   "outputs": [],
   "source": [
    "import requests\n",
    "import pprint\n",
    "\n",
    "URL = \"http://hp-api.herokuapp.com/api/characters\"\n",
    "potter_json = requests.get(URL).json()\n",
    "\n",
    "# Print the first entry in the JSON file.\n",
    "pprint.pprint(potter_json)"
   ]
  },
  {
   "cell_type": "markdown",
   "id": "85ec4f76",
   "metadata": {},
   "source": [
    "We just retrieved an even larger JSON file on Harry Potter characters. Now it's your turn to retrieve information from this JSON file and convert it to a pandas DataFrame."
   ]
  },
  {
   "cell_type": "markdown",
   "id": "6de705b9",
   "metadata": {},
   "source": [
    "#### Assigment 13: JSON to information 3\n",
    "\n",
    "Fill lists with information on each character from the JSON file. The following pieces of information should be present in the separate lists: 'name', 'actor', 'dateOfBirth', 'gender', 'eyeColour'.\n",
    "Use a for loop to fill the lists."
   ]
  },
  {
   "cell_type": "code",
   "execution_count": null,
   "id": "0e5c768d",
   "metadata": {},
   "outputs": [],
   "source": [
    "### FILL IN"
   ]
  },
  {
   "cell_type": "markdown",
   "id": "00d2091e",
   "metadata": {},
   "source": [
    "#### Assigment 14: JSON to information 4\n",
    "\n",
    "Create a pandas dataframe with the information for characters from the JSON file, but only for characters that are wizards. Use the 'wizard' key in order to determine whether a character is a wizard.\n",
    "\n",
    "The following pieces of information should be present in the columns: 'name', 'house', 'wand', 'patronus'.\n",
    "Use a for loop to fill the pandas dataframe."
   ]
  },
  {
   "cell_type": "code",
   "execution_count": null,
   "id": "e4d30327",
   "metadata": {},
   "outputs": [],
   "source": [
    "### FILL IN"
   ]
  },
  {
   "cell_type": "markdown",
   "id": "657851ed",
   "metadata": {},
   "source": [
    "#### Assigment 15: JSON to information 5\n",
    "\n",
    "Create a pandas dataframe with information on the characters and their wands in the JSON file, but only for characters that have wands. Have a closer look at the 'wand' key.\n",
    "\n",
    "The following pieces of information should be present in the columns: 'name', 'core', 'length', 'wood'.\n",
    "Use a for loop to fill the pandas dataframe."
   ]
  },
  {
   "cell_type": "code",
   "execution_count": null,
   "id": "2666b878",
   "metadata": {},
   "outputs": [],
   "source": [
    "### FILL IN."
   ]
  },
  {
   "cell_type": "markdown",
   "id": "2e3c8973",
   "metadata": {},
   "source": [
    "#### Assigment 16: JSON to information 6\n",
    "\n",
    "This is smaller, easier assignment. Use the powerfull pandas library in order to read the JSON file, and convert it at once to a pandas DataFrame.\n",
    "Use the pandas.read_json (https://pandas.pydata.org/docs/reference/api/pandas.read_json.html) method."
   ]
  },
  {
   "cell_type": "code",
   "execution_count": null,
   "id": "fbc84540",
   "metadata": {},
   "outputs": [],
   "source": [
    "### FILL IN"
   ]
  },
  {
   "cell_type": "markdown",
   "id": "a619b1e4",
   "metadata": {},
   "source": [
    "## Section 5: Nested JSON files\n",
    "\n",
    "Up until now the JSON files were quite clear and structured. But sometimes the structure of JSON files can become more and more complex when objects are nested within other objects. For those familiar with Python, you can see it as dictionaries within dictionaries. Depending on the size it can be quite difficult to work with, but with enough knowledge of the structure you should be able to quickly work with it.\n",
    "\n",
    "Let's have a look at an example."
   ]
  },
  {
   "cell_type": "code",
   "execution_count": null,
   "id": "c75358d1",
   "metadata": {},
   "outputs": [],
   "source": [
    "# Nested JSON example.\n",
    "import json\n",
    "\n",
    "nested_json = {\"species\": \"Tiger\",\n",
    "               \"binomial_name\": \"Panthera tigris\",\n",
    "               \"status\": \"Endangered\",\n",
    "               \"subspecies\": [{\"name\" : \"Amur tiger\",\n",
    "                               \"binomial_name\": \"Panthera tigris altaica\",\n",
    "                               \"status\": \"Endangered\"},\n",
    "                             {\"name\" : \"Bengal tiger\",\n",
    "                               \"binomial_name\": \"Panthera tigris tigris\",\n",
    "                               \"status\": \"Endangered\"},\n",
    "                             {\"name\" : \"South China tiger\",\n",
    "                               \"binomial_name\": \"Panthera tigris amoyensis\",\n",
    "                               \"status\": \"Critically Endangered\"},\n",
    "                             {\"name\" : \"Malayan tiger\",\n",
    "                               \"binomial_name\": \"Panthera tigris jacksoni\",\n",
    "                               \"status\": \"\"},\n",
    "                             {\"name\" : \"Indo-Chinese tiger\",\n",
    "                               \"binomial_name\": \"Panthera tigris corbetti\",\n",
    "                               \"status\": \"\"},\n",
    "                             {\"name\" : \"Sumatran tiger\",\n",
    "                               \"binomial_name\": \"Panthera tigris sumatrae\",\n",
    "                               \"status\": \"Critically endangered\"},\n",
    "                             {\"name\" : \"Bali tiger\",\n",
    "                               \"binomial_name\": \"Panthera tigris balica\",\n",
    "                               \"status\": \"Extinct\"},\n",
    "                             {\"name\" : \"Javan tiger\",\n",
    "                               \"binomial_name\": \"Panthera tigris sondaica\",\n",
    "                               \"status\": \"Extinct\"},\n",
    "                             {\"name\" : \"Caspian tiger\",\n",
    "                               \"binomial_name\": \"Panthera tigris virgata\",\n",
    "                               \"status\": \"Extinct\"}],\n",
    "               }\n",
    "\n",
    "print(json.dumps(nested_json, indent=4))"
   ]
  },
  {
   "cell_type": "markdown",
   "id": "0a844f3f",
   "metadata": {},
   "source": [
    "As you can see, the structure remains visible. The most important aspect to note is that nested JSON objects can have keys with the same as other levels within the entire JSON object. See below for an example illustrating keys with double names. "
   ]
  },
  {
   "cell_type": "code",
   "execution_count": null,
   "id": "eccbcfcd",
   "metadata": {},
   "outputs": [],
   "source": [
    "# EXAMPLE\n",
    "print(nested_json[\"binomial_name\"])\n",
    "print(nested_json['subspecies'][0][\"binomial_name\"])"
   ]
  },
  {
   "cell_type": "markdown",
   "id": "c47648ae",
   "metadata": {},
   "source": [
    "The example above illustrates that a nested JSON is too different from a simpler JSON. It only requires more attention to the structure, and more attention to the navigation within the JSON. Let's try it out. Below are some assignments. First we'll retrieve a nested JSON. Below you'll see a large nested JSON about Pikachu."
   ]
  },
  {
   "cell_type": "code",
   "execution_count": null,
   "id": "12324edf",
   "metadata": {},
   "outputs": [],
   "source": [
    "import requests\n",
    "import pprint\n",
    "\n",
    "URL = \"https://pokeapi.co/api/v2/pokemon/pikachu\"\n",
    "nested_json = requests.get(URL).json()\n",
    "\n",
    "# Print the first entry in the JSON file.\n",
    "pprint.pprint(nested_json)"
   ]
  },
  {
   "cell_type": "markdown",
   "id": "d827d829",
   "metadata": {},
   "source": [
    "#### Assigment 17: Nested JSON files 1\n",
    "\n",
    "Create a pandas DataFrame with each move Pikachu can perform from the game/version_group gold-silver.\n",
    "\n",
    "Information that needs to be present in the DataFrame: 'name', 'level_learned_at', 'move_learn_method'."
   ]
  },
  {
   "cell_type": "code",
   "execution_count": null,
   "id": "198acad7",
   "metadata": {},
   "outputs": [],
   "source": [
    "### FILL IN"
   ]
  },
  {
   "cell_type": "markdown",
   "id": "7df3fea6",
   "metadata": {},
   "source": [
    "#### Assigment 18: Nested JSON files 2\n",
    "\n",
    "Create your own dictionary with each game/version-group as a key. As value, have a counter for the number of occurences for each game/version-group. Lastly, safe the dictionary as a JSON file."
   ]
  },
  {
   "cell_type": "code",
   "execution_count": null,
   "id": "c458d141",
   "metadata": {},
   "outputs": [],
   "source": [
    "### FILL IN"
   ]
  }
 ],
 "metadata": {
  "kernelspec": {
   "display_name": "Python 3 (ipykernel)",
   "language": "python",
   "name": "python3"
  },
  "language_info": {
   "codemirror_mode": {
    "name": "ipython",
    "version": 3
   },
   "file_extension": ".py",
   "mimetype": "text/x-python",
   "name": "python",
   "nbconvert_exporter": "python",
   "pygments_lexer": "ipython3",
   "version": "3.9.4"
  }
 },
 "nbformat": 4,
 "nbformat_minor": 5
}
